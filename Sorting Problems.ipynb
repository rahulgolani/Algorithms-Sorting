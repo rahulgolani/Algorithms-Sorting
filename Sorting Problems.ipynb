{
 "cells": [
  {
   "cell_type": "markdown",
   "metadata": {},
   "source": [
    "# Comparators"
   ]
  },
  {
   "cell_type": "markdown",
   "metadata": {},
   "source": [
    "When the data you want to sort is an array or list of mobjects, and these objects have several attributes. If you had an array of integers or an array of strings,\n",
    "it’s pretty obvious what is being sorted! Your favorite programming language is already smart enough\n",
    "to know how to sort simple data like numbers and strings. But suppose you had a list of planet objects.\n",
    "Each planet might have four attributes: name, number of moons, distance from the sun, and mass. You\n",
    "could conceivably desire to sort your planets on any one of these attributes."
   ]
  },
  {
   "cell_type": "markdown",
   "metadata": {},
   "source": [
    "<pre>\n",
    "Writing a comparator entails writing a function that takes two objects of the same type. Suppose we\n",
    "call these two objects obj1 and obj2. The comparator function will return an integer. There are three\n",
    "possibilities.\n",
    "• If obj1 should appear before obj2 in a sorted list, then we return a negative number.\n",
    "• If obj1 should appear after obj2 in a sorted list, then we return a positive number.\n",
    "• If we don’t care which object comes first (because they might be equal), then we return zero.\n",
    "By “negative number” and “positive number”, it does not matter exactly which integer you return. By\n",
    "convention, we would return –1 or +1, or you may decide to “subtract” the object values, if that makes\n",
    "sense. (Note that the way that comparators are defined implies that by default we would expect lists to\n",
    "be sorted in ascending order.)\n",
    "</pre>"
   ]
  },
  {
   "cell_type": "markdown",
   "metadata": {},
   "source": [
    "<pre>\n",
    "To illustrate, suppose we had the following data about countries. Let’s see how we would allow a\n",
    "program to sort on any of the three columns (attributes).\n",
    "Name Dialing code Population (millions)\n",
    "India 91 1148\n",
    "China 86 1321\n",
    "New Zealand 64 5\n",
    "France 33 65\n",
    "Mexico 52 110\n",
    "</pre>"
   ]
  },
  {
   "cell_type": "code",
   "execution_count": 3,
   "metadata": {},
   "outputs": [
    {
     "name": "stdout",
     "output_type": "stream",
     "text": [
      "[['France', 33, 65], ['Mexico', 52, 110], ['New Zealand', 64, 5], ['China', 86, 1321], ['India', 91, 1148]]\n"
     ]
    }
   ],
   "source": [
    "from functools import cmp_to_key\n",
    "\n",
    "class Country:\n",
    "\n",
    "    def __init__(self,name,code,population):\n",
    "        self.name=name\n",
    "        self.code=code\n",
    "        self.population=population\n",
    "\n",
    "    def byAlpha(countryA,countryB):\n",
    "        if countryA[0]<countryB[0]:\n",
    "            return -1\n",
    "        elif countryA[0]>countryB[0]:\n",
    "            return 1\n",
    "        else:\n",
    "            return 0\n",
    "\n",
    "    def byCode(countryA,countryB):\n",
    "        if countryA[1]<countryB[1]:\n",
    "            return -1\n",
    "        elif countryA[1]>countryB[1]:\n",
    "            return 1\n",
    "        else:\n",
    "            return 0\n",
    "\n",
    "    def byPopulation(countryA,countryB):\n",
    "        if countryA[2]<countryB[2]:\n",
    "            return -1\n",
    "        elif countryA[2]>countryB[2]:\n",
    "            return 1\n",
    "        else:\n",
    "            return 0\n",
    "\n",
    "\n",
    "def sortArray(country):\n",
    "    country=sorted(country,key=cmp_to_key(Country.byCode))\n",
    "    print(country)\n",
    "\n",
    "if __name__ == '__main__':\n",
    "    country=[[\"India\", 91, 1148],[\"China\", 86, 1321], [\"New Zealand\", 64, 5], [\"France\", 33, 65], [\"Mexico\", 52, 110]]\n",
    "    sortArray(country)\n"
   ]
  },
  {
   "cell_type": "markdown",
   "metadata": {},
   "source": [
    "# Sort elements by frequency"
   ]
  },
  {
   "cell_type": "markdown",
   "metadata": {},
   "source": [
    "Print the elements of an array in the decreasing frequency if 2 numbers have same frequency then print the one which came first. "
   ]
  },
  {
   "cell_type": "markdown",
   "metadata": {},
   "source": [
    "Approach- Hashing and Sorting"
   ]
  },
  {
   "cell_type": "code",
   "execution_count": 4,
   "metadata": {},
   "outputs": [
    {
     "name": "stdout",
     "output_type": "stream",
     "text": [
      "8 8 8 2 2 5 5 6 -1 9999999 "
     ]
    }
   ],
   "source": [
    "from functools import cmp_to_key\n",
    "\n",
    "map={}\n",
    "\n",
    "def compare(a,b):\n",
    "    if map[a][1]<map[b][1]:\n",
    "        return 1\n",
    "    elif map[a][1]>map[b][1]:\n",
    "        return -1\n",
    "    else:\n",
    "        if map[a][0]<map[b][0]:\n",
    "            return -1\n",
    "        elif map[a][0]>map[b][0]:\n",
    "            return 1\n",
    "        else:\n",
    "            return 0\n",
    "\n",
    "def sortByFrequency(arr):\n",
    "    n=len(arr)\n",
    "    # map={}\n",
    "    for i in range(n):\n",
    "        if arr[i] in map:\n",
    "            map[arr[i]][1]+=1\n",
    "        else:\n",
    "            map[arr[i]]=[i,1]\n",
    "    # print(map)\n",
    "\n",
    "    sortedEle=sorted(map,key=cmp_to_key(compare))\n",
    "    for i in range(len(sortedEle)):\n",
    "        for j in range(map[sortedEle[i]][1]):\n",
    "            print(sortedEle[i],end=\" \")\n",
    "    # print(sortedEle)\n",
    "\n",
    "if __name__ == '__main__':\n",
    "    # arr=[2,5,2,8,5,6,8,8]\n",
    "    arr=[2, 5, 2, 6, -1, 9999999, 5, 8, 8, 8]\n",
    "    # arr=\"tree\"\n",
    "    sortByFrequency(arr)\n"
   ]
  },
  {
   "cell_type": "markdown",
   "metadata": {},
   "source": [
    "Approach 2 - Using BST"
   ]
  },
  {
   "cell_type": "code",
   "execution_count": 5,
   "metadata": {},
   "outputs": [
    {
     "name": "stdout",
     "output_type": "stream",
     "text": [
      "8 8 8 2 2 5 5 6 "
     ]
    }
   ],
   "source": [
    "class Node:\n",
    "    def __init__(self,data,count):\n",
    "        self.data=data\n",
    "        self.count=count\n",
    "        self.left=None\n",
    "        self.right=None\n",
    "\n",
    "def store(root,value,count):\n",
    "    if root is None:\n",
    "        return Node(value,count)\n",
    "    if root.count<count:\n",
    "        root.right=store(root.right,value,count)\n",
    "    else:\n",
    "        root.left=store(root.left,value,count)\n",
    "    return root\n",
    "\n",
    "def inorder(root):\n",
    "    if root is None:\n",
    "        return\n",
    "    inorder(root.right)\n",
    "    for i in range(root.count):\n",
    "        print(root.data,end=\" \")\n",
    "    # print(root.data,root.count)\n",
    "    inorder(root.left)\n",
    "\n",
    "def sortByFrequency(arr):\n",
    "    map={}\n",
    "    for i in arr:\n",
    "        if i in map:\n",
    "            map[i]+=1\n",
    "        else:\n",
    "            map[i]=1\n",
    "    # print(map)\n",
    "    root=None\n",
    "    for i in map:\n",
    "        # print(i,map[i])\n",
    "        root=store(root,i,map[i])\n",
    "    # print(root)\n",
    "\n",
    "    inorder(root)\n",
    "\n",
    "if __name__ == '__main__':\n",
    "    arr=[2,5,2,8,5,6,8,8]\n",
    "    # arr=[2, 5, 2, 6, -1, 9999999, 5, 8, 8, 8]\n",
    "    # arr=\"tree\"\n",
    "    # arr=[2, 3, 2, 4, 5, 12, 2, 3, 3, 3, 12]\n",
    "    sortByFrequency(arr)\n"
   ]
  },
  {
   "cell_type": "markdown",
   "metadata": {},
   "source": [
    "# Count Inversions in an array"
   ]
  },
  {
   "cell_type": "markdown",
   "metadata": {},
   "source": [
    "Inversion Count for an array indicates – how far (or close) the array is from being sorted. If array is already sorted then inversion count is 0. If array is sorted in reverse order that inversion count is the maximum. \n",
    "\n",
    "Formally speaking, two elements a[i] and a[j] form an inversion if a[i] > a[j] and i < j "
   ]
  },
  {
   "cell_type": "markdown",
   "metadata": {},
   "source": [
    "Approach 1 -> Simple\n",
    "\n",
    "Fix one element and check for the rest elements if they form an inversion"
   ]
  },
  {
   "cell_type": "code",
   "execution_count": 2,
   "metadata": {},
   "outputs": [
    {
     "name": "stdout",
     "output_type": "stream",
     "text": [
      "6\n"
     ]
    }
   ],
   "source": [
    "# Simple Approach\n",
    "def countInversions(arr):\n",
    "    result=0\n",
    "    for i in range(len(arr)):\n",
    "        for j in range(i+1,len(arr)):\n",
    "            if arr[j]<arr[i]:\n",
    "                result+=1\n",
    "    return result\n",
    "\n",
    "if __name__ == '__main__':\n",
    "    arr=[8, 4, 2, 1]\n",
    "    result=countInversions(arr)\n",
    "    print(result)\n"
   ]
  },
  {
   "cell_type": "markdown",
   "metadata": {},
   "source": [
    "Time Complexity - O(n^2), Space Complexity - O(1)"
   ]
  },
  {
   "cell_type": "markdown",
   "metadata": {},
   "source": [
    "Approach 2-> Enhanced Merge Sort"
   ]
  },
  {
   "cell_type": "markdown",
   "metadata": {},
   "source": [
    "In merge process, let i is used for indexing left sub-array and j for right sub-array. At any step in merge(), if a[i] is greater than a[j], then there are (mid – i) inversions. because left and right subarrays are sorted, so all the remaining elements in left-subarray (a[i+1], a[i+2] … a[mid]) will be greater than a[j]"
   ]
  },
  {
   "cell_type": "code",
   "execution_count": 3,
   "metadata": {},
   "outputs": [
    {
     "name": "stdout",
     "output_type": "stream",
     "text": [
      "6\n"
     ]
    }
   ],
   "source": [
    "def countInversions(arr):\n",
    "    inversionCount=0\n",
    "    if len(arr)<=1:\n",
    "        return inversionCount\n",
    "    mid=len(arr)//2\n",
    "    left=arr[:mid]\n",
    "    right=arr[mid:]\n",
    "    inversionCount+=countInversions(left)\n",
    "    inversionCount+=countInversions(right)\n",
    "\n",
    "    i=j=k=0\n",
    "\n",
    "    while i<len(left) and j<len(right):\n",
    "        if left[i]<right[j]:\n",
    "            arr[k]=left[i]\n",
    "            i+=1\n",
    "            k+=1\n",
    "        else:\n",
    "            arr[k]=right[j]\n",
    "            j+=1\n",
    "            k+=1\n",
    "            inversionCount+=(mid-i)\n",
    "\n",
    "    while i<len(left):\n",
    "        arr[k]=left[i]\n",
    "        i+=1\n",
    "        k+=1\n",
    "\n",
    "    while j<len(right):\n",
    "        arr[k]=right[j]\n",
    "        j+=1\n",
    "        k+=1\n",
    "\n",
    "    return inversionCount\n",
    "\n",
    "if __name__ == '__main__':\n",
    "    arr=[8, 4, 2, 1]\n",
    "    # arr=[3,1,2]\n",
    "    result=countInversions(arr)\n",
    "    print(result)\n"
   ]
  },
  {
   "cell_type": "markdown",
   "metadata": {},
   "source": [
    "Other Approaches- AVL TREE & BINARY INDEX TREE"
   ]
  },
  {
   "cell_type": "markdown",
   "metadata": {},
   "source": [
    "# Sort an array of 0s, 1s and 2s"
   ]
  },
  {
   "cell_type": "markdown",
   "metadata": {},
   "source": [
    "Mainly to segregate 0,1,2"
   ]
  },
  {
   "cell_type": "markdown",
   "metadata": {},
   "source": [
    "Simple solution is to calculate the number of 0,1,2 and with use that number to create a result array. Time Complexity is O(n), but it requires 2 traversals of the array"
   ]
  },
  {
   "cell_type": "markdown",
   "metadata": {},
   "source": [
    "<strong>Another Approach-> Dutch National Flag Problem</strong>"
   ]
  },
  {
   "cell_type": "code",
   "execution_count": 5,
   "metadata": {},
   "outputs": [
    {
     "name": "stdout",
     "output_type": "stream",
     "text": [
      "[0, 0, 0, 0, 0, 1, 1, 1, 1, 1, 2, 2]\n"
     ]
    }
   ],
   "source": [
    "def rearrangeElements(arr,n):\n",
    "    low=0\n",
    "    curr=0\n",
    "    high=n-1\n",
    "\n",
    "    while curr<=high:\n",
    "        if arr[curr]==0:\n",
    "            arr[curr],arr[low]=arr[low],arr[curr]\n",
    "            low+=1\n",
    "            curr+=1\n",
    "        elif arr[curr]==1:\n",
    "            curr+=1\n",
    "        else:\n",
    "            arr[curr],arr[high]=arr[high],arr[curr]\n",
    "            high-=1\n",
    "\n",
    "if __name__ == '__main__':\n",
    "    # arr=[0, 1, 2, 0, 1, 2]\n",
    "    arr=[0, 1, 1, 0, 1, 2, 1, 2, 0, 0, 0, 1]\n",
    "    rearrangeElements(arr,len(arr))\n",
    "    print(arr)\n"
   ]
  },
  {
   "cell_type": "markdown",
   "metadata": {},
   "source": [
    "Time Complexity - O(n) and space complexity - O(1)"
   ]
  },
  {
   "cell_type": "code",
   "execution_count": null,
   "metadata": {},
   "outputs": [],
   "source": []
  }
 ],
 "metadata": {
  "kernelspec": {
   "display_name": "Python 3",
   "language": "python",
   "name": "python3"
  },
  "language_info": {
   "codemirror_mode": {
    "name": "ipython",
    "version": 3
   },
   "file_extension": ".py",
   "mimetype": "text/x-python",
   "name": "python",
   "nbconvert_exporter": "python",
   "pygments_lexer": "ipython3",
   "version": "3.7.6"
  }
 },
 "nbformat": 4,
 "nbformat_minor": 4
}
