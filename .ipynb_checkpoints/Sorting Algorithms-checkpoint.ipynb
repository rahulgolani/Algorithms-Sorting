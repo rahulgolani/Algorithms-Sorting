{
 "cells": [
  {
   "cell_type": "markdown",
   "metadata": {},
   "source": [
    "A Sorting Algorithm is used to rearrange a given array or list elements according to a comparison operator on the elements. The comparison operator is used to decide the new order of element in the respective data structure."
   ]
  },
  {
   "cell_type": "markdown",
   "metadata": {},
   "source": [
    "# Sorting Terminology"
   ]
  },
  {
   "cell_type": "markdown",
   "metadata": {},
   "source": [
    "<strong>In-Place Sorting</strong>"
   ]
  },
  {
   "cell_type": "markdown",
   "metadata": {},
   "source": [
    "An in-place sorting algorithm uses constant extra space for producing the output (modifies the given array only). It sorts the list only by modifying the order of the elements within the list.\n",
    "For example, Insertion Sort and Selection Sorts are in-place sorting algorithms as they do not use any additional space for sorting the list and a typical implementation of Merge Sort is not in-place, also the implementation for counting sort is not in-place sorting algorithm."
   ]
  },
  {
   "cell_type": "markdown",
   "metadata": {},
   "source": [
    "<strong>Internal and External Sortings</strong>"
   ]
  },
  {
   "cell_type": "markdown",
   "metadata": {},
   "source": [
    "When all data that needs to be sorted cannot be placed in-memory at a time, the sorting is called external sorting. External Sorting is used for massive amount of data. Merge Sort and its variations are typically used for external sorting. Some external storage like hard-disk, CD, etc is used for external storage."
   ]
  },
  {
   "cell_type": "markdown",
   "metadata": {},
   "source": [
    "When all data is placed in-memory, then sorting is called internal sorting."
   ]
  },
  {
   "cell_type": "markdown",
   "metadata": {},
   "source": [
    "<strong>Stable Sorting</strong>"
   ]
  },
  {
   "cell_type": "markdown",
   "metadata": {},
   "source": [
    "Stability is mainly important when we have key value pairs with duplicate keys possible (like people names as keys and their details as values). And we wish to sort these objects by keys."
   ]
  },
  {
   "cell_type": "markdown",
   "metadata": {},
   "source": [
    "A sorting algorithm is said to be stable if two objects with equal keys appear in the same order in sorted output as they appear in the input array to be sorted."
   ]
  },
  {
   "cell_type": "markdown",
   "metadata": {},
   "source": [
    "![](https://www.geeksforgeeks.org/wp-content/uploads/stability-sorting-660x343.jpg)"
   ]
  },
  {
   "cell_type": "markdown",
   "metadata": {},
   "source": [
    "<strong>Do we care for simple arrays like array of integers?</strong>\n",
    "When equal elements are indistinguishable, such as with integers, or more generally, any data where the entire element is the key, stability is not an issue. Stability is also not an issue if all keys are different."
   ]
  },
  {
   "cell_type": "markdown",
   "metadata": {},
   "source": [
    "<strong>An example where it is useful</strong>"
   ]
  },
  {
   "cell_type": "markdown",
   "metadata": {},
   "source": [
    "Consider the following dataset of Student Names and their respective class sections.\n",
    "\n",
    "\\\\ (Dave, A)\\\\ (Alice, B)\\\\ (Ken, A)\\\\ (Eric, B)\\\\ (Carol, A)"
   ]
  },
  {
   "cell_type": "markdown",
   "metadata": {},
   "source": [
    "If we sort this data according to name only, then it is highly unlikely that the resulting dataset will be grouped according to sections as well.\n",
    "\n",
    "\\\\ (Alice, B)\\\\ (Carol, A)\\\\ (Dave, A)\\\\ (Eric, B)\\\\ (Ken, A)"
   ]
  },
  {
   "cell_type": "markdown",
   "metadata": {},
   "source": [
    "So we might have to sort again to obtain list of students section wise too. But in doing so, if the sorting algorithm is not stable, we might get a result like this-\n",
    "\n",
    "\\\\ (Carol, A)\\\\ (Dave, A)\\\\ (Ken, A)\\\\(Eric, B)\\\\(Alice, B)"
   ]
  },
  {
   "cell_type": "markdown",
   "metadata": {},
   "source": [
    "The dataset is now sorted according to sections, but not according to names.\n",
    "In the name-sorted dataset, the tuple (Alice, B) was before (Eric, B), but since the sorting algorithm is not stable, the relative order is lost.\n",
    "If on the other hand we used a stable sorting algorithm, the result would be-\n",
    "\n",
    "\\\\ (Carol, A)\\\\ (Dave, A)\\\\ (Ken, A)\\\\(Alice, B)\\\\(Eric, B)"
   ]
  },
  {
   "cell_type": "markdown",
   "metadata": {},
   "source": [
    "Here the relative order between different tuples is maintained. It may be the case that the relative order is maintained in an Unstable Sort but that is highly unlikely."
   ]
  },
  {
   "cell_type": "markdown",
   "metadata": {},
   "source": [
    "<strong>Which sorting algorithms are stable?</strong>"
   ]
  },
  {
   "cell_type": "markdown",
   "metadata": {},
   "source": [
    "Some Sorting Algorithms are stable by nature, such as Bubble Sort, Insertion Sort, Merge Sort, Count Sort etc.\n"
   ]
  },
  {
   "cell_type": "markdown",
   "metadata": {},
   "source": [
    "Comparison based stable sorts such as Merge Sort and Insertion Sort, maintain stability by ensuring that-\n",
    "Element A[j] comes before A[i] if and only if A[j] < A[i], here i, j are indices and i < j.\n",
    "Since i<j, the relative order is preserved if A[i] == A[j] i.e. A[i] comes before A[j].\n",
    "Other non-comparison based sorts such as Counting Sort maintain stability by ensuring that the Sorted Array is filled in a reverse order so that elements with equivalent keys have the same relative position.\n",
    "Some sorts such as Radix Sort depend on another sort, with the only requirement that the other sort should be stable."
   ]
  },
  {
   "cell_type": "markdown",
   "metadata": {},
   "source": [
    "<strong>Which sorting algorithms are unstable?</strong>"
   ]
  },
  {
   "cell_type": "markdown",
   "metadata": {},
   "source": [
    "Quick Sort, Heap Sort etc., can be made stable by also taking the position of the elements into consideration. This change may be done in a way which does not compromise a lot on the performance and takes some extra space, possibly \\theta(n)."
   ]
  },
  {
   "cell_type": "markdown",
   "metadata": {},
   "source": [
    "<strong>Can we make any sorting algorithm stable?</strong>"
   ]
  },
  {
   "cell_type": "markdown",
   "metadata": {},
   "source": [
    "Any given sorting algo which is not stable can be modified to be stable. There can be sorting algo specific ways to make it stable, but in general, any comparison based sorting algorithm which is not stable by nature can be modified to be stable by changing the key comparison operation so that the comparison of two keys considers position as a factor for objects with equal keys."
   ]
  },
  {
   "cell_type": "markdown",
   "metadata": {},
   "source": [
    "<strong>Time Complexity:</strong> Time Complexity is defined as the number of times a particular instruction set is executed rather than the total time is taken. It is because the total time taken also depends on some external factors like the compiler used, processor’s speed, etc"
   ]
  },
  {
   "cell_type": "markdown",
   "metadata": {},
   "source": [
    "<strong>Space Complexity:</strong> Space Complexity is the total memory space required by the program for its execution."
   ]
  },
  {
   "cell_type": "markdown",
   "metadata": {},
   "source": [
    "<strong>External Sorting</strong>"
   ]
  },
  {
   "cell_type": "markdown",
   "metadata": {},
   "source": [
    "External sorting is a term for a class of sorting algorithms that can handle massive amounts of data. External sorting is required when the data being sorted do not fit into the main memory of a computing device (usually RAM) and instead, they must reside in the slower external memory (usually a hard drive). External sorting typically uses a hybrid sort-merge strategy. In the sorting phase, chunks of data small enough to fit in main memory are read, sorted, and written out to a temporary file. In the merge phase, the sorted sub-files are combined into a single larger file."
   ]
  },
  {
   "cell_type": "markdown",
   "metadata": {},
   "source": [
    "One example of external sorting is the external merge sort algorithm, which sorts chunks that each fit in RAM, then merges the sorted chunks together. We first divide the file into runs such that the size of a run is small enough to fit into main memory. Then sort each run in main memory using merge sort sorting algorithm. Finally merge the resulting runs together into successively bigger runs, until the file is sorted."
   ]
  },
  {
   "cell_type": "markdown",
   "metadata": {},
   "source": [
    "# Selection Sort"
   ]
  },
  {
   "cell_type": "markdown",
   "metadata": {},
   "source": [
    "The selection sort algorithm sorts an array by repeatedly finding the minimum element (considering ascending order) from unsorted part and putting it at the beginning. The algorithm maintains two subarrays in a given array."
   ]
  },
  {
   "cell_type": "markdown",
   "metadata": {},
   "source": [
    "1) The subarray which is already sorted.\n",
    "2) Remaining subarray which is unsorted."
   ]
  },
  {
   "cell_type": "markdown",
   "metadata": {},
   "source": [
    "In every iteration of selection sort, the minimum element (considering ascending order) from the unsorted subarray is picked and moved to the sorted subarray."
   ]
  },
  {
   "cell_type": "code",
   "execution_count": 4,
   "metadata": {},
   "outputs": [
    {
     "name": "stdout",
     "output_type": "stream",
     "text": [
      "[64, 25, 12, 22, 11]\n",
      "[11, 12, 22, 25, 64]\n"
     ]
    }
   ],
   "source": [
    "def sort(arr,n):\n",
    "    for i in range(n):\n",
    "        min_index=i\n",
    "        for j in range(i+1,n):\n",
    "            if arr[j]<arr[min_index]:\n",
    "                min_index=j\n",
    "        arr[i],arr[min_index]=arr[min_index],arr[i]\n",
    "\n",
    "if __name__ == '__main__':\n",
    "    arr=[64, 25, 12, 22, 11]\n",
    "    print(arr,end=\"\\n\")\n",
    "    sort(arr,len(arr))\n",
    "    print(arr)\n"
   ]
  },
  {
   "cell_type": "markdown",
   "metadata": {},
   "source": [
    "Time Complexity: O(n2) "
   ]
  },
  {
   "cell_type": "markdown",
   "metadata": {},
   "source": [
    "Auxiliary Space: O(1)"
   ]
  },
  {
   "cell_type": "markdown",
   "metadata": {},
   "source": [
    "The good thing about selection sort is it never makes more than O(n) swaps and can be useful when memory write is a costly operation."
   ]
  },
  {
   "cell_type": "markdown",
   "metadata": {},
   "source": [
    "Not Stable but In-Place"
   ]
  },
  {
   "cell_type": "markdown",
   "metadata": {},
   "source": [
    "Application - Min number of swaps"
   ]
  },
  {
   "cell_type": "markdown",
   "metadata": {},
   "source": [
    "# Bubble Sort"
   ]
  },
  {
   "cell_type": "markdown",
   "metadata": {},
   "source": [
    "Bubble Sort is the simplest sorting algorithm that works by repeatedly swapping the adjacent elements if they are in wrong order."
   ]
  },
  {
   "cell_type": "markdown",
   "metadata": {},
   "source": [
    "In each pass, the greatest element is bubbled out"
   ]
  },
  {
   "cell_type": "code",
   "execution_count": 6,
   "metadata": {},
   "outputs": [
    {
     "name": "stdout",
     "output_type": "stream",
     "text": [
      "[64, 25, 12, 22, 11]\n",
      "[11, 12, 22, 25, 64]\n"
     ]
    }
   ],
   "source": [
    "def sort(arr,n):\n",
    "    for i in range(n):\n",
    "        for j in range(0,n-i-1):\n",
    "            if arr[j]>arr[j+1]:\n",
    "                arr[j],arr[j+1]=arr[j+1],arr[j]\n",
    "\n",
    "if __name__ == '__main__':\n",
    "    arr=[64, 25, 12, 22, 11]\n",
    "    print(arr,end=\"\\n\")\n",
    "    sort(arr,len(arr))\n",
    "    print(arr)\n"
   ]
  },
  {
   "cell_type": "markdown",
   "metadata": {},
   "source": [
    "Time Complexity - O(n2) and space complexity - O(1)"
   ]
  },
  {
   "cell_type": "markdown",
   "metadata": {},
   "source": [
    "The above function always runs O(n^2) time even if the array is sorted. It can be optimized by stopping the algorithm if inner loop didn’t cause any swap."
   ]
  },
  {
   "cell_type": "code",
   "execution_count": 7,
   "metadata": {},
   "outputs": [
    {
     "name": "stdout",
     "output_type": "stream",
     "text": [
      "[64, 25, 12, 22, 11]\n",
      "[11, 12, 22, 25, 64]\n"
     ]
    }
   ],
   "source": [
    "def sort(arr,n):\n",
    "    for i in range(n):\n",
    "        swapped=False\n",
    "        for j in range(0,n-i-1):\n",
    "            if arr[j]>arr[j+1]:\n",
    "                arr[j],arr[j+1]=arr[j+1],arr[j]\n",
    "                swapped=True\n",
    "        if swapped==False:\n",
    "            break\n",
    "\n",
    "if __name__ == '__main__':\n",
    "    arr=[64, 25, 12, 22, 11]\n",
    "    print(arr,end=\"\\n\")\n",
    "    sort(arr,len(arr))\n",
    "    print(arr)\n"
   ]
  },
  {
   "cell_type": "markdown",
   "metadata": {},
   "source": [
    "Worst and Average Case Time Complexity: O(n*n). Worst case occurs when array is reverse sorted."
   ]
  },
  {
   "cell_type": "markdown",
   "metadata": {},
   "source": [
    "Best Case Time Complexity: O(n). Best case occurs when array is already sorted."
   ]
  },
  {
   "cell_type": "markdown",
   "metadata": {},
   "source": [
    "Boundary Cases: Bubble sort takes minimum time (Order of n) when elements are already sorted."
   ]
  },
  {
   "cell_type": "markdown",
   "metadata": {},
   "source": [
    "Sorting In Place: Yes\n",
    "\n",
    "Stable: Yes"
   ]
  },
  {
   "cell_type": "markdown",
   "metadata": {},
   "source": [
    "# Recursive Bubble Sort"
   ]
  },
  {
   "cell_type": "markdown",
   "metadata": {},
   "source": [
    "If we take a closer look at Bubble Sort algorithm, we can notice that in first pass, we move largest element to end (Assuming sorting in increasing order). In second pass, we move second largest element to second last position and so on. "
   ]
  },
  {
   "cell_type": "markdown",
   "metadata": {},
   "source": [
    "<strong> Recursion Idea. </strong> \n",
    "\n",
    "Base Case: If array size is 1, return.\n",
    "Do One Pass of normal Bubble Sort. This pass fixes last element of current subarray.\n",
    "Recur for all elements except last of current subarray."
   ]
  },
  {
   "cell_type": "code",
   "execution_count": 2,
   "metadata": {},
   "outputs": [
    {
     "name": "stdout",
     "output_type": "stream",
     "text": [
      "[64, 25, 12, 22, 11]\n",
      "[11, 12, 22, 25, 64]\n"
     ]
    }
   ],
   "source": [
    "def sort(arr,n):\n",
    "    # base case\n",
    "    if n==1:\n",
    "        return\n",
    "\n",
    "    for i in range(n-1):\n",
    "        if arr[i]>arr[i+1]:\n",
    "            arr[i],arr[i+1]=arr[i+1],arr[i]\n",
    "\n",
    "    sort(arr,n-1)\n",
    "\n",
    "if __name__ == '__main__':\n",
    "    arr=[64, 25, 12, 22, 11]\n",
    "    print(arr,end=\"\\n\")\n",
    "    sort(arr,len(arr))\n",
    "    print(arr)\n"
   ]
  },
  {
   "cell_type": "markdown",
   "metadata": {},
   "source": [
    "Time Complexity O(n*n) and Space Complexity O(n) for function call stack"
   ]
  },
  {
   "cell_type": "markdown",
   "metadata": {},
   "source": [
    "# Insertion Sort"
   ]
  },
  {
   "cell_type": "markdown",
   "metadata": {},
   "source": [
    "Insertion sort is a simple sorting algorithm that works similar to the way you sort playing cards in your hands. The array is virtually split into a sorted and an unsorted part. Values from the unsorted part are picked and placed at the correct position in the sorted part."
   ]
  },
  {
   "cell_type": "markdown",
   "metadata": {},
   "source": [
    "<strong>Algorithm</strong>\n",
    "To sort an array of size n in ascending order:\n",
    "1: Iterate from arr[1] to arr[n] over the array.\n",
    "2: Compare the current element (key) to its predecessor.\n",
    "3: If the key element is smaller than its predecessor, compare it to the elements before. Move the greater elements one position up to make space for the swapped element."
   ]
  },
  {
   "cell_type": "markdown",
   "metadata": {},
   "source": [
    "![](https://media.geeksforgeeks.org/wp-content/uploads/insertionsort.png)"
   ]
  },
  {
   "cell_type": "code",
   "execution_count": 3,
   "metadata": {},
   "outputs": [
    {
     "name": "stdout",
     "output_type": "stream",
     "text": [
      "[64, 25, 12, 22, 11]\n",
      "[11, 12, 22, 25, 64]\n"
     ]
    }
   ],
   "source": [
    "def sort(arr,n):\n",
    "    for i in range(n):\n",
    "        # key to be moved to its correct position\n",
    "        key=arr[i]\n",
    "\n",
    "        # checking all the predecessors of the key\n",
    "        j=i-1\n",
    "        while j>=0 and key<arr[j]:\n",
    "            # moving all the values to the right\n",
    "            arr[j+1]=arr[j]\n",
    "            j-=1\n",
    "        # moving the key value at its correct position\n",
    "        arr[j+1]=key\n",
    "\n",
    "if __name__ == '__main__':\n",
    "    arr=[64, 25, 12, 22, 11]\n",
    "    print(arr,end=\"\\n\")\n",
    "    sort(arr,len(arr))\n",
    "    print(arr)\n"
   ]
  },
  {
   "cell_type": "markdown",
   "metadata": {},
   "source": [
    "Time Complexity: O(n*2)\n",
    "\n",
    "Auxiliary Space: O(1)\n",
    "\n",
    "Boundary Cases: Insertion sort takes maximum time to sort if elements are sorted in reverse order. And it takes minimum time (n) when elements are already sorted.\n",
    "\n",
    "Algorithmic Paradigm: Incremental Approach\n",
    "\n",
    "Sorting In Place: Yes\n",
    "\n",
    "Stable: Yes"
   ]
  },
  {
   "cell_type": "markdown",
   "metadata": {},
   "source": [
    "<strong>Difference between insertion sort and selection sort</strong>"
   ]
  },
  {
   "cell_type": "markdown",
   "metadata": {},
   "source": [
    "Selection sort finds the smallest element and moves it in the correct position while insertion sort compares the element to its predecessors and finds the correct potition of the element among te predecessors "
   ]
  },
  {
   "cell_type": "markdown",
   "metadata": {},
   "source": [
    "<strong>Uses:</strong> Insertion sort is used when number of elements is small. It can also be useful when input array is almost sorted, only few elements are misplaced in complete big array."
   ]
  },
  {
   "cell_type": "markdown",
   "metadata": {},
   "source": [
    "# Binary Insertion Sort"
   ]
  },
  {
   "cell_type": "markdown",
   "metadata": {},
   "source": [
    "We can use binary search to reduce the number of comparisons in normal insertion sort. Binary Insertion Sort uses binary search to find the proper location to insert the selected item at each iteration. In normal insertion, sorting takes O(i) (at ith iteration) in worst case. We can reduce it to O(logi) by using binary search. The algorithm, as a whole, still has a running worst case running time of O(n2) because of the series of swaps required for each insertion"
   ]
  },
  {
   "cell_type": "code",
   "execution_count": 4,
   "metadata": {},
   "outputs": [
    {
     "name": "stdout",
     "output_type": "stream",
     "text": [
      "[64, 25, 12, 22, 11]\n",
      "[11, 12, 22, 25, 64]\n"
     ]
    }
   ],
   "source": [
    "def binarySearch(arr,value,start,end):\n",
    "    if start==end:\n",
    "        if arr[start]>value:\n",
    "            return start\n",
    "        return start+1\n",
    "\n",
    "    if start>end:\n",
    "        return start\n",
    "\n",
    "    mid=(start+end)//2\n",
    "    if arr[mid]<value:\n",
    "        return binarySearch(arr,value,mid+1,end)\n",
    "    elif arr[mid]>value:\n",
    "        return binarySearch(arr,value,start,mid-1)\n",
    "    else:\n",
    "        return mid\n",
    "\n",
    "def sort(arr,n):\n",
    "    for i in range(1,n):\n",
    "        value=arr[i]\n",
    "        position=binarySearch(arr,value,0,i-1)\n",
    "        arr=arr[:position]+[value]+arr[position:i]+arr[i+1:]\n",
    "    return arr\n",
    "\n",
    "if __name__ == '__main__':\n",
    "    arr=[64, 25, 12, 22, 11]\n",
    "    print(arr,end=\"\\n\")\n",
    "    arr=sort(arr,len(arr))\n",
    "    print(arr)\n"
   ]
  },
  {
   "cell_type": "markdown",
   "metadata": {},
   "source": [
    "Time Complexity - O(n^2)"
   ]
  },
  {
   "cell_type": "markdown",
   "metadata": {},
   "source": [
    "Comparisons reduced to O(log i) for each value at ith index"
   ]
  },
  {
   "cell_type": "markdown",
   "metadata": {},
   "source": [
    "# Insertion Sort on Linked List "
   ]
  },
  {
   "cell_type": "markdown",
   "metadata": {},
   "source": [
    "# Recursive Insertion Sort"
   ]
  },
  {
   "cell_type": "markdown",
   "metadata": {},
   "source": [
    "If we take a closer look at Insertion Sort algorithm, we keep processed elements sorted and insert new elements one by one in the inserted array."
   ]
  },
  {
   "cell_type": "code",
   "execution_count": 7,
   "metadata": {},
   "outputs": [
    {
     "name": "stdout",
     "output_type": "stream",
     "text": [
      "[64, 25, 12, 22, 11]\n",
      "[11, 12, 22, 25, 64]\n"
     ]
    }
   ],
   "source": [
    "def sort(arr,n):\n",
    "    if n<=1:\n",
    "        return\n",
    "\n",
    "    sort(arr,n-1)\n",
    "\n",
    "    value=arr[n-1]\n",
    "    j=n-2\n",
    "    while j>=0 and value<arr[j]:\n",
    "        arr[j+1]=arr[j]\n",
    "        j-=1\n",
    "    arr[j+1]=value\n",
    "\n",
    "if __name__ == '__main__':\n",
    "    arr=[64, 25, 12, 22, 11]\n",
    "    print(arr,end=\"\\n\")\n",
    "    sort(arr,len(arr))\n",
    "    print(arr)\n"
   ]
  },
  {
   "cell_type": "markdown",
   "metadata": {},
   "source": [
    "# Merge Sort"
   ]
  },
  {
   "cell_type": "markdown",
   "metadata": {},
   "source": [
    "Merge Sort is a Divide and Conquer algorithm. It divides the input array into two halves, calls itself for the two halves, and then merges the two sorted halves. The merge() function is used for merging two halves. The merge(arr, l, m, r) is a key process that assumes that arr[l..m] and arr[m+1..r] are sorted and merges the two sorted sub-arrays into one."
   ]
  },
  {
   "cell_type": "code",
   "execution_count": 8,
   "metadata": {},
   "outputs": [
    {
     "name": "stdout",
     "output_type": "stream",
     "text": [
      "[64, 25, 12, 22, 11]\n",
      "[11, 12, 22, 25, 64]\n"
     ]
    }
   ],
   "source": [
    "def sort(arr):\n",
    "    if len(arr)>1:\n",
    "        mid=len(arr)//2\n",
    "        left=arr[:mid]\n",
    "        right=arr[mid:]\n",
    "\n",
    "        sort(left)\n",
    "        sort(right)\n",
    "\n",
    "        i=j=k=0\n",
    "        n1=len(left)\n",
    "        n2=len(right)\n",
    "\n",
    "        while i<n1 and j<n2:\n",
    "            if left[i]<right[j]:\n",
    "                arr[k]=left[i]\n",
    "                i+=1\n",
    "                k+=1\n",
    "            else:\n",
    "                arr[k]=right[j]\n",
    "                j+=1\n",
    "                k+=1\n",
    "\n",
    "        while i<n1:\n",
    "            arr[k]=left[i]\n",
    "            k+=1\n",
    "            i+=1\n",
    "\n",
    "        while j<n2:\n",
    "            arr[k]=right[j]\n",
    "            k+=1\n",
    "            j+=1\n",
    "\n",
    "\n",
    "\n",
    "if __name__ == '__main__':\n",
    "    arr=[64, 25, 12, 22, 11]\n",
    "    print(arr,end=\"\\n\")\n",
    "    sort(arr)\n",
    "    print(arr)\n"
   ]
  },
  {
   "cell_type": "markdown",
   "metadata": {},
   "source": [
    "Merge Sort is a recursive algorithm and time complexity can be expressed as following recurrence relation. \n",
    "T(n) = 2T(n/2) + θ(n)"
   ]
  },
  {
   "cell_type": "markdown",
   "metadata": {},
   "source": [
    "Time Complexity -> O(nlogn)"
   ]
  },
  {
   "cell_type": "markdown",
   "metadata": {},
   "source": [
    "1) Auxiliary Space: O(n)\n",
    "2) Algorithmic Paradigm: Divide and Conquer\n",
    "3) Sorting In Place: No in a typical implementation\n",
    "4) Stable: Yes"
   ]
  },
  {
   "cell_type": "markdown",
   "metadata": {},
   "source": [
    "<strong>Applications of Merge Sort </strong>"
   ]
  },
  {
   "cell_type": "markdown",
   "metadata": {},
   "source": [
    "Merge Sort is useful for sorting linked lists in O(nLogn) time.In the case of linked lists, the case is different mainly due to the difference in memory allocation of arrays and linked lists. Unlike arrays, linked list nodes may not be adjacent in memory. Unlike an array, in the linked list, we can insert items in the middle in O(1) extra space and O(1) time. Therefore, the merge operation of merge sort can be implemented without extra space for linked lists.\n",
    "\n",
    "\n",
    "In arrays, we can do random access as elements are contiguous in memory. Let us say we have an integer (4-byte) array A and let the address of A[0] be x then to access A[i], we can directly access the memory at (x + i*4). Unlike arrays, we can not do random access in the linked list. Quick Sort requires a lot of this kind of access. In a linked list to access i’th index, we have to travel each and every node from the head to i’th node as we don’t have a continuous block of memory. Therefore, the overhead increases for quicksort. Merge sort accesses data sequentially and the need of random access is low."
   ]
  },
  {
   "cell_type": "markdown",
   "metadata": {},
   "source": [
    "Inversion Count"
   ]
  },
  {
   "cell_type": "markdown",
   "metadata": {},
   "source": [
    "External Sorting"
   ]
  },
  {
   "cell_type": "markdown",
   "metadata": {},
   "source": [
    "<strong>SEE ITERATIVE APPROACH AFTERWARDS</strong>"
   ]
  },
  {
   "cell_type": "markdown",
   "metadata": {},
   "source": [
    "# QuickSort"
   ]
  },
  {
   "cell_type": "markdown",
   "metadata": {},
   "source": [
    "QuickSort is a Divide and Conquer algorithm. It picks an element as pivot and partitions the given array around the picked pivot."
   ]
  },
  {
   "cell_type": "markdown",
   "metadata": {},
   "source": [
    "The key process in quickSort is partition(). Target of partitions is, given an array and an element x of array as pivot, put x at its correct position in sorted array and put all smaller elements (smaller than x) before x, and put all greater elements (greater than x) after x. All this should be done in linear time."
   ]
  },
  {
   "cell_type": "code",
   "execution_count": 9,
   "metadata": {},
   "outputs": [
    {
     "name": "stdout",
     "output_type": "stream",
     "text": [
      "[64, 25, 12, 22, 11]\n",
      "[11, 12, 22, 25, 64]\n"
     ]
    }
   ],
   "source": [
    "def partition(arr,low,high):\n",
    "    j=low-1\n",
    "    pivot=arr[high]\n",
    "    for i in range(low,high):\n",
    "        if arr[i]<pivot:\n",
    "            j+=1\n",
    "            arr[j],arr[i]=arr[i],arr[j]\n",
    "    arr[j+1],arr[high]=arr[high],arr[j+1]\n",
    "    return (j+1)\n",
    "\n",
    "def quickSort(arr,low,high):\n",
    "    if low<high:\n",
    "        p=partition(arr,low,high)\n",
    "\n",
    "        quickSort(arr,low,p-1)\n",
    "        quickSort(arr,p+1,high)\n",
    "\n",
    "def sort(arr):\n",
    "    quickSort(arr,0,len(arr)-1)\n",
    "\n",
    "if __name__ == '__main__':\n",
    "    arr=[64, 25, 12, 22, 11]\n",
    "    print(arr,end=\"\\n\")\n",
    "    sort(arr)\n",
    "    print(arr)\n"
   ]
  },
  {
   "cell_type": "markdown",
   "metadata": {},
   "source": [
    "<strong>Analysis of QuickSort</strong>"
   ]
  },
  {
   "cell_type": "markdown",
   "metadata": {},
   "source": [
    "T(n) = T(k) + T(n-k-1) + theta(n)"
   ]
  },
  {
   "cell_type": "markdown",
   "metadata": {},
   "source": [
    "The first two terms are for two recursive calls, the last term is for the partition process. k is the number of elements which are smaller than pivot.\n",
    "The time taken by QuickSort depends upon the input array and partition strategy. Following are three cases."
   ]
  },
  {
   "cell_type": "markdown",
   "metadata": {},
   "source": [
    "Worst Case: The worst case occurs when the array is already sorted in increasing or decreasing order. Following is recurrence for worst case.\n",
    "\n",
    " T(n) = T(0) + T(n-1) + theta(n)\n",
    "which is equivalent to  \n",
    " T(n) = T(n-1) + theta(n)\n",
    "The solution of above recurrence is theta(n2)."
   ]
  },
  {
   "cell_type": "markdown",
   "metadata": {},
   "source": [
    "Best Case: The best case occurs when the partition process always picks the middle element as pivot. Following is recurrence for best case.\n",
    "\n",
    " T(n) = 2T(n/2) + theta(n)\n",
    "The solution of above recurrence is \\theta(nLogn). "
   ]
  },
  {
   "cell_type": "markdown",
   "metadata": {},
   "source": [
    "Average Case-O(nlogn)"
   ]
  },
  {
   "cell_type": "markdown",
   "metadata": {},
   "source": [
    "Although the worst case time complexity of QuickSort is O(n2) which is more than many other sorting algorithms like Merge Sort and Heap Sort, QuickSort is faster in practice, because its inner loop can be efficiently implemented on most architectures, and in most real-world data. QuickSort can be implemented in different ways by changing the choice of pivot, so that the worst case rarely occurs for a given type of data. However, merge sort is generally considered better when data is huge and stored in external storage."
   ]
  },
  {
   "cell_type": "markdown",
   "metadata": {},
   "source": [
    "In Place - Yes"
   ]
  },
  {
   "cell_type": "markdown",
   "metadata": {},
   "source": [
    "Stable- No"
   ]
  },
  {
   "cell_type": "markdown",
   "metadata": {},
   "source": [
    "# 3-Way QuickSort"
   ]
  },
  {
   "cell_type": "markdown",
   "metadata": {},
   "source": [
    "In simple QuickSort algorithm, we select an element as pivot, partition the array around pivot and recur for subarrays on left and right of pivot."
   ]
  },
  {
   "cell_type": "markdown",
   "metadata": {},
   "source": [
    "Consider an array which has many redundant elements. For example, {1, 4, 2, 4, 2, 4, 1, 2, 4, 1, 2, 2, 2, 2, 4, 1, 4, 4, 4}. If 4 is picked as pivot in Simple QuickSort, we fix only one 4 and recursively process remaining occurrences. In 3 Way QuickSort, an array arr[l..r] is divided in 3 parts:\n",
    "<br><br>\n",
    "a) arr[l..i] elements less than pivot.<br>\n",
    "b) arr[i+1..j-1] elements equal to pivot.<br>\n",
    "c) arr[j..r] elements greater than pivot.<br>"
   ]
  },
  {
   "cell_type": "code",
   "execution_count": 1,
   "metadata": {},
   "outputs": [
    {
     "name": "stdout",
     "output_type": "stream",
     "text": [
      "[4, 9, 4, 4, 1, 9, 4, 4, 9, 4, 4, 1, 4]\n",
      "[1, 1, 4, 4, 4, 4, 4, 4, 4, 4, 9, 9, 9]\n"
     ]
    }
   ],
   "source": [
    "def partition(arr,low,high,i,j):\n",
    "    if (high-low)==1:\n",
    "        if arr[low]>arr[high]:\n",
    "            arr[low],arr[high]=arr[high],arr[low]\n",
    "        i[0]=low\n",
    "        j[0]=high\n",
    "\n",
    "    curr=low\n",
    "    pivot=arr[high]\n",
    "    while curr<=high:\n",
    "        if arr[curr]<pivot:\n",
    "            arr[low],arr[curr]=arr[curr],arr[low]\n",
    "            low+=1\n",
    "            curr+=1\n",
    "        elif arr[curr]==pivot:\n",
    "            curr+=1\n",
    "        elif arr[curr]>pivot:\n",
    "            arr[curr],arr[high]=arr[high],arr[curr]\n",
    "            high-=1\n",
    "\n",
    "    i[0]=low-1\n",
    "    j[0]=curr\n",
    "\n",
    "def quickSort(arr,low,high):\n",
    "    if low>=high:\n",
    "        return\n",
    "\n",
    "    i=[0]\n",
    "    j=[0]\n",
    "    partition(arr,low,high,i,j)\n",
    "\n",
    "    quickSort(arr,low,i[0])\n",
    "    quickSort(arr,j[0],high)\n",
    "\n",
    "if __name__ == '__main__':\n",
    "    arr=[ 4, 9, 4, 4, 1, 9, 4, 4, 9, 4, 4, 1, 4 ]\n",
    "    print(arr)\n",
    "    quickSort(arr,0,len(arr)-1)\n",
    "    print(arr)\n"
   ]
  },
  {
   "cell_type": "markdown",
   "metadata": {},
   "source": [
    "<strong>Why Quick Sort is preferred over MergeSort for sorting Arrays</strong>"
   ]
  },
  {
   "cell_type": "markdown",
   "metadata": {},
   "source": [
    "Quick Sort in its general form is an in-place sort (i.e. it doesn’t require any extra storage) whereas merge sort requires O(N) extra storage, N denoting the array size which may be quite expensive. Allocating and de-allocating the extra space used for merge sort increases the running time of the algorithm. Comparing average complexity we find that both type of sorts have O(NlogN) average complexity but the constants differ. For arrays, merge sort loses due to the use of extra O(N) storage space."
   ]
  },
  {
   "cell_type": "markdown",
   "metadata": {},
   "source": [
    "Most practical implementations of Quick Sort use randomized version. The randomized version has expected time complexity of O(nLogn). The worst case is possible in randomized version also, but worst case doesn’t occur for a particular pattern (like sorted array) and randomized Quick Sort works well in practice."
   ]
  },
  {
   "cell_type": "markdown",
   "metadata": {},
   "source": [
    "Quick Sort is also a cache friendly sorting algorithm as it has good locality of reference when used for arrays."
   ]
  },
  {
   "cell_type": "markdown",
   "metadata": {},
   "source": [
    "Quick Sort is also tail recursive, therefore tail call optimizations is done."
   ]
  },
  {
   "cell_type": "markdown",
   "metadata": {},
   "source": [
    "<strong>How to optimize QuickSort so that it takes O(Log n) extra space in worst case?</strong>"
   ]
  },
  {
   "cell_type": "markdown",
   "metadata": {},
   "source": [
    "<strong>Iterative Quick Sort</strong>"
   ]
  },
  {
   "cell_type": "markdown",
   "metadata": {},
   "source": [
    "# HeapSort"
   ]
  },
  {
   "cell_type": "markdown",
   "metadata": {},
   "source": [
    "Heap sort is a comparison based sorting technique based on Binary Heap data structure. It is similar to selection sort where we first find the maximum element and place the maximum element at the end. We repeat the same process for the remaining elements."
   ]
  },
  {
   "cell_type": "markdown",
   "metadata": {},
   "source": [
    "<strong>Complete Binary Tree</strong>"
   ]
  },
  {
   "cell_type": "markdown",
   "metadata": {},
   "source": [
    " A complete binary tree is a binary tree in which every level, except possibly the last, is completely filled, and all nodes are as far left as possible"
   ]
  },
  {
   "cell_type": "markdown",
   "metadata": {},
   "source": [
    "<strong>Binary Heap</strong>"
   ]
  },
  {
   "cell_type": "markdown",
   "metadata": {},
   "source": [
    "A Binary Heap is a Complete Binary Tree where items are stored in a special order such that value in a parent node is greater(or smaller) than the values in its two children nodes. The former is called as max heap and the latter is called min-heap. The heap can be represented by a binary tree or array."
   ]
  },
  {
   "cell_type": "markdown",
   "metadata": {},
   "source": [
    "<strong>Why array based representation for Binary Heap?</strong>"
   ]
  },
  {
   "cell_type": "markdown",
   "metadata": {},
   "source": [
    "Since a Binary Heap is a Complete Binary Tree, it can be easily represented as an array and the array-based representation is space-efficient. If the parent node is stored at index I, the left child can be calculated by 2 * I + 1 and right child by 2 * I + 2 (assuming the indexing starts at 0)."
   ]
  },
  {
   "cell_type": "code",
   "execution_count": 1,
   "metadata": {},
   "outputs": [
    {
     "name": "stdout",
     "output_type": "stream",
     "text": [
      "[64, 25, 12, 22, 11]\n",
      "[11, 12, 22, 25, 64]\n"
     ]
    }
   ],
   "source": [
    "def heapify(arr,n,i):\n",
    "    left=2*i+1\n",
    "    right=2*i+2\n",
    "\n",
    "    if left<n and arr[left]>arr[i]:\n",
    "        largest=left\n",
    "    else:\n",
    "        largest=i\n",
    "\n",
    "    if right<n and arr[right]>arr[largest]:\n",
    "        largest=right\n",
    "\n",
    "    if largest!=i:\n",
    "        arr[largest],arr[i]=arr[i],arr[largest]\n",
    "        heapify(arr,n,largest)\n",
    "\n",
    "\n",
    "def sort(arr):\n",
    "    n=len(arr)\n",
    "    for i in range(n//2-1,-1,-1):\n",
    "        heapify(arr,n,i)\n",
    "\n",
    "    for i in range(n-1,0,-1):\n",
    "        arr[i],arr[0]=arr[0],arr[i]\n",
    "        heapify(arr,i,0)\n",
    "\n",
    "if __name__ == '__main__':\n",
    "    arr=[64, 25, 12, 22, 11]\n",
    "    print(arr,end=\"\\n\")\n",
    "    sort(arr)\n",
    "    print(arr)\n"
   ]
  },
  {
   "cell_type": "markdown",
   "metadata": {},
   "source": [
    "In-Place sorting algorithm"
   ]
  },
  {
   "cell_type": "markdown",
   "metadata": {},
   "source": [
    "Not Stable"
   ]
  },
  {
   "cell_type": "markdown",
   "metadata": {},
   "source": [
    "Time Complexity-> It takes O(n) time to build a max heap and O(logn) time to heapify. Total time complexity ->O(nlogn)"
   ]
  },
  {
   "cell_type": "markdown",
   "metadata": {},
   "source": [
    "# Counting Sort"
   ]
  },
  {
   "cell_type": "markdown",
   "metadata": {},
   "source": [
    "Count sort is a sorting technique based on keys between a specific range. It works by counting the number of objects having distinct key values (kind of hashing). Then doing some arithmetic to calculate the position of each object in the output sequence."
   ]
  },
  {
   "cell_type": "markdown",
   "metadata": {},
   "source": [
    "For simplicity, consider the data in the range 0 to 9. \n",
    "Input data: 1, 4, 1, 2, 7, 5, 2<br>\n",
    "  1) Take a count array to store the count of each unique object.<br>\n",
    "  Index:     0  1  2  3  4  5  6  7  8  9<br>\n",
    "  Count:     0  2  2  0   1  1  0  1  0  0<br>\n",
    "<br><br>\n",
    "  2) Modify the count array such that each element at each index\n",
    "  stores the sum of previous counts. <br>\n",
    "  Index:     0  1  2  3  4  5  6  7  8  9<br>\n",
    "  Count:     0  2  4  4  5  6  6  7  7  7 (cumulative sum)<br>\n",
    "<br><br>\n",
    "The modified count array indicates the position of each object in \n",
    "the output sequence.\n",
    " <br><br>\n",
    "  3) Output each object from the input sequence followed by \n",
    "  decreasing its count by 1.<br>\n",
    "  Process the input data: 1, 4, 1, 2, 7, 5, 2. Position of 1 is 2.<br>\n",
    "  Put data 1 at index 2 in output. Decrease count by 1 to place <br>\n",
    "  next data 1 at an index 1 smaller than this index."
   ]
  },
  {
   "cell_type": "code",
   "execution_count": 1,
   "metadata": {},
   "outputs": [
    {
     "name": "stdout",
     "output_type": "stream",
     "text": [
      "helloworld\n",
      "dehllloorw\n"
     ]
    }
   ],
   "source": [
    "def sort(input):\n",
    "    output=[0]*len(input)\n",
    "    count=[0]*256\n",
    "    ans=\"\"\n",
    "#     count\n",
    "    for i in range(len(input)):\n",
    "        count[ord(input[i])]+=1\n",
    "\n",
    "#     prefix sum\n",
    "    for i in range(1,256):\n",
    "        count[i]+=count[i-1]\n",
    "\n",
    "#     placing the input values\n",
    "    for i in range(len(input)):\n",
    "        output[count[ord(input[i])]-1]=input[i]\n",
    "        count[ord(input[i])]-=1\n",
    "\n",
    "#     creating a resultant string\n",
    "    for i in range(len(output)):\n",
    "        ans+=output[i]\n",
    "    return ans\n",
    "\n",
    "if __name__ == '__main__':\n",
    "    input=\"helloworld\"\n",
    "    print(input)\n",
    "    result=sort(input)\n",
    "    print(result)\n"
   ]
  },
  {
   "cell_type": "markdown",
   "metadata": {},
   "source": [
    "Time Complexity - O(k) and space complexity - O(k) ;;  k is the range of the input"
   ]
  },
  {
   "cell_type": "markdown",
   "metadata": {},
   "source": [
    "The problem with the previous counting sort was that we could not sort the elements if we have negative numbers in it. Because there are no negative array indices. So what we do is, we find the minimum element and we will store count of that minimum element at zero index."
   ]
  },
  {
   "cell_type": "code",
   "execution_count": 5,
   "metadata": {},
   "outputs": [
    {
     "name": "stdout",
     "output_type": "stream",
     "text": [
      "[-5, -10, 0, -3, 8, 5, -1, 10]\n",
      "[-10, -5, -3, -1, 0, 5, 8, 10]\n"
     ]
    }
   ],
   "source": [
    "def sort(arr):\n",
    "    n=len(arr)\n",
    "    minEle=min(arr)\n",
    "    maxEle=max(arr)\n",
    "    range_of_elements=maxEle-minEle+1\n",
    "    count=[0]*range_of_elements\n",
    "    for i in range(n):\n",
    "        count[arr[i]-minEle]+=1\n",
    "    for i in range(1,range_of_elements):\n",
    "        count[i]+=count[i-1]\n",
    "    result=[0]*n\n",
    "    for i in range(n):\n",
    "        result[count[arr[i]-minEle]-1]=arr[i]\n",
    "        count[arr[i]-minEle]-=1\n",
    "    return result\n",
    "\n",
    "if __name__ == '__main__':\n",
    "    arr=[-5,-10,0,-3,8,5,-1,10]\n",
    "    print(arr)\n",
    "    result=sort(arr)\n",
    "    print(result)\n"
   ]
  },
  {
   "cell_type": "markdown",
   "metadata": {},
   "source": [
    "Counting sort is efficient if the range of input data is not significantly greater than the number of objects to be sorted."
   ]
  },
  {
   "cell_type": "markdown",
   "metadata": {},
   "source": [
    "It is not a comparison based sorting. It running time complexity is O(n) with space proportional to the range of data. "
   ]
  },
  {
   "cell_type": "markdown",
   "metadata": {},
   "source": [
    "Counting sort uses a partial hashing to count the occurrence of the data object in O(1). "
   ]
  },
  {
   "cell_type": "markdown",
   "metadata": {},
   "source": [
    "Counting sort can be extended to work for negative inputs also."
   ]
  },
  {
   "cell_type": "markdown",
   "metadata": {},
   "source": [
    "# Radix Sort"
   ]
  },
  {
   "cell_type": "markdown",
   "metadata": {},
   "source": [
    "Counting sort is a linear time sorting algorithm that sort in O(n+k) time when elements are in the range from 1 to k."
   ]
  },
  {
   "cell_type": "markdown",
   "metadata": {},
   "source": [
    "What if the elements are in the range from 1 to n2? We can’t use counting sort because counting sort will take O(n2) which is worse than comparison-based sorting algorithms. Can we sort such an array in linear time? "
   ]
  },
  {
   "cell_type": "markdown",
   "metadata": {},
   "source": [
    "Radix sort can sort such array in linear time"
   ]
  },
  {
   "cell_type": "markdown",
   "metadata": {},
   "source": [
    "The idea of Radix Sort is to do digit by digit sort starting from least significant digit to most significant digit. Radix sort uses counting sort as a subroutine to sort."
   ]
  },
  {
   "cell_type": "code",
   "execution_count": 2,
   "metadata": {},
   "outputs": [
    {
     "name": "stdout",
     "output_type": "stream",
     "text": [
      "[2, 24, 45, 66, 75, 90, 170, 802]\n"
     ]
    }
   ],
   "source": [
    "def countSort(arr,exp):\n",
    "    n=len(arr)\n",
    "    output=[0]*n\n",
    "    count=[0]*10\n",
    "    # build count array\n",
    "    for i in range(n):\n",
    "        value=int(arr[i]/exp)\n",
    "        count[value%10]+=1\n",
    "\n",
    "    # prefix sum count array\n",
    "    for i in range(1,10):\n",
    "        count[i]+=count[i-1]\n",
    "\n",
    "    # build output array by placing elements at proper place accordidng to indexes\n",
    "    i=n-1\n",
    "    while i>=0:\n",
    "        value=int(arr[i]/exp)\n",
    "        output[count[value%10]-1]=arr[i]\n",
    "        count[value%10]-=1\n",
    "        i-=1\n",
    "\n",
    "    # copy the output elements to original array\n",
    "    for i in range(0,n):\n",
    "        arr[i]=output[i]\n",
    "\n",
    "\n",
    "def radixSort(arr):\n",
    "    exp=1\n",
    "    maxEle=max(arr)\n",
    "    while maxEle/exp>0:\n",
    "        countSort(arr,exp)\n",
    "        exp*=10\n",
    "\n",
    "if __name__ == '__main__':\n",
    "    arr=[170, 45, 75, 90, 802, 24, 2, 66]\n",
    "    radixSort(arr)\n",
    "    print(arr)\n"
   ]
  },
  {
   "cell_type": "markdown",
   "metadata": {},
   "source": [
    "# Pancake sorting"
   ]
  },
  {
   "cell_type": "markdown",
   "metadata": {},
   "source": [
    "Given an unsorted array, sort the given array. You are allowed to do only following operation on array. \n",
    "\n",
    "flip(arr, i): Reverse array from 0 to i "
   ]
  },
  {
   "cell_type": "markdown",
   "metadata": {},
   "source": [
    "Start from current size equal to n and reduce current size by one while it’s greater than 1. Let the current size be curr_size. Do following for every curr_size\n",
    "\n",
    "Find index of the maximum element in arr[0..curr_szie-1]. Let the index be ‘mi’\n",
    "\n",
    "Call flip(arr, mi)\n",
    "\n",
    "Call flip(arr, curr_size-1)"
   ]
  },
  {
   "cell_type": "code",
   "execution_count": 3,
   "metadata": {},
   "outputs": [
    {
     "name": "stdout",
     "output_type": "stream",
     "text": [
      "[23, 10, 20, 11, 12, 6, 7]\n",
      "[6, 7, 10, 11, 12, 20, 23]\n"
     ]
    }
   ],
   "source": [
    "def findMax(arr,n):\n",
    "    mi=0\n",
    "    for i in range(n):\n",
    "        if arr[i]>arr[mi]:\n",
    "            mi=i\n",
    "    return mi\n",
    "\n",
    "def flip(arr,i):\n",
    "    start=0\n",
    "    while start<i:\n",
    "        arr[start],arr[i]=arr[i],arr[start]\n",
    "        start+=1\n",
    "        i-=1\n",
    "\n",
    "def pancakeSort(arr):\n",
    "    n=len(arr)\n",
    "    currSize=n\n",
    "    while currSize>1:\n",
    "        mi=findMax(arr,currSize)\n",
    "        if mi!=currSize-1:\n",
    "            flip(arr,mi)\n",
    "            flip(arr,currSize-1)\n",
    "        currSize-=1\n",
    "\n",
    "if __name__ == '__main__':\n",
    "    arr=[23, 10, 20, 11, 12, 6, 7]\n",
    "    print(arr)\n",
    "    pancakeSort(arr)\n",
    "    print(arr)\n"
   ]
  },
  {
   "cell_type": "markdown",
   "metadata": {},
   "source": [
    "Time Complexity O(n^2)"
   ]
  },
  {
   "cell_type": "markdown",
   "metadata": {},
   "source": [
    "# QuickSort on Singly Linked List"
   ]
  },
  {
   "cell_type": "code",
   "execution_count": 6,
   "metadata": {},
   "outputs": [
    {
     "name": "stdout",
     "output_type": "stream",
     "text": [
      "5 20 4 3 30 \n",
      "3 4 5 20 30 \n"
     ]
    }
   ],
   "source": [
    "class Node:\n",
    "    def __init__(self,data):\n",
    "        self.data=data\n",
    "        self.next=None\n",
    "\n",
    "class LinkedList:\n",
    "    def __init__(self):\n",
    "        self.head=None\n",
    "\n",
    "    def push(self,data):\n",
    "        temp=Node(data)\n",
    "        if self.head is None:\n",
    "            self.head=temp\n",
    "            return\n",
    "        temp.next=self.head\n",
    "        self.head=temp\n",
    "\n",
    "    def traverse(self):\n",
    "        if self.head is None:\n",
    "            print(\"Linked List is empty\")\n",
    "            return\n",
    "        temp=self.head\n",
    "        while temp:\n",
    "            print(temp.data,end=\" \")\n",
    "            temp=temp.next\n",
    "        print()\n",
    "\n",
    "    def partition(self,start,end):\n",
    "        if start is None or end is None or start==end:\n",
    "            return\n",
    "        pivot=end.data\n",
    "        curr=start\n",
    "        prevPivot=start\n",
    "        while start!=end:\n",
    "            if start.data<pivot:\n",
    "                prevPivot=curr\n",
    "                start.data,curr.data=curr.data,start.data\n",
    "                curr=curr.next\n",
    "            start=start.next\n",
    "        curr.data,end.data=end.data,curr.data\n",
    "        return prevPivot\n",
    "\n",
    "    def sort(self,start,end):\n",
    "        if start is None or start==end or start==end.next:\n",
    "            return\n",
    "        prevPivot=self.partition(start,end)\n",
    "        self.sort(start, prevPivot)\n",
    "\n",
    "        if prevPivot !=None and prevPivot==start:\n",
    "            self.sort(prevPivot.next, end)\n",
    "        elif prevPivot!=None and prevPivot.next:\n",
    "            self.sort(prevPivot.next.next,end)\n",
    "\n",
    "if __name__ == '__main__':\n",
    "    llist=LinkedList()\n",
    "    llist.push(30)\n",
    "    llist.push(3)\n",
    "    llist.push(4)\n",
    "    llist.push(20)\n",
    "    llist.push(5)\n",
    "    llist.traverse()\n",
    "    end=llist.head\n",
    "    while end.next:\n",
    "        end=end.next\n",
    "    # print(end.data)\n",
    "    llist.sort(llist.head,end)\n",
    "    llist.traverse()\n"
   ]
  },
  {
   "cell_type": "markdown",
   "metadata": {},
   "source": [
    "# An Insertion Sort time complexity question"
   ]
  },
  {
   "cell_type": "markdown",
   "metadata": {},
   "source": [
    "How much time Insertion sort takes to sort an array of size n in below form?\n",
    "\n",
    "arr[] = 2, 1, 4, 3, 6, 5,….i, i-1, …..n, n-1"
   ]
  },
  {
   "cell_type": "markdown",
   "metadata": {},
   "source": [
    "If we analyze the input carefully we see that every element is only one position away from its position in sorted array. The outer for loop will run till ‘n’ and the inner while loop would take “constant” steps of 1 swap and 2 comparisons. Since, while loop takes constant time and for loop runs for ‘n’ element, so overall complexity is O(n)"
   ]
  },
  {
   "cell_type": "markdown",
   "metadata": {},
   "source": [
    "Another way to look at this is, time taken by Insertion Sort is proportional to number of inversions in an array. In above example type, number of inversions is n/2, so overall time complexity is O(n)"
   ]
  },
  {
   "cell_type": "markdown",
   "metadata": {},
   "source": [
    "# Time complexity of insertion sort when there are O(n) inversions?"
   ]
  },
  {
   "cell_type": "markdown",
   "metadata": {},
   "source": [
    "Every iteration of while loop reduces one inversion. The while loop executes only if i > j and arr[i] < arr[j]. Therefore total number of while loop iterations (For all values of i) is same as number of inversions. Therefore overall time complexity of the insertion sort is O(n + f(n)) where f(n) is inversion count. If the inversion count is O(n), then the time complexity of insertion sort is O(n). In worst case, there can be n*(n-1)/2 inversions. The worst case occurs when the array is sorted in reverse order. So the worst case time complexity of insertion sort is O(n2)."
   ]
  },
  {
   "cell_type": "markdown",
   "metadata": {},
   "source": [
    "# Which sorting algorithm makes minimum number of memory writes?"
   ]
  },
  {
   "cell_type": "markdown",
   "metadata": {},
   "source": [
    "Selection Sort"
   ]
  },
  {
   "cell_type": "markdown",
   "metadata": {},
   "source": [
    "# When does the worst case of Quicksort occur?"
   ]
  },
  {
   "cell_type": "markdown",
   "metadata": {},
   "source": [
    "The answer depends on strategy for choosing pivot. In early versions of Quick Sort where leftmost (or rightmost) element is chosen as pivot, the worst occurs in following cases.\n",
    "\n",
    "1) Array is already sorted in same order.\n",
    "2) Array is already sorted in reverse order.\n",
    "3) All elements are same (special case of case 1 and 2)"
   ]
  },
  {
   "cell_type": "markdown",
   "metadata": {},
   "source": [
    "The problem was solved by taking the random index as the pivot"
   ]
  },
  {
   "cell_type": "markdown",
   "metadata": {},
   "source": [
    "# QuickSort Tail Call Optimization (Reducing worst case space to Log n )"
   ]
  },
  {
   "cell_type": "markdown",
   "metadata": {},
   "source": [
    "In QuickSort, partition function is in-place, but we need extra space for recursive function calls. A simple implementation of QuickSort makes two calls to itself and in worst case requires O(n) space on function call stack. "
   ]
  },
  {
   "cell_type": "markdown",
   "metadata": {},
   "source": [
    "The worst case happens when the selected pivot always divides the array such that one part has 0 elements and other part has n-1 elements. "
   ]
  },
  {
   "cell_type": "markdown",
   "metadata": {},
   "source": [
    "Can we reduce the auxiliary space for function call stack?"
   ]
  },
  {
   "cell_type": "markdown",
   "metadata": {},
   "source": [
    "We can limit the auxiliary space to O(Log n). The idea is based on tail call elimination. For example, in the below code, we have converted the quick sort code to use a while loop and have reduced the number of recursive calls."
   ]
  },
  {
   "cell_type": "markdown",
   "metadata": {},
   "source": [
    "<pre>\n",
    "void quickSort(int arr[], int low, int high)\n",
    "{\n",
    "    while (low < high)\n",
    "    {\n",
    "        /* pi is partitioning index, arr[p] is now\n",
    "           at right place */\n",
    "        int pi = partition(arr, low, high);\n",
    " \n",
    "        // Separately sort elements before\n",
    "        // partition and after partition\n",
    "        quickSort(arr, low, pi - 1);\n",
    " \n",
    "        low = pi+1;\n",
    "    }\n",
    "}\n",
    "</pre>"
   ]
  },
  {
   "cell_type": "markdown",
   "metadata": {},
   "source": [
    "# Why Quick Sort preferred for Arrays and Merge Sort for Linked Lists?"
   ]
  },
  {
   "cell_type": "markdown",
   "metadata": {},
   "source": [
    "<strong>Why is Quick Sort preferred for arrays?</strong>"
   ]
  },
  {
   "cell_type": "markdown",
   "metadata": {},
   "source": [
    "Quick Sort in its general form is an in-place sort (i.e. it doesn’t require any extra storage) whereas merge sort requires O(N) extra storage, N denoting the array size which may be quite expensive. Allocating and de-allocating the extra space used for merge sort increases the running time of the algorithm.\n",
    "\n",
    "Comparing average complexity we find that both type of sorts have O(NlogN) average complexity but the constants differ. For arrays, merge sort loses due to the use of extra O(N) storage space.\n",
    "\n",
    "Most practical implementations of Quick Sort use randomized version. The randomized version has expected time complexity of O(nLogn). The worst case is possible in randomized version also, but worst case doesn’t occur for a particular pattern (like sorted array) and randomized Quick Sort works well in practice.\n",
    "    \n",
    "Quick Sort is also a cache friendly sorting algorithm as it has good locality of reference when used for arrays.\n",
    "\n",
    "Quick Sort is also tail recursive, therefore tail call optimizations is done."
   ]
  },
  {
   "cell_type": "markdown",
   "metadata": {},
   "source": [
    "<strong>Why is Merge Sort preferred for Linked Lists?</strong>"
   ]
  },
  {
   "cell_type": "markdown",
   "metadata": {},
   "source": [
    "In case of linked lists the case is different mainly due to difference in memory allocation of arrays and linked lists. Unlike arrays, linked list nodes may not be adjacent in memory.\n",
    "\n",
    "Unlike array, in linked list, we can insert items in the middle in O(1) extra space and O(1) time if we are given reference/pointer to the previous node. Therefore merge operation of merge sort can be implemented without extra space for linked lists.\n",
    "\n",
    "In arrays, we can do random access as elements are continuous in memory. Let us say we have an integer (4-byte) array A and let the address of A[0] be x then to access A[i], we can directly access the memory at (x + i*4). Unlike arrays, we can not do random access in linked list.\n",
    "\n",
    "Quick Sort requires a lot of this kind of access. In linked list to access i’th index, we have to travel each and every node from the head to i’th node as we don’t have continuous block of memory. Therefore, the overhead increases for quick sort. Merge sort accesses data sequentially and the need of random access is low."
   ]
  },
  {
   "cell_type": "markdown",
   "metadata": {},
   "source": [
    "# Why quicksort is better than mergesort ?"
   ]
  },
  {
   "cell_type": "markdown",
   "metadata": {},
   "source": [
    "Auxiliary Space : Mergesort uses extra space, quicksort requires little space and exhibits good cache locality. Quick sort is an in-place sorting algorithm. In-place sorting means no additional storage space is needed to perform sorting. Merge sort requires a temporary array to merge the sorted arrays and hence it is not in-place giving Quick sort the advantage of space.\n",
    "\n",
    "Worst Cases : The worst case of quicksort O(n2) can be avoided by using randomized quicksort. It can be easily avoided with high probability by choosing the right pivot. Obtaining an average case behavior by choosing right pivot element makes it improvise the performance and becoming as efficient as Merge sort.\n",
    "\n",
    "Locality of reference : Quicksort in particular exhibits good cache locality and this makes it faster than merge sort in many cases like in virtual memory environment.\n",
    "\n",
    "Merge sort is better for large data structures: Mergesort is a stable sort, unlike quicksort and heapsort, and can be easily adapted to operate on linked lists and very large lists stored on slow-to-access media such as disk storage or network attached storage. Refer this for details"
   ]
  },
  {
   "cell_type": "markdown",
   "metadata": {},
   "source": [
    "# Python's sort or sorted function uses timsort algorithm, which is a hybrid of merge sort and insertion sort"
   ]
  },
  {
   "cell_type": "markdown",
   "metadata": {},
   "source": [
    "# Find memory conflicts among multiple threads"
   ]
  },
  {
   "cell_type": "markdown",
   "metadata": {},
   "source": [
    "<pre>\n",
    "Consider a RAM organized in blocks. There are multiple processes running on the system. Every application gets below information.\n",
    "\n",
    "(Thread T, Memory Block M, time t, R/W) which essentially tells that the thread T was using memory block M at time t and operation could be read or write.\n",
    "\n",
    "Memory conflict is defined as –\n",
    "– Multiple read operations at the same location are not cause of conflict.\n",
    "– One write operation between x+5 to x-5 to location M, will be cause of conflict for a thread accessing location M at time x where x is some time in standard unit of time measurement.\n",
    "– Example – If thread T1 accessed memory location M at time x+1 and if a thread T2 accesses location M before time x+6, then T1 and T2 are candidate of conflict given one of them does write operation.\n",
    "</pre>"
   ]
  },
  {
   "cell_type": "code",
   "execution_count": 4,
   "metadata": {},
   "outputs": [
    {
     "name": "stdout",
     "output_type": "stream",
     "text": [
      "[2, 432, 2, 'W']\n",
      "[8, 432, 8, 'R']\n",
      "[1, 512, 1, 'R']\n",
      "[3, 512, 3, 'R']\n",
      "[5, 512, 5, 'W']\n",
      "[7, 835, 7, 'R']\n",
      "[4, 932, 4, 'R']\n",
      "[6, 932, 6, 'R']\n",
      "\n",
      "Memory Conflicts-\n",
      "\n",
      "[(3, 5), (1, 5)]\n",
      "2\n"
     ]
    }
   ],
   "source": [
    "from functools import cmp_to_key\n",
    "\n",
    "def compare(a,b):\n",
    "    if a[1]<b[1]:\n",
    "        return -1\n",
    "    elif a[1]>b[1]:\n",
    "        return 1\n",
    "    else:\n",
    "        if a[2]<b[2]:\n",
    "            return -1\n",
    "        elif a[2]>b[2]:\n",
    "            return 1\n",
    "        else:\n",
    "            return 0\n",
    "\n",
    "\n",
    "def getMemoryConflicts(memAccesses):\n",
    "    n=len(memAccesses)\n",
    "    memAccesses.sort(key= cmp_to_key(compare))\n",
    "    for i in memAccesses:\n",
    "        print(i)\n",
    "    conflictsCount=0\n",
    "    conflicts=[]\n",
    "    for i in range(1,n):\n",
    "        j=i-1\n",
    "        while j>0 and memAccesses[j][1]==memAccesses[i][1] and abs(memAccesses[j][2]-memAccesses[i][2])<=5:\n",
    "            if memAccesses[j][3]=='W' or memAccesses[i][3]=='W':\n",
    "                conflictsCount+=1\n",
    "                conflicts.append((memAccesses[j][0],memAccesses[i][0]))\n",
    "            j-=1\n",
    "    print('\\nMemory Conflicts-\\n')\n",
    "    print(conflicts)\n",
    "    print(conflictsCount)\n",
    "\n",
    "if __name__ == '__main__':\n",
    "    memAccesses=[[1, 512, 1, 'R'],[2, 432, 2, 'W'],[3, 512, 3, 'R'],[4, 932, 4, 'R'],[5, 512, 5, 'W'],[6, 932, 6, 'R'],[7, 835, 7, 'R'],[8, 432, 8, 'R']]\n",
    "    getMemoryConflicts(memAccesses)\n"
   ]
  },
  {
   "cell_type": "code",
   "execution_count": null,
   "metadata": {},
   "outputs": [],
   "source": []
  }
 ],
 "metadata": {
  "kernelspec": {
   "display_name": "Python 3",
   "language": "python",
   "name": "python3"
  },
  "language_info": {
   "codemirror_mode": {
    "name": "ipython",
    "version": 3
   },
   "file_extension": ".py",
   "mimetype": "text/x-python",
   "name": "python",
   "nbconvert_exporter": "python",
   "pygments_lexer": "ipython3",
   "version": "3.7.6"
  }
 },
 "nbformat": 4,
 "nbformat_minor": 4
}
