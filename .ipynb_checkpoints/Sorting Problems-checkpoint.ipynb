{
 "cells": [
  {
   "cell_type": "markdown",
   "metadata": {},
   "source": [
    "# Comparators"
   ]
  },
  {
   "cell_type": "markdown",
   "metadata": {},
   "source": [
    "When the data you want to sort is an array or list of mobjects, and these objects have several attributes. If you had an array of integers or an array of strings,\n",
    "it’s pretty obvious what is being sorted! Your favorite programming language is already smart enough\n",
    "to know how to sort simple data like numbers and strings. But suppose you had a list of planet objects.\n",
    "Each planet might have four attributes: name, number of moons, distance from the sun, and mass. You\n",
    "could conceivably desire to sort your planets on any one of these attributes."
   ]
  },
  {
   "cell_type": "markdown",
   "metadata": {},
   "source": [
    "<pre>\n",
    "Writing a comparator entails writing a function that takes two objects of the same type. Suppose we\n",
    "call these two objects obj1 and obj2. The comparator function will return an integer. There are three\n",
    "possibilities.\n",
    "• If obj1 should appear before obj2 in a sorted list, then we return a negative number.\n",
    "• If obj1 should appear after obj2 in a sorted list, then we return a positive number.\n",
    "• If we don’t care which object comes first (because they might be equal), then we return zero.\n",
    "By “negative number” and “positive number”, it does not matter exactly which integer you return. By\n",
    "convention, we would return –1 or +1, or you may decide to “subtract” the object values, if that makes\n",
    "sense. (Note that the way that comparators are defined implies that by default we would expect lists to\n",
    "be sorted in ascending order.)\n",
    "</pre>"
   ]
  },
  {
   "cell_type": "markdown",
   "metadata": {},
   "source": [
    "<pre>\n",
    "To illustrate, suppose we had the following data about countries. Let’s see how we would allow a\n",
    "program to sort on any of the three columns (attributes).\n",
    "Name Dialing code Population (millions)\n",
    "India 91 1148\n",
    "China 86 1321\n",
    "New Zealand 64 5\n",
    "France 33 65\n",
    "Mexico 52 110\n",
    "</pre>"
   ]
  },
  {
   "cell_type": "code",
   "execution_count": 3,
   "metadata": {},
   "outputs": [
    {
     "name": "stdout",
     "output_type": "stream",
     "text": [
      "[['France', 33, 65], ['Mexico', 52, 110], ['New Zealand', 64, 5], ['China', 86, 1321], ['India', 91, 1148]]\n"
     ]
    }
   ],
   "source": [
    "from functools import cmp_to_key\n",
    "\n",
    "class Country:\n",
    "\n",
    "    def __init__(self,name,code,population):\n",
    "        self.name=name\n",
    "        self.code=code\n",
    "        self.population=population\n",
    "\n",
    "    def byAlpha(countryA,countryB):\n",
    "        if countryA[0]<countryB[0]:\n",
    "            return -1\n",
    "        elif countryA[0]>countryB[0]:\n",
    "            return 1\n",
    "        else:\n",
    "            return 0\n",
    "\n",
    "    def byCode(countryA,countryB):\n",
    "        if countryA[1]<countryB[1]:\n",
    "            return -1\n",
    "        elif countryA[1]>countryB[1]:\n",
    "            return 1\n",
    "        else:\n",
    "            return 0\n",
    "\n",
    "    def byPopulation(countryA,countryB):\n",
    "        if countryA[2]<countryB[2]:\n",
    "            return -1\n",
    "        elif countryA[2]>countryB[2]:\n",
    "            return 1\n",
    "        else:\n",
    "            return 0\n",
    "\n",
    "\n",
    "def sortArray(country):\n",
    "    country=sorted(country,key=cmp_to_key(Country.byCode))\n",
    "    print(country)\n",
    "\n",
    "if __name__ == '__main__':\n",
    "    country=[[\"India\", 91, 1148],[\"China\", 86, 1321], [\"New Zealand\", 64, 5], [\"France\", 33, 65], [\"Mexico\", 52, 110]]\n",
    "    sortArray(country)\n"
   ]
  },
  {
   "cell_type": "markdown",
   "metadata": {},
   "source": [
    "# Sort elements by frequency"
   ]
  },
  {
   "cell_type": "markdown",
   "metadata": {},
   "source": [
    "Print the elements of an array in the decreasing frequency if 2 numbers have same frequency then print the one which came first. "
   ]
  },
  {
   "cell_type": "markdown",
   "metadata": {},
   "source": [
    "Approach- Hashing and Sorting"
   ]
  },
  {
   "cell_type": "code",
   "execution_count": 4,
   "metadata": {},
   "outputs": [
    {
     "name": "stdout",
     "output_type": "stream",
     "text": [
      "8 8 8 2 2 5 5 6 -1 9999999 "
     ]
    }
   ],
   "source": [
    "from functools import cmp_to_key\n",
    "\n",
    "map={}\n",
    "\n",
    "def compare(a,b):\n",
    "    if map[a][1]<map[b][1]:\n",
    "        return 1\n",
    "    elif map[a][1]>map[b][1]:\n",
    "        return -1\n",
    "    else:\n",
    "        if map[a][0]<map[b][0]:\n",
    "            return -1\n",
    "        elif map[a][0]>map[b][0]:\n",
    "            return 1\n",
    "        else:\n",
    "            return 0\n",
    "\n",
    "def sortByFrequency(arr):\n",
    "    n=len(arr)\n",
    "    # map={}\n",
    "    for i in range(n):\n",
    "        if arr[i] in map:\n",
    "            map[arr[i]][1]+=1\n",
    "        else:\n",
    "            map[arr[i]]=[i,1]\n",
    "    # print(map)\n",
    "\n",
    "    sortedEle=sorted(map,key=cmp_to_key(compare))\n",
    "    for i in range(len(sortedEle)):\n",
    "        for j in range(map[sortedEle[i]][1]):\n",
    "            print(sortedEle[i],end=\" \")\n",
    "    # print(sortedEle)\n",
    "\n",
    "if __name__ == '__main__':\n",
    "    # arr=[2,5,2,8,5,6,8,8]\n",
    "    arr=[2, 5, 2, 6, -1, 9999999, 5, 8, 8, 8]\n",
    "    # arr=\"tree\"\n",
    "    sortByFrequency(arr)\n"
   ]
  },
  {
   "cell_type": "markdown",
   "metadata": {},
   "source": [
    "Approach 2 - Using BST"
   ]
  },
  {
   "cell_type": "code",
   "execution_count": 5,
   "metadata": {},
   "outputs": [
    {
     "name": "stdout",
     "output_type": "stream",
     "text": [
      "8 8 8 2 2 5 5 6 "
     ]
    }
   ],
   "source": [
    "class Node:\n",
    "    def __init__(self,data,count):\n",
    "        self.data=data\n",
    "        self.count=count\n",
    "        self.left=None\n",
    "        self.right=None\n",
    "\n",
    "def store(root,value,count):\n",
    "    if root is None:\n",
    "        return Node(value,count)\n",
    "    if root.count<count:\n",
    "        root.right=store(root.right,value,count)\n",
    "    else:\n",
    "        root.left=store(root.left,value,count)\n",
    "    return root\n",
    "\n",
    "def inorder(root):\n",
    "    if root is None:\n",
    "        return\n",
    "    inorder(root.right)\n",
    "    for i in range(root.count):\n",
    "        print(root.data,end=\" \")\n",
    "    # print(root.data,root.count)\n",
    "    inorder(root.left)\n",
    "\n",
    "def sortByFrequency(arr):\n",
    "    map={}\n",
    "    for i in arr:\n",
    "        if i in map:\n",
    "            map[i]+=1\n",
    "        else:\n",
    "            map[i]=1\n",
    "    # print(map)\n",
    "    root=None\n",
    "    for i in map:\n",
    "        # print(i,map[i])\n",
    "        root=store(root,i,map[i])\n",
    "    # print(root)\n",
    "\n",
    "    inorder(root)\n",
    "\n",
    "if __name__ == '__main__':\n",
    "    arr=[2,5,2,8,5,6,8,8]\n",
    "    # arr=[2, 5, 2, 6, -1, 9999999, 5, 8, 8, 8]\n",
    "    # arr=\"tree\"\n",
    "    # arr=[2, 3, 2, 4, 5, 12, 2, 3, 3, 3, 12]\n",
    "    sortByFrequency(arr)\n"
   ]
  },
  {
   "cell_type": "markdown",
   "metadata": {},
   "source": [
    "# Count Inversions in an array"
   ]
  },
  {
   "cell_type": "markdown",
   "metadata": {},
   "source": [
    "Inversion Count for an array indicates – how far (or close) the array is from being sorted. If array is already sorted then inversion count is 0. If array is sorted in reverse order that inversion count is the maximum. \n",
    "\n",
    "Formally speaking, two elements a[i] and a[j] form an inversion if a[i] > a[j] and i < j "
   ]
  },
  {
   "cell_type": "markdown",
   "metadata": {},
   "source": [
    "Approach 1 -> Simple\n",
    "\n",
    "Fix one element and check for the rest elements if they form an inversion"
   ]
  },
  {
   "cell_type": "code",
   "execution_count": 2,
   "metadata": {},
   "outputs": [
    {
     "name": "stdout",
     "output_type": "stream",
     "text": [
      "6\n"
     ]
    }
   ],
   "source": [
    "# Simple Approach\n",
    "def countInversions(arr):\n",
    "    result=0\n",
    "    for i in range(len(arr)):\n",
    "        for j in range(i+1,len(arr)):\n",
    "            if arr[j]<arr[i]:\n",
    "                result+=1\n",
    "    return result\n",
    "\n",
    "if __name__ == '__main__':\n",
    "    arr=[8, 4, 2, 1]\n",
    "    result=countInversions(arr)\n",
    "    print(result)\n"
   ]
  },
  {
   "cell_type": "markdown",
   "metadata": {},
   "source": [
    "Time Complexity - O(n^2), Space Complexity - O(1)"
   ]
  },
  {
   "cell_type": "markdown",
   "metadata": {},
   "source": [
    "Approach 2-> Enhanced Merge Sort"
   ]
  },
  {
   "cell_type": "markdown",
   "metadata": {},
   "source": [
    "In merge process, let i is used for indexing left sub-array and j for right sub-array. At any step in merge(), if a[i] is greater than a[j], then there are (mid – i) inversions. because left and right subarrays are sorted, so all the remaining elements in left-subarray (a[i+1], a[i+2] … a[mid]) will be greater than a[j]"
   ]
  },
  {
   "cell_type": "code",
   "execution_count": 3,
   "metadata": {},
   "outputs": [
    {
     "name": "stdout",
     "output_type": "stream",
     "text": [
      "6\n"
     ]
    }
   ],
   "source": [
    "def countInversions(arr):\n",
    "    inversionCount=0\n",
    "    if len(arr)<=1:\n",
    "        return inversionCount\n",
    "    mid=len(arr)//2\n",
    "    left=arr[:mid]\n",
    "    right=arr[mid:]\n",
    "    inversionCount+=countInversions(left)\n",
    "    inversionCount+=countInversions(right)\n",
    "\n",
    "    i=j=k=0\n",
    "\n",
    "    while i<len(left) and j<len(right):\n",
    "        if left[i]<right[j]:\n",
    "            arr[k]=left[i]\n",
    "            i+=1\n",
    "            k+=1\n",
    "        else:\n",
    "            arr[k]=right[j]\n",
    "            j+=1\n",
    "            k+=1\n",
    "            inversionCount+=(mid-i)\n",
    "\n",
    "    while i<len(left):\n",
    "        arr[k]=left[i]\n",
    "        i+=1\n",
    "        k+=1\n",
    "\n",
    "    while j<len(right):\n",
    "        arr[k]=right[j]\n",
    "        j+=1\n",
    "        k+=1\n",
    "\n",
    "    return inversionCount\n",
    "\n",
    "if __name__ == '__main__':\n",
    "    arr=[8, 4, 2, 1]\n",
    "    # arr=[3,1,2]\n",
    "    result=countInversions(arr)\n",
    "    print(result)\n"
   ]
  },
  {
   "cell_type": "markdown",
   "metadata": {},
   "source": [
    "Other Approaches- AVL TREE & BINARY INDEX TREE"
   ]
  },
  {
   "cell_type": "markdown",
   "metadata": {},
   "source": [
    "# Sort an array of 0s, 1s and 2s"
   ]
  },
  {
   "cell_type": "markdown",
   "metadata": {},
   "source": [
    "Mainly to segregate 0,1,2"
   ]
  },
  {
   "cell_type": "markdown",
   "metadata": {},
   "source": [
    "Simple solution is to calculate the number of 0,1,2 and with use that number to create a result array. Time Complexity is O(n), but it requires 2 traversals of the array"
   ]
  },
  {
   "cell_type": "markdown",
   "metadata": {},
   "source": [
    "<strong>Another Approach-> Dutch National Flag Problem</strong>"
   ]
  },
  {
   "cell_type": "code",
   "execution_count": 5,
   "metadata": {},
   "outputs": [
    {
     "name": "stdout",
     "output_type": "stream",
     "text": [
      "[0, 0, 0, 0, 0, 1, 1, 1, 1, 1, 2, 2]\n"
     ]
    }
   ],
   "source": [
    "def rearrangeElements(arr,n):\n",
    "    low=0\n",
    "    curr=0\n",
    "    high=n-1\n",
    "\n",
    "    while curr<=high:\n",
    "        if arr[curr]==0:\n",
    "            arr[curr],arr[low]=arr[low],arr[curr]\n",
    "            low+=1\n",
    "            curr+=1\n",
    "        elif arr[curr]==1:\n",
    "            curr+=1\n",
    "        else:\n",
    "            arr[curr],arr[high]=arr[high],arr[curr]\n",
    "            high-=1\n",
    "\n",
    "if __name__ == '__main__':\n",
    "    # arr=[0, 1, 2, 0, 1, 2]\n",
    "    arr=[0, 1, 1, 0, 1, 2, 1, 2, 0, 0, 0, 1]\n",
    "    rearrangeElements(arr,len(arr))\n",
    "    print(arr)\n"
   ]
  },
  {
   "cell_type": "markdown",
   "metadata": {},
   "source": [
    "Time Complexity - O(n) and space complexity - O(1)"
   ]
  },
  {
   "cell_type": "markdown",
   "metadata": {},
   "source": [
    "# Find the Minimum length Unsorted Subarray, sorting which makes the complete array sorted"
   ]
  },
  {
   "cell_type": "markdown",
   "metadata": {},
   "source": [
    "1) If the input array is [10, 12, 20, 30, 25, 40, 32, 31, 35, 50, 60], your program should be able to find that the subarray lies between the indexes 3 and 8.\n",
    "\n",
    "\n",
    "2) If the input array is [0, 1, 15, 25, 6, 7, 30, 40, 50], your program should be able to find that the subarray lies between the indexes 2 and 5."
   ]
  },
  {
   "cell_type": "markdown",
   "metadata": {},
   "source": [
    "Approach 1-> Sort the array using the temporary array and check for the mismatching indices"
   ]
  },
  {
   "cell_type": "code",
   "execution_count": 6,
   "metadata": {},
   "outputs": [
    {
     "name": "stdout",
     "output_type": "stream",
     "text": [
      "[3, 8]\n"
     ]
    }
   ],
   "source": [
    "def findIndexes(arr):\n",
    "    n=len(arr)\n",
    "    temp=arr[:]\n",
    "    temp.sort()\n",
    "    indexes=[None,None]\n",
    "    i=0\n",
    "    while i<n:\n",
    "        if arr[i]!=temp[i]:\n",
    "            indexes[0]=i\n",
    "            break\n",
    "        i+=1\n",
    "    i=n-1\n",
    "    while i>=0:\n",
    "        if arr[i]!=temp[i]:\n",
    "            indexes[1]=i\n",
    "            break\n",
    "        i-=1\n",
    "    return indexes\n",
    "    # return indexes[1]-indexes[0]+1\n",
    "\n",
    "\n",
    "if __name__ == '__main__':\n",
    "    arr=[10, 12, 20, 30, 25, 40, 32, 31, 35, 50, 60]\n",
    "    # arr=[0, 1, 15, 25, 6, 7, 30, 40, 50]\n",
    "    result=findIndexes(arr)\n",
    "    print(result)\n"
   ]
  },
  {
   "cell_type": "markdown",
   "metadata": {},
   "source": [
    "Time Complexity - O(nlogn) and Space Complexity - O(n)"
   ]
  },
  {
   "cell_type": "markdown",
   "metadata": {},
   "source": [
    "Approach 2-> "
   ]
  },
  {
   "cell_type": "markdown",
   "metadata": {},
   "source": [
    "<strong>1) Find the candidate unsorted subarray</strong>\n",
    "\n",
    "a) Scan from left to right and find the first element which is greater than the next element. Let s be the index of such an element. In the above example 1, s is 3 (index of 30).\n",
    "\n",
    "b) Scan from right to left and find the first element (first in right to left order) which is smaller than the next element (next in right to left order). Let e be the index of such an element. In the above example 1, e is 7 (index of 31).\n",
    "\n",
    "\n",
    "<strong>2) Check whether sorting the candidate unsorted subarray makes the complete array sorted or not. If not, then include more elements in the subarray.</strong>\n",
    "\n",
    "a) Find the minimum and maximum values in arr[s..e]. Let minimum and maximum values be min and max. min and max for [30, 25, 40, 32, 31] are 25 and 40 respectively.\n",
    "\n",
    "b) Find the first element (if there is any) in arr[0..s-1] which is greater than min, change s to index of this element. There is no such element in above example 1.\n",
    "\n",
    "c) Find the last element (if there is any) in arr[e+1..n-1] which is smaller than max, change e to index of this element. In the above example 1, e is changed to 8 (index of 35)\n",
    "\n",
    "<strong>3) Print s and e.</strong>"
   ]
  },
  {
   "cell_type": "code",
   "execution_count": 9,
   "metadata": {},
   "outputs": [
    {
     "name": "stdout",
     "output_type": "stream",
     "text": [
      "[2, 5]\n"
     ]
    }
   ],
   "source": [
    "def findIndexes(arr):\n",
    "    n=len(arr)\n",
    "    s=0\n",
    "    e=0\n",
    "    for i in range(n-1):\n",
    "        if arr[i]>arr[i+1]:\n",
    "            s=i\n",
    "            break\n",
    "    # print(i)\n",
    "    if i==n-2 and arr[i]<arr[i+1]:\n",
    "        print(\"The array is sorted\")\n",
    "        return\n",
    "\n",
    "    for i in range(n-1,0,-1):\n",
    "        if arr[i]<arr[i-1]:\n",
    "            e=i\n",
    "            break\n",
    "\n",
    "    # print(s,e)\n",
    "\n",
    "    maxEle=float('-infinity')\n",
    "    minEle=float('infinity')\n",
    "\n",
    "    for i in range(s,e+1):\n",
    "        if arr[i]>maxEle:\n",
    "            maxEle=arr[i]\n",
    "        if arr[i]<minEle:\n",
    "            minEle=arr[i]\n",
    "\n",
    "    for i in range(s):\n",
    "        if arr[i]>minEle:\n",
    "            s=i\n",
    "            break\n",
    "\n",
    "    for i in range(e+1,n):\n",
    "        if arr[i]<maxEle:\n",
    "            e=i\n",
    "\n",
    "    return [s,e]\n",
    "\n",
    "\n",
    "\n",
    "if __name__ == '__main__':\n",
    "    # arr=[10, 12, 20, 30, 25, 40, 32, 31, 35, 50, 60]\n",
    "    arr=[0, 1, 15, 25, 6, 7, 30, 40, 50]\n",
    "    # arr=[1,2,3,4,6,5]\n",
    "    result=findIndexes(arr)\n",
    "    print(result)\n"
   ]
  },
  {
   "cell_type": "markdown",
   "metadata": {},
   "source": [
    "Time Complexity - O(n) and space complexity -O(1)"
   ]
  },
  {
   "cell_type": "markdown",
   "metadata": {},
   "source": [
    "# Find whether an array is subset of another array"
   ]
  },
  {
   "cell_type": "markdown",
   "metadata": {},
   "source": [
    "Approach 1-> Run two loops and one by one check if all the elements of array2 are present in array1. If yes then it is a subset, if any one element misses then it is not a subset"
   ]
  },
  {
   "cell_type": "markdown",
   "metadata": {},
   "source": [
    "Time Complexity -O(n^2)"
   ]
  },
  {
   "cell_type": "markdown",
   "metadata": {},
   "source": [
    "Approach 2-> In the above approach we are using linear search. We can do the search in logn time if the aray is sorted. So approach will be to sort the array in nlogn time and for m elements search each element in mlogn time using binary search, so time complexity is O(nlogn +mlogn)"
   ]
  },
  {
   "cell_type": "markdown",
   "metadata": {},
   "source": [
    "Approach 3-> Sorting and 2 pointers using merging method"
   ]
  },
  {
   "cell_type": "code",
   "execution_count": 10,
   "metadata": {},
   "outputs": [
    {
     "name": "stdout",
     "output_type": "stream",
     "text": [
      "Yes a subset\n"
     ]
    }
   ],
   "source": [
    "def isSubset(array1,array2):\n",
    "    array1.sort()\n",
    "    array2.sort()\n",
    "    i=0\n",
    "    j=0\n",
    "    while i<len(array1) and j<len(array2):\n",
    "        if array1[i]<array2[j]:\n",
    "            i+=1\n",
    "        elif array1[i]==array2[j]:\n",
    "            i+=1\n",
    "            j+=1\n",
    "        else:\n",
    "            break\n",
    "\n",
    "    if j<len(array2):\n",
    "        print(\"Not a subset\")\n",
    "    if j==len(array2):\n",
    "        print(\"Yes a subset\")\n",
    "\n",
    "if __name__ == '__main__':\n",
    "    array1=[11, 1, 13, 21, 3, 7]\n",
    "    array2=[11, 3, 7, 1]\n",
    "    isSubset(array1,array2)\n"
   ]
  },
  {
   "cell_type": "markdown",
   "metadata": {},
   "source": [
    "Time Complexity -O(nlogn + mlogm)"
   ]
  },
  {
   "cell_type": "markdown",
   "metadata": {},
   "source": [
    "Approach 4-> Using Hashing"
   ]
  },
  {
   "cell_type": "markdown",
   "metadata": {},
   "source": [
    "We can create a hash of the input array, now from the other array, we can search if the elements are present in the input array or not in just O(1). So Total time will be O(n+m) "
   ]
  },
  {
   "cell_type": "markdown",
   "metadata": {},
   "source": [
    "Approach 5-> Using Freqeuncy Table"
   ]
  },
  {
   "cell_type": "markdown",
   "metadata": {},
   "source": [
    "Approaches 1,2,4 does not handle the cases when there are duplicate elements. So here we can maintain a map of frequencies and as the element is found we can decrease the frequency of that particular element. And check if the array is subset of the input aray or not"
   ]
  },
  {
   "cell_type": "code",
   "execution_count": 11,
   "metadata": {},
   "outputs": [
    {
     "name": "stdout",
     "output_type": "stream",
     "text": [
      "Yes it is a subset\n"
     ]
    }
   ],
   "source": [
    "def isSubset(array1,array2):\n",
    "    map={}\n",
    "    for i in array1:\n",
    "        if i in map:\n",
    "            map[i]+=1\n",
    "        else:\n",
    "            map[i]=1\n",
    "\n",
    "    for i in array2:\n",
    "        if i in map and map[i]>0:\n",
    "            map[i]-=1\n",
    "        else:\n",
    "            print(\"Not a subset\")\n",
    "            return\n",
    "\n",
    "    print(\"Yes it is a subset\")\n",
    "\n",
    "if __name__ == '__main__':\n",
    "    array1=[11, 1, 13, 21, 3, 7]\n",
    "    array2=[11, 3, 7, 1]\n",
    "    isSubset(array1,array2)\n"
   ]
  },
  {
   "cell_type": "markdown",
   "metadata": {},
   "source": [
    "Time Complexity - O(m+n)"
   ]
  },
  {
   "cell_type": "markdown",
   "metadata": {},
   "source": [
    "# Sort a nearly sorted (or K sorted) array"
   ]
  },
  {
   "cell_type": "markdown",
   "metadata": {},
   "source": [
    "Given an array of n elements, where each element is at most k away from its target position, devise an algorithm that sorts in O(n log k) time. For example, let us consider k is 2, an element at index 7 in the sorted array, can be at indexes 5, 6, 7, 8, 9 in the given array."
   ]
  },
  {
   "cell_type": "markdown",
   "metadata": {},
   "source": [
    "Approach 1-> We can use Insertion Sort, Since the inner loop will run onl k times so we have the time complexity as O(nk)"
   ]
  },
  {
   "cell_type": "markdown",
   "metadata": {},
   "source": [
    "Approach 2-> We can maintain minheaps of size k and we can one by one place the elements of min heap to its correct position in the array"
   ]
  },
  {
   "cell_type": "code",
   "execution_count": 13,
   "metadata": {},
   "outputs": [
    {
     "name": "stdout",
     "output_type": "stream",
     "text": [
      "[2, 3, 5, 6, 8, 9, 10]\n"
     ]
    }
   ],
   "source": [
    "from heapq import heapify,heappop,heappush\n",
    "\n",
    "def sortNearlySortedArray(arr,n,k):\n",
    "    heap=arr[:k+1]\n",
    "    heapify(heap)\n",
    "    targetIndex=0\n",
    "    for i in range(k+1,n):\n",
    "        arr[targetIndex]=heappop(heap)\n",
    "        heappush(heap,arr[i])\n",
    "        targetIndex+=1\n",
    "    while heap:\n",
    "        arr[targetIndex]=heappop(heap)\n",
    "        targetIndex+=1\n",
    "\n",
    "if __name__ == '__main__':\n",
    "    arr=[6, 5, 3, 2, 8, 10, 9]\n",
    "    sortNearlySortedArray(arr,len(arr),3)\n",
    "    print(arr)\n"
   ]
  },
  {
   "cell_type": "markdown",
   "metadata": {},
   "source": [
    "Time Complexity - O(k) + O(n-k log k) and Space Complexity - O(k)"
   ]
  },
  {
   "cell_type": "markdown",
   "metadata": {},
   "source": [
    "# Sort a linked list of 0s, 1s and 2s"
   ]
  },
  {
   "cell_type": "markdown",
   "metadata": {},
   "source": [
    "Approach 1-> Counting the number of 0, 1, 2 and modifying the data in the list"
   ]
  },
  {
   "cell_type": "code",
   "execution_count": 14,
   "metadata": {},
   "outputs": [
    {
     "name": "stdout",
     "output_type": "stream",
     "text": [
      "2 1 2 1 1 2 0 1 \n",
      "\n",
      "0 1 1 1 1 2 2 2 \n",
      "\n"
     ]
    }
   ],
   "source": [
    "class Node:\n",
    "    def __init__(self,data):\n",
    "        self.data=data\n",
    "        self.next=None\n",
    "\n",
    "def sort012(head):\n",
    "    if head is None:\n",
    "        print(\"List is empty\")\n",
    "        return\n",
    "    n0=n1=n2=0\n",
    "\n",
    "    temp=head\n",
    "    while temp:\n",
    "        if temp.data==0:\n",
    "            n0+=1\n",
    "        elif temp.data==1:\n",
    "            n1+=1\n",
    "        else:\n",
    "            n2+=1\n",
    "        temp=temp.next\n",
    "\n",
    "    temp=head\n",
    "    for i in range(n0):\n",
    "        temp.data=0\n",
    "        temp=temp.next\n",
    "    for i in range(n1):\n",
    "        temp.data=1\n",
    "        temp=temp.next\n",
    "    for i in range(n2):\n",
    "        temp.data=2\n",
    "        temp=temp.next\n",
    "\n",
    "def traverse(head):\n",
    "    if head is None:\n",
    "        return\n",
    "    temp=head\n",
    "    while temp:\n",
    "        print(temp.data,end=\" \")\n",
    "        temp=temp.next\n",
    "    print('\\n')\n",
    "\n",
    "if __name__ == '__main__':\n",
    "    # 2->1->2->1->1->2->0->1->0\n",
    "    head=Node(2)\n",
    "    head.next=Node(1)\n",
    "    head.next.next=Node(2)\n",
    "    head.next.next.next=Node(1)\n",
    "    head.next.next.next.next=Node(1)\n",
    "    head.next.next.next.next.next=Node(2)\n",
    "    head.next.next.next.next.next.next=Node(0)\n",
    "    head.next.next.next.next.next.next.next=Node(1)\n",
    "    traverse(head)\n",
    "    sort012(head)\n",
    "    traverse(head)\n"
   ]
  },
  {
   "cell_type": "markdown",
   "metadata": {},
   "source": [
    "Time Complexity - O(n) and Space Complexity O(1)  "
   ]
  },
  {
   "cell_type": "markdown",
   "metadata": {},
   "source": [
    "Another Approach by changing links"
   ]
  },
  {
   "cell_type": "markdown",
   "metadata": {},
   "source": [
    "Iterate through the linked list. Maintain 3 pointers named zero, one and two to point to current ending nodes of linked lists containing 0, 1, and 2 respectively. For every traversed node, we attach it to the end of its corresponding list. Finally, we link all three lists. To avoid many null checks, we use three dummy pointers zeroD, oneD and twoD that work as dummy headers of three lists."
   ]
  },
  {
   "cell_type": "code",
   "execution_count": 15,
   "metadata": {},
   "outputs": [
    {
     "name": "stdout",
     "output_type": "stream",
     "text": [
      "2 1 2 1 1 2 0 1 \n",
      "\n",
      "0 1 1 1 1 2 2 2 \n",
      "\n"
     ]
    }
   ],
   "source": [
    "class Node:\n",
    "    def __init__(self,data):\n",
    "        self.data=data\n",
    "        self.next=None\n",
    "\n",
    "def sort012(head):\n",
    "    if head is None:\n",
    "        print(\"List is empty\")\n",
    "        return\n",
    "\n",
    "\n",
    "    # Dummy Pointers\n",
    "    zeroD=Node(0)\n",
    "    oneD=Node(0)\n",
    "    twoD=Node(0)\n",
    "\n",
    "    # Traversal Pointers\n",
    "    zero=zeroD\n",
    "    one=oneD\n",
    "    two=twoD\n",
    "\n",
    "    curr=head\n",
    "    while curr:\n",
    "        if curr.data==0:\n",
    "            zero.next=curr\n",
    "            zero=zero.next\n",
    "            curr=curr.next\n",
    "        elif curr.data==1:\n",
    "            one.next=curr\n",
    "            one=one.next\n",
    "            curr=curr.next\n",
    "        else:\n",
    "            two.next=curr\n",
    "            two=two.next\n",
    "            curr=curr.next\n",
    "\n",
    "    if oneD.next:\n",
    "        zero.next=oneD.next\n",
    "    else:\n",
    "        zero.next=twoD.next\n",
    "\n",
    "    one.next=twoD.next\n",
    "    two.next=None\n",
    "\n",
    "    head=zeroD.next\n",
    "    return head\n",
    "\n",
    "\n",
    "def traverse(head):\n",
    "    if head is None:\n",
    "        return\n",
    "    temp=head\n",
    "    while temp:\n",
    "        print(temp.data,end=\" \")\n",
    "        temp=temp.next\n",
    "    print('\\n')\n",
    "\n",
    "if __name__ == '__main__':\n",
    "    # 2->1->2->1->1->2->0->1->0\n",
    "    head=Node(2)\n",
    "    head.next=Node(1)\n",
    "    head.next.next=Node(2)\n",
    "    head.next.next.next=Node(1)\n",
    "    head.next.next.next.next=Node(1)\n",
    "    head.next.next.next.next.next=Node(2)\n",
    "    head.next.next.next.next.next.next=Node(0)\n",
    "    head.next.next.next.next.next.next.next=Node(1)\n",
    "    traverse(head)\n",
    "    head=sort012(head)\n",
    "    traverse(head)\n"
   ]
  },
  {
   "cell_type": "markdown",
   "metadata": {},
   "source": [
    "Time Complexity O(n) and Space Complexity O(1)"
   ]
  },
  {
   "cell_type": "markdown",
   "metadata": {},
   "source": [
    "# Pancake Sorting"
   ]
  },
  {
   "cell_type": "markdown",
   "metadata": {},
   "source": [
    "Given an unsorted array, sort the given array. You are allowed to do only following operation on array. \n",
    "\n",
    "\n",
    "flip(arr, i): Reverse array from 0 to i "
   ]
  },
  {
   "cell_type": "code",
   "execution_count": 16,
   "metadata": {},
   "outputs": [
    {
     "name": "stdout",
     "output_type": "stream",
     "text": [
      "[23, 10, 20, 11, 12, 6, 7]\n",
      "[6, 7, 10, 11, 12, 20, 23]\n"
     ]
    }
   ],
   "source": [
    "def findMax(arr,n):\n",
    "    mi=0\n",
    "    for i in range(n):\n",
    "        if arr[i]>arr[mi]:\n",
    "            mi=i\n",
    "    return mi\n",
    "\n",
    "def flip(arr,i):\n",
    "    start=0\n",
    "    while start<i:\n",
    "        arr[start],arr[i]=arr[i],arr[start]\n",
    "        start+=1\n",
    "        i-=1\n",
    "\n",
    "def pancakeSort(arr):\n",
    "    n=len(arr)\n",
    "    currSize=n\n",
    "    while currSize>1:\n",
    "        mi=findMax(arr,currSize)\n",
    "        if mi!=currSize-1:\n",
    "            flip(arr,mi)\n",
    "            flip(arr,currSize-1)\n",
    "        currSize-=1\n",
    "\n",
    "if __name__ == '__main__':\n",
    "    arr=[23, 10, 20, 11, 12, 6, 7]\n",
    "    print(arr)\n",
    "    pancakeSort(arr)\n",
    "    print(arr)\n"
   ]
  },
  {
   "cell_type": "markdown",
   "metadata": {},
   "source": [
    "Time Complexity -O(n^2)"
   ]
  },
  {
   "cell_type": "markdown",
   "metadata": {},
   "source": [
    "Pancake Sorting Problem: Later"
   ]
  },
  {
   "cell_type": "markdown",
   "metadata": {},
   "source": [
    "# Find number of pairs (x, y) in an array such that x^y > y^x"
   ]
  },
  {
   "cell_type": "markdown",
   "metadata": {},
   "source": [
    "Brute Force Approach-> Run 2 loops and check for each x in y array"
   ]
  },
  {
   "cell_type": "markdown",
   "metadata": {},
   "source": [
    "# Efficient Approach - Tomorrow"
   ]
  },
  {
   "cell_type": "markdown",
   "metadata": {},
   "source": [
    "# Count all distinct pairs with difference equal to k"
   ]
  },
  {
   "cell_type": "markdown",
   "metadata": {},
   "source": [
    "Given an integer array and a positive integer k, count all distinct pairs with difference equal to k."
   ]
  },
  {
   "cell_type": "markdown",
   "metadata": {},
   "source": [
    "Approach 1->. Run 2 loops to check for each element in the inner loop. Time Complexity O(n^2)"
   ]
  },
  {
   "cell_type": "markdown",
   "metadata": {},
   "source": [
    "Approach 2-> Sort the array and for each element check for arr[i]+k in the array[i+1,...n-1] using binary search"
   ]
  },
  {
   "cell_type": "code",
   "execution_count": 1,
   "metadata": {},
   "outputs": [
    {
     "name": "stdout",
     "output_type": "stream",
     "text": [
      "5\n"
     ]
    }
   ],
   "source": [
    "def binarySearch(arr,low,high,key):\n",
    "    if low>high:\n",
    "        return False\n",
    "    mid=(low+high)//2\n",
    "    if arr[mid]==key:\n",
    "        return True\n",
    "    if arr[mid]>key:\n",
    "        return binarySearch(arr,low,mid-1,key)\n",
    "    return binarySearch(arr,mid+1,high,key)\n",
    "\n",
    "\n",
    "def findPairs(arr,k):\n",
    "    # arr=set(arr)\n",
    "    # arr=list(arr)\n",
    "    arr.sort()\n",
    "    n=len(arr)\n",
    "    count=0\n",
    "    for i in range(n):\n",
    "        if binarySearch(arr,i+1,n-1,arr[i]+k):\n",
    "            count+=1\n",
    "    return count\n",
    "\n",
    "if __name__ == '__main__':\n",
    "    # arr=[1, 5, 3, 4, 2]\n",
    "    arr=[8, 12, 16, 4, 0, 20]\n",
    "    result=findPairs(arr,4)\n",
    "    print(result)\n"
   ]
  },
  {
   "cell_type": "markdown",
   "metadata": {},
   "source": [
    "Time Complexity - O(nlogn)"
   ]
  },
  {
   "cell_type": "markdown",
   "metadata": {},
   "source": [
    "Approach 3 -> Hashing"
   ]
  },
  {
   "cell_type": "code",
   "execution_count": 2,
   "metadata": {},
   "outputs": [
    {
     "name": "stdout",
     "output_type": "stream",
     "text": [
      "5\n"
     ]
    }
   ],
   "source": [
    "def findPairs(arr,k):\n",
    "    setVal=set(arr)\n",
    "    count=0\n",
    "    for i in arr:\n",
    "        if i+k in setVal:\n",
    "            count+=1\n",
    "        if i-k in setVal:\n",
    "            count+=1\n",
    "        setVal.discard(i)\n",
    "    return count\n",
    "\n",
    "if __name__ == '__main__':\n",
    "    # arr=[1, 5, 3, 4, 2]\n",
    "    arr=[8, 12, 16, 4, 0, 20]\n",
    "    result=findPairs(arr,4)\n",
    "    print(result)\n"
   ]
  },
  {
   "cell_type": "markdown",
   "metadata": {},
   "source": [
    "Time Compexity - O(n) and space complexity O(n)"
   ]
  },
  {
   "cell_type": "markdown",
   "metadata": {},
   "source": [
    "Approach 4-> Sorting and 2 pointers"
   ]
  },
  {
   "cell_type": "code",
   "execution_count": 3,
   "metadata": {},
   "outputs": [
    {
     "name": "stdout",
     "output_type": "stream",
     "text": [
      "4\n"
     ]
    }
   ],
   "source": [
    "def findPairs(arr,k):\n",
    "    arr.sort()\n",
    "    l=0\n",
    "    r=1\n",
    "    count=0\n",
    "    n=len(arr)\n",
    "    while l<n and r<n:\n",
    "        diff=arr[r]-arr[l]\n",
    "        if diff==k:\n",
    "            count+=1\n",
    "            l+=1\n",
    "            r+=1\n",
    "        elif diff>k:\n",
    "            l+=1\n",
    "        else:\n",
    "            r+=1\n",
    "    return count\n",
    "\n",
    "if __name__ == '__main__':\n",
    "    # arr=[1, 5, 3, 4, 2]\n",
    "    # arr=[8, 12, 16, 4, 0, 20]\n",
    "    arr=[1, 3, 5, 8, 6, 4, 6]\n",
    "    result=findPairs(arr,2)\n",
    "    print(result)\n"
   ]
  },
  {
   "cell_type": "markdown",
   "metadata": {},
   "source": [
    "Time Complexity - O(nlogn)"
   ]
  },
  {
   "cell_type": "markdown",
   "metadata": {},
   "source": [
    "Approach 5 -> Sorting and 2 pointers with a map to work for duplicate values"
   ]
  },
  {
   "cell_type": "code",
   "execution_count": 4,
   "metadata": {},
   "outputs": [
    {
     "name": "stdout",
     "output_type": "stream",
     "text": [
      "6\n"
     ]
    }
   ],
   "source": [
    "def findPairs(arr,k):\n",
    "    map={}\n",
    "    for i in arr:\n",
    "        if i in map:\n",
    "            map[i]+=1\n",
    "        else:\n",
    "            map[i]=1\n",
    "    arr.sort()\n",
    "    l=0\n",
    "    r=1\n",
    "    count=0\n",
    "    n=len(arr)\n",
    "    while l<n and r<n:\n",
    "        diff=arr[r]-arr[l]\n",
    "        if diff==k:\n",
    "            count+=(map[arr[l]]*map[arr[r]])\n",
    "            l+=1\n",
    "            r+=1\n",
    "        elif diff>k:\n",
    "            l+=1\n",
    "        else:\n",
    "            r+=1\n",
    "    return count\n",
    "\n",
    "if __name__ == '__main__':\n",
    "    # arr=[1, 5, 3, 4, 2]\n",
    "    # arr=[8, 12, 16, 4, 0, 20]\n",
    "    arr=[1, 3, 5, 8, 6, 4, 6]\n",
    "    result=findPairs(arr,2)\n",
    "    print(result)\n"
   ]
  },
  {
   "cell_type": "markdown",
   "metadata": {},
   "source": [
    "# Bubble Sort on Linked List"
   ]
  },
  {
   "cell_type": "markdown",
   "metadata": {},
   "source": [
    "# Sort n numbers in range from 0 to n^2 – 1 in linear time"
   ]
  },
  {
   "cell_type": "markdown",
   "metadata": {},
   "source": [
    "Radix Sort can be used to sort n numbers in range from 0 to n2 – 1"
   ]
  },
  {
   "cell_type": "markdown",
   "metadata": {},
   "source": [
    "# Sort an array of names or strings"
   ]
  },
  {
   "cell_type": "markdown",
   "metadata": {},
   "source": [
    "# Sort an array according to the order defined by another array"
   ]
  },
  {
   "cell_type": "markdown",
   "metadata": {},
   "source": [
    "Given two arrays A1[] and A2[], sort A1 in such a way that the relative order among the elements will be same as those are in A2. For the elements not present in A2, append them at last in sorted order. "
   ]
  },
  {
   "cell_type": "markdown",
   "metadata": {},
   "source": [
    "Approach HASHING"
   ]
  },
  {
   "cell_type": "code",
   "execution_count": 1,
   "metadata": {},
   "outputs": [
    {
     "name": "stdout",
     "output_type": "stream",
     "text": [
      "[2, 2, 1, 1, 8, 8, 3, 5, 6, 7, 9]\n"
     ]
    }
   ],
   "source": [
    "def sortArray(a,b):\n",
    "    map={}\n",
    "\n",
    "    # bMap is used to reduce the searching time as in hashing search time is O(1)\n",
    "    bMap={b[i]:i for i in range(len(b))}\n",
    "    for i in a:\n",
    "        if i in map:\n",
    "            map[i]+=1\n",
    "        else:\n",
    "            map[i]=1\n",
    "    excludeArray=[]\n",
    "    for i in a:\n",
    "        if i not in bMap:\n",
    "            excludeArray.append(i)\n",
    "    excludeArray.sort()\n",
    "    targetIndex=0\n",
    "    try:\n",
    "        for i in b:\n",
    "            for j in range(map[i]):\n",
    "                a[targetIndex]=i\n",
    "                targetIndex+=1\n",
    "    except Exception as e:\n",
    "        pass\n",
    "    for i in excludeArray:\n",
    "        a[targetIndex]=i\n",
    "        targetIndex+=1\n",
    "\n",
    "if __name__ == '__main__':\n",
    "    a1=[2, 1, 2, 5, 7, 1, 9, 3, 6, 8, 8]\n",
    "    a2=[2, 1, 8, 3,11]\n",
    "    sortArray(a1,a2)\n",
    "    print(a1)\n"
   ]
  },
  {
   "cell_type": "markdown",
   "metadata": {},
   "source": [
    "Approach 2-> Custom Comparator"
   ]
  },
  {
   "cell_type": "code",
   "execution_count": 2,
   "metadata": {},
   "outputs": [
    {
     "name": "stdout",
     "output_type": "stream",
     "text": [
      "[2, 2, 1, 1, 8, 8, 3, 5, 6, 7, 9]\n"
     ]
    }
   ],
   "source": [
    "from functools import cmp_to_key\n",
    "\n",
    "def compare(a,b):\n",
    "    global hash\n",
    "    if a in hash and b in hash:\n",
    "        if hash[a]<hash[b]:\n",
    "            return -1\n",
    "        elif hash[a]>hash[b]:\n",
    "            return 1\n",
    "        else:\n",
    "            return 0\n",
    "    elif a in hash and b not in hash:\n",
    "        return -1\n",
    "    elif a not in hash and b in hash:\n",
    "        return 1\n",
    "    else:\n",
    "        if a<b:\n",
    "            return -1\n",
    "        elif a>b:\n",
    "            return 1\n",
    "        else:\n",
    "            return 0\n",
    "\n",
    "def sortArray(a,b):\n",
    "    global hash\n",
    "    hash={b[i]:i for i in range(len(b))}\n",
    "\n",
    "    a=sorted(a,key=cmp_to_key(compare))\n",
    "    return a\n",
    "\n",
    "if __name__ == '__main__':\n",
    "    a1=[2, 1, 2, 5, 7, 1, 9, 3, 6, 8, 8]\n",
    "    a2=[2, 1, 8, 3,11]\n",
    "    arr=sortArray(a1,a2)\n",
    "    print(arr)\n"
   ]
  },
  {
   "cell_type": "markdown",
   "metadata": {},
   "source": [
    "Time Complexity O(nlogn)"
   ]
  },
  {
   "cell_type": "markdown",
   "metadata": {},
   "source": [
    "# Given a sorted array and a number x, find the pair in array whose sum is closest to x"
   ]
  },
  {
   "cell_type": "markdown",
   "metadata": {},
   "source": [
    "Approach 1 - Run 2 loops"
   ]
  },
  {
   "cell_type": "markdown",
   "metadata": {},
   "source": [
    "Time Complexity - O(n^2)"
   ]
  },
  {
   "cell_type": "markdown",
   "metadata": {},
   "source": [
    "Approach 2 - 2 pointer approach"
   ]
  },
  {
   "cell_type": "code",
   "execution_count": 3,
   "metadata": {},
   "outputs": [
    {
     "name": "stdout",
     "output_type": "stream",
     "text": [
      "22 30\n"
     ]
    }
   ],
   "source": [
    "def findPairs(arr,x):\n",
    "    left=0\n",
    "    right=len(arr)-1\n",
    "    diff=float('infinity')\n",
    "    indices=[None,None]\n",
    "    while left<right:\n",
    "        temp=arr[left]+arr[right]\n",
    "        if abs(x-temp)<diff:\n",
    "            diff=abs(x-temp)\n",
    "            indices[0]=left\n",
    "            indices[1]=right\n",
    "        if temp<x:\n",
    "            left+=1\n",
    "        else:\n",
    "            right-=1\n",
    "    return indices\n",
    "\n",
    "if __name__ == '__main__':\n",
    "    arr=[10, 22, 28, 29, 30, 40]\n",
    "    # arr=[1, 3, 4, 7, 10]\n",
    "    x=54\n",
    "    indices=findPairs(arr,x)\n",
    "    print(arr[indices[0]],arr[indices[1]])\n"
   ]
  },
  {
   "cell_type": "markdown",
   "metadata": {},
   "source": [
    "Time Complexity O(n) and Space Complexity O(1)"
   ]
  },
  {
   "cell_type": "markdown",
   "metadata": {},
   "source": [
    "# Sort an array in wave form"
   ]
  },
  {
   "cell_type": "markdown",
   "metadata": {},
   "source": [
    "Given an unsorted array of integers, sort the array into a wave like array. An array ‘arr[0..n-1]’ is sorted in wave form if arr[0] >= arr[1] <= arr[2] >= arr[3] <= arr[4] >= ….."
   ]
  },
  {
   "cell_type": "markdown",
   "metadata": {},
   "source": [
    "Approach1 -> Sort the array and in the result array at even indices put the greater values and at the odd indices put the smaller values"
   ]
  },
  {
   "cell_type": "code",
   "execution_count": 1,
   "metadata": {},
   "outputs": [
    {
     "name": "stdout",
     "output_type": "stream",
     "text": [
      "[100, 2, 80, 3, 20, 5, 10, 6]\n"
     ]
    }
   ],
   "source": [
    "def sortArray(arr):\n",
    "    arr.sort()\n",
    "    result=[None]*len(arr)\n",
    "    for i in range(len(result)):\n",
    "        if i%2==0:\n",
    "            result[i]=arr.pop(-1)\n",
    "        else:\n",
    "            result[i]=arr.pop(0)\n",
    "    return result\n",
    "\n",
    "\n",
    "if __name__ == '__main__':\n",
    "    arr=[10, 5, 6, 3, 2, 20, 100, 80]\n",
    "    result=sortArray(arr)\n",
    "    print(result)\n"
   ]
  },
  {
   "cell_type": "markdown",
   "metadata": {},
   "source": [
    "Time Complexity - O(nlogn) and Space Complexity O(n)"
   ]
  },
  {
   "cell_type": "markdown",
   "metadata": {},
   "source": [
    "Approach2-> In Place, First sort the input array, then swap all adjacent elements."
   ]
  },
  {
   "cell_type": "markdown",
   "metadata": {},
   "source": [
    "Time Complexity O(nlogn) Space Complexity O(1)"
   ]
  },
  {
   "cell_type": "markdown",
   "metadata": {},
   "source": [
    "Approach 3-> The idea is based on the fact that if we make sure that all even positioned (at index 0, 2, 4, ..) elements are greater than their adjacent odd elements, we don’t need to worry about odd positioned element. Following are simple steps.\n",
    "1) Traverse all even positioned elements of input array, and do following.\n",
    "\n",
    "\n",
    "….a) If current element is smaller than previous odd element, swap previous and current.\n",
    "\n",
    "\n",
    "….b) If current element is smaller than next odd element, swap next and current.\n"
   ]
  },
  {
   "cell_type": "markdown",
   "metadata": {},
   "source": [
    "Time Complexity O(n)"
   ]
  },
  {
   "cell_type": "markdown",
   "metadata": {},
   "source": [
    "# Check if any two intervals overlap among a given set of intervals"
   ]
  },
  {
   "cell_type": "markdown",
   "metadata": {},
   "source": [
    "An interval is represented as a combination of start time and end time. Given a set of intervals, check if any two intervals overlap."
   ]
  },
  {
   "cell_type": "markdown",
   "metadata": {},
   "source": [
    "Input:  arr[] = {{1, 3}, {5, 7}, {2, 4}, {6, 8}}\n",
    "Output: true\n",
    "The intervals {1, 3} and {2, 4} overlap"
   ]
  },
  {
   "cell_type": "markdown",
   "metadata": {},
   "source": [
    "Simple Solution  is to run 2 loops, time complexity O(nlogn)"
   ]
  },
  {
   "cell_type": "markdown",
   "metadata": {},
   "source": [
    "Approach2-> Sort the intervals with their start value and if for any two pairs if the end value of first pair is greater than the start value of the second pair then the intervals overlap"
   ]
  },
  {
   "cell_type": "code",
   "execution_count": 2,
   "metadata": {},
   "outputs": [
    {
     "name": "stdout",
     "output_type": "stream",
     "text": [
      "True\n",
      "False\n"
     ]
    }
   ],
   "source": [
    "def isOverlaping(intervals):\n",
    "    intervals=sorted(intervals,key=lambda x: x[0])\n",
    "    for i in range(1,len(intervals)):\n",
    "        if intervals[i-1][1]>intervals[i][0]:\n",
    "            return True\n",
    "    return False\n",
    "\n",
    "\n",
    "if __name__ == '__main__':\n",
    "    intervals=[[1, 3], [5, 7], [2, 4], [6, 8]]\n",
    "    result=isOverlaping(intervals)\n",
    "    print(result)\n",
    "    intervals=[[1, 3], [7, 9], [4, 6], [10, 13]]\n",
    "    result=isOverlaping(intervals)\n",
    "    print(result)\n"
   ]
  },
  {
   "cell_type": "markdown",
   "metadata": {},
   "source": [
    "Time Complexity O(nlogn)"
   ]
  },
  {
   "cell_type": "markdown",
   "metadata": {},
   "source": [
    "Approach 2-> \n",
    "\n",
    "1. Find the overall maximum element. Let it be max_ele\n",
    "2. Initialize an array of size max_ele with 0.\n",
    "3. For every interval [start, end], increment the value at index start, i.e. arr[start]++ and decrement the value at index (end + 1), i.e. arr[end + 1]- -.\n",
    "4. Compute the prefix sum of this array (arr[]).\n",
    "5. Every index, i of this prefix sum array will tell how many times i has occurred in all the intervals taken together. If this value is greater than 1, then it occurs in 2 or more intervals.\n",
    "6. So, simply initialize the result variable as false and while traversing the prefix sum array, change the result variable to true whenever the value at that index is greater than 1."
   ]
  },
  {
   "cell_type": "code",
   "execution_count": 3,
   "metadata": {},
   "outputs": [
    {
     "name": "stdout",
     "output_type": "stream",
     "text": [
      "True\n",
      "False\n"
     ]
    }
   ],
   "source": [
    "def isOverlaping(intervals):\n",
    "    maxEle=float('-infinity')\n",
    "    for i in intervals:\n",
    "        if i[0]>maxEle:\n",
    "            maxEle=i[0]\n",
    "        if i[1]>maxEle:\n",
    "            maxEle=i[1]\n",
    "    result=[0]*(maxEle+1)\n",
    "    for i in intervals:\n",
    "        result[i[0]]+=1\n",
    "        result[i[1]]-=1\n",
    "    for i in range(1,len(result)):\n",
    "        result[i]+=result[i-1]\n",
    "    for i in result:\n",
    "        if i>1:\n",
    "            return True\n",
    "    return False\n",
    "\n",
    "if __name__ == '__main__':\n",
    "    intervals=[[1, 3], [5, 7], [2, 4], [6, 8]]\n",
    "    result=isOverlaping(intervals)\n",
    "    print(result)\n",
    "    intervals=[[1, 3], [7, 9], [4, 6], [10, 13]]\n",
    "    result=isOverlaping(intervals)\n",
    "    print(result)\n"
   ]
  },
  {
   "cell_type": "markdown",
   "metadata": {},
   "source": [
    "Time Complexity O(maxEle+n) "
   ]
  },
  {
   "cell_type": "markdown",
   "metadata": {},
   "source": [
    "This method is more efficient if there are more number of intervals and at the same time maximum value among all intervals should be low, since time complexity is directly proportional to O(max_ele)."
   ]
  },
  {
   "cell_type": "markdown",
   "metadata": {},
   "source": [
    "# How to efficiently sort a big list dates in 20’s"
   ]
  },
  {
   "cell_type": "markdown",
   "metadata": {},
   "source": [
    "Custom Comparator"
   ]
  },
  {
   "cell_type": "markdown",
   "metadata": {},
   "source": [
    "Radix Sort"
   ]
  },
  {
   "cell_type": "markdown",
   "metadata": {},
   "source": [
    "# Sort an almost sorted array where only two elements are swapped"
   ]
  },
  {
   "cell_type": "markdown",
   "metadata": {},
   "source": [
    "Input:  arr[] = {10, 20, 60, 40, 50, 30}  \n",
    "// 30 and 60 are swapped\n",
    "\n",
    "Output: arr[] = {10, 20, 30, 40, 50, 60}\n"
   ]
  },
  {
   "cell_type": "markdown",
   "metadata": {},
   "source": [
    "Approach -> First Traverse the array from left side and find the first element out of order, then traverse the array from right and find the first element out of order, these two elements are to be swapped to make the array sorted"
   ]
  },
  {
   "cell_type": "markdown",
   "metadata": {},
   "source": [
    "Time Complexity O(n)"
   ]
  },
  {
   "cell_type": "markdown",
   "metadata": {},
   "source": [
    "# Find the point where maximum intervals overlap"
   ]
  },
  {
   "cell_type": "markdown",
   "metadata": {},
   "source": [
    "Consider a big party where a log register for guest’s entry and exit times is maintained. Find the time at which there are maximum guests in the party. Note that entries in register are not in any order."
   ]
  },
  {
   "cell_type": "markdown",
   "metadata": {},
   "source": [
    "Approach -> Timeline method"
   ]
  },
  {
   "cell_type": "code",
   "execution_count": 4,
   "metadata": {},
   "outputs": [
    {
     "name": "stdout",
     "output_type": "stream",
     "text": [
      "5\n"
     ]
    }
   ],
   "source": [
    "def getMaxGuests(arr,dep):\n",
    "    arr.sort()\n",
    "    dep.sort()\n",
    "    n=len(arr)\n",
    "    i=j=0\n",
    "    guests=0\n",
    "    result=float('-infinity')\n",
    "    time=0\n",
    "    while i<n and j<n:\n",
    "        if arr[i]<=dep[j]:\n",
    "            guests+=1\n",
    "            if guests>result:\n",
    "                result=guests\n",
    "                time=arr[i]\n",
    "            i+=1\n",
    "        else:\n",
    "            guests-=1\n",
    "            j+=1\n",
    "    return time\n",
    "\n",
    "\n",
    "if __name__ == '__main__':\n",
    "    arr=[1, 2, 10, 5, 5]\n",
    "    dep=[4, 5, 12, 9, 12]\n",
    "    result=getMaxGuests(arr,dep)\n",
    "    print(result)\n"
   ]
  },
  {
   "cell_type": "markdown",
   "metadata": {},
   "source": [
    "Approach 2-> Prefix Sum"
   ]
  },
  {
   "cell_type": "code",
   "execution_count": 1,
   "metadata": {},
   "outputs": [
    {
     "name": "stdout",
     "output_type": "stream",
     "text": [
      "5\n"
     ]
    }
   ],
   "source": [
    "def getMaxGuests(arr,dep):\n",
    "    maxVal=max(max(arr),max(dep))\n",
    "    result=[0]*(maxVal+2)\n",
    "    for i in arr:\n",
    "        result[i]+=1\n",
    "    for i in dep:\n",
    "        result[i+1]-=1\n",
    "    time=0\n",
    "    maxGuests=float('-infinity')\n",
    "    for i in range(1,len(result)):\n",
    "        result[i]+=result[i-1]\n",
    "        if result[i]>maxGuests:\n",
    "            maxGuests=result[i]\n",
    "            time=i\n",
    "    return time\n",
    "\n",
    "if __name__ == '__main__':\n",
    "    arr=[1, 2, 10, 5, 5]\n",
    "    dep=[4, 5, 12, 9, 12]\n",
    "    result=getMaxGuests(arr,dep)\n",
    "    print(result)\n"
   ]
  },
  {
   "cell_type": "markdown",
   "metadata": {},
   "source": [
    "Time Complexity O(max(dep)), Space Complexity O(max(dep))"
   ]
  },
  {
   "cell_type": "markdown",
   "metadata": {},
   "source": [
    "# Sort a linked list that is sorted alternating ascending and descending orders?"
   ]
  },
  {
   "cell_type": "markdown",
   "metadata": {},
   "source": [
    "Given a Linked List. The Linked List is in alternating ascending and descending orders.\n",
    "\n",
    "Input List: 10 -> 40 -> 53 -> 30 -> 67 -> 12 -> 89 -> NULL\n",
    "\n",
    "Output List: 10 -> 12 -> 30 -> 43 -> 53 -> 67 -> 89 -> NULL"
   ]
  },
  {
   "cell_type": "markdown",
   "metadata": {},
   "source": [
    "Approach 1-> Merge sort the list"
   ]
  },
  {
   "cell_type": "markdown",
   "metadata": {},
   "source": [
    "Approach 2-> \n",
    "\n",
    "Separate the two lists<br>\n",
    "Reverse the list which is in descending order<br>\n",
    "Merge the two lists"
   ]
  },
  {
   "cell_type": "code",
   "execution_count": 2,
   "metadata": {},
   "outputs": [
    {
     "name": "stdout",
     "output_type": "stream",
     "text": [
      "10 40 53 30 67 12 89 \n",
      "10 12 30 40 53 67 89 \n"
     ]
    }
   ],
   "source": [
    "class Node:\n",
    "    def __init__(self,data):\n",
    "        self.data=data\n",
    "        self.next=None\n",
    "\n",
    "class LinkedList:\n",
    "    def __init__(self):\n",
    "        self.head=None\n",
    "\n",
    "    def sort(self):\n",
    "        Ahead=Node(0)\n",
    "        Dhead=Node(0)\n",
    "        self.splitList(Ahead,Dhead)\n",
    "        # print('\\n')\n",
    "        # print(Dhead.next.data)\n",
    "        Ahead=Ahead.next\n",
    "        Dhead=Dhead.next\n",
    "        Dhead=self.reverseList(Dhead)\n",
    "        self.head=self.merge(Ahead,Dhead)\n",
    "\n",
    "    def merge(self,head1,head2):\n",
    "        if head1 is None:\n",
    "            return head2\n",
    "        if head2 is None:\n",
    "            return head1\n",
    "        if head1.data<head2.data:\n",
    "            temp=head1\n",
    "            head1.next=self.merge(head1.next,head2)\n",
    "        else:\n",
    "            temp=head2\n",
    "            head2.next=self.merge(head1,head2.next)\n",
    "        return temp\n",
    "\n",
    "    def reverseList(self,Dhead):\n",
    "        curr=Dhead\n",
    "        # currNext=curr.next\n",
    "        prev=None\n",
    "        while curr.next:\n",
    "            currNext=curr.next\n",
    "            curr.next=prev\n",
    "            prev=curr\n",
    "            curr=currNext\n",
    "        curr.next=prev\n",
    "        return curr\n",
    "\n",
    "    def splitList(self,Ahead,Dhead):\n",
    "        asc=Ahead\n",
    "        desc=Dhead\n",
    "        curr=self.head\n",
    "        while curr:\n",
    "            asc.next=curr\n",
    "            asc=asc.next\n",
    "            curr=curr.next\n",
    "            if curr:\n",
    "                desc.next=curr\n",
    "                desc=desc.next\n",
    "                curr=curr.next\n",
    "        asc.next=None\n",
    "        desc.next=None\n",
    "\n",
    "    def traverse(self):\n",
    "        if self.head is None:\n",
    "            return\n",
    "        temp=self.head\n",
    "        while temp:\n",
    "            print(temp.data,end=\" \")\n",
    "            temp=temp.next\n",
    "        print()\n",
    "\n",
    "if __name__ == '__main__':\n",
    "    llist = LinkedList()\n",
    "    llist.head = Node(10)\n",
    "    llist.head.next = Node(40)\n",
    "    llist.head.next.next = Node(53)\n",
    "    llist.head.next.next.next = Node(30)\n",
    "    llist.head.next.next.next.next = Node(67)\n",
    "    llist.head.next.next.next.next.next = Node(12)\n",
    "    llist.head.next.next.next.next.next.next = Node(89)\n",
    "    llist.traverse()\n",
    "    llist.sort()\n",
    "    llist.traverse()\n"
   ]
  },
  {
   "cell_type": "markdown",
   "metadata": {},
   "source": [
    "Time Complexity O(n) and Space Complexity O(1)"
   ]
  },
  {
   "cell_type": "markdown",
   "metadata": {},
   "source": [
    "# Sorting Dates using Selection Sort"
   ]
  },
  {
   "cell_type": "markdown",
   "metadata": {},
   "source": [
    "# Sort an array of dates"
   ]
  },
  {
   "cell_type": "markdown",
   "metadata": {},
   "source": [
    "Custom Comparator"
   ]
  },
  {
   "cell_type": "markdown",
   "metadata": {},
   "source": [
    "Radix Sort"
   ]
  },
  {
   "cell_type": "markdown",
   "metadata": {},
   "source": [
    "# Sorting Strings using Bubble Sort"
   ]
  },
  {
   "cell_type": "markdown",
   "metadata": {},
   "source": [
    "# Maximum product of a triplet (subsequence of size 3) in array"
   ]
  },
  {
   "cell_type": "markdown",
   "metadata": {},
   "source": [
    "Approach 1-> Run 3 loops and keep a note of the max product"
   ]
  },
  {
   "cell_type": "markdown",
   "metadata": {},
   "source": [
    "Time Complexity O(n^3) and Space Complexity O(1)"
   ]
  },
  {
   "cell_type": "markdown",
   "metadata": {},
   "source": [
    "Approach 2-> Maintain 4 auxiliary arrays leftMax, leftmin, rightMax, rightMin. the result will be the max of arr[i]*x*y, where x or y can be leftMin/leftax/rightMin/rightMax"
   ]
  },
  {
   "cell_type": "code",
   "execution_count": 1,
   "metadata": {},
   "outputs": [
    {
     "name": "stdout",
     "output_type": "stream",
     "text": [
      "-90\n"
     ]
    }
   ],
   "source": [
    "def getMaxProductTriplet(arr):\n",
    "    n=len(arr)\n",
    "    leftMax=[None]*n\n",
    "    leftMax[0]=float('-infinity')\n",
    "    leftMin=[None]*n\n",
    "    leftMin[0]=float('infinity')\n",
    "    rightMax=[None]*n\n",
    "    rightMax[n-1]=float('-infinity')\n",
    "    rightMin=[None]*n\n",
    "    rightMin[n-1]=float('infinity')\n",
    "    for i in range(1,n):\n",
    "        leftMax[i]=max(leftMax[i-1],arr[i-1])\n",
    "        leftMin[i]=min(leftMin[i-1],arr[i-1])\n",
    "        rightMax[n-i-1]=max(rightMax[n-i],arr[n-i])\n",
    "        rightMin[n-i-1]=min(rightMin[n-i],arr[n-i])\n",
    "    # print(leftMax)\n",
    "    # print(leftMin)\n",
    "    # print(rightMax)\n",
    "    # print(rightMin)\n",
    "    maxProduct=float('-infinity')\n",
    "    for i in range(1,n-1):\n",
    "        max1=max(arr[i]*leftMax[i]*rightMax[i],arr[i]*leftMin[i]*rightMin[i])\n",
    "        max2=max(arr[i]*leftMax[i]*rightMin[i],arr[i]*leftMin[i]*rightMax[i])\n",
    "        maxProduct=max(maxProduct,max(max1,max2))\n",
    "    return maxProduct\n",
    "\n",
    "if __name__ == '__main__':\n",
    "    # arr=[10, 3, 5, 6, 20]\n",
    "    arr=[-10, -3, -5, -6, -20]\n",
    "    # arr=[1, -4, 3, -6, 7, 0]\n",
    "    print(getMaxProductTriplet(arr))\n"
   ]
  },
  {
   "cell_type": "markdown",
   "metadata": {},
   "source": [
    "Time Complexity O(n) and Space Complexity O(n)*4"
   ]
  },
  {
   "cell_type": "markdown",
   "metadata": {},
   "source": [
    "Approach 3-> Find the max, second max, third max, min, second min elements. The result will be the max of max*second max* third max and max*min*second min"
   ]
  },
  {
   "cell_type": "markdown",
   "metadata": {},
   "source": [
    "Time Complexity O(n) space complexity O(1)"
   ]
  },
  {
   "cell_type": "markdown",
   "metadata": {},
   "source": [
    "Approach 4-> Sort the array, result will be max of (product of last 3 elements, product of first 2 and last)"
   ]
  },
  {
   "cell_type": "code",
   "execution_count": 2,
   "metadata": {},
   "outputs": [
    {
     "name": "stdout",
     "output_type": "stream",
     "text": [
      "-90\n"
     ]
    }
   ],
   "source": [
    "def getMaxProductTriplet(arr):\n",
    "    n=len(arr)\n",
    "    arr.sort()\n",
    "    result1=1\n",
    "    # result2=1\n",
    "    result3=1\n",
    "    for i in range(3):\n",
    "        result1=result1*arr[n-i-1]\n",
    "    # if arr[2]<0:\n",
    "    #     for i in range(3):\n",
    "    #         result2=result2*arr[i]\n",
    "    if arr[1]<0:\n",
    "        result3=arr[-1]*arr[0]*arr[1]\n",
    "    return max(result1,result3)\n",
    "\n",
    "\n",
    "\n",
    "if __name__ == '__main__':\n",
    "    # arr=[10, 3, 5, 6, 20]\n",
    "    arr=[-10, -3, -5, -6, -20]\n",
    "    # arr=[1, -4, 3, -6, 7, 0]\n",
    "    print(getMaxProductTriplet(arr))\n"
   ]
  },
  {
   "cell_type": "markdown",
   "metadata": {},
   "source": [
    "Time Complexity O(nlogn), space complexity O(1)"
   ]
  },
  {
   "cell_type": "markdown",
   "metadata": {},
   "source": [
    "# Find missing elements of a range"
   ]
  },
  {
   "cell_type": "markdown",
   "metadata": {},
   "source": [
    "Given an array arr[0..n-1] of distinct elements and a range [low, high], find all numbers that are in range, but not in array. The missing elements should be printed in sorted order."
   ]
  },
  {
   "cell_type": "markdown",
   "metadata": {},
   "source": [
    "Approach 1 - Hashing"
   ]
  },
  {
   "cell_type": "code",
   "execution_count": 1,
   "metadata": {},
   "outputs": [
    {
     "name": "stdout",
     "output_type": "stream",
     "text": [
      "13 14 "
     ]
    }
   ],
   "source": [
    "def getMissingElements(arr,low,high):\n",
    "    map={i:0 for i in range(low,high+1)}\n",
    "    for i in arr:\n",
    "        if i in map:\n",
    "            map[i]+=1\n",
    "    for i in map:\n",
    "        if map[i]==0:\n",
    "            print(i,end=\" \")\n",
    "\n",
    "if __name__ == '__main__':\n",
    "    arr=[10, 12, 11, 15]\n",
    "    low=10\n",
    "    high=15\n",
    "    # arr=[1, 14, 11, 51, 15]\n",
    "    # low=50\n",
    "    # high=55\n",
    "    getMissingElements(arr,low,high)\n"
   ]
  },
  {
   "cell_type": "markdown",
   "metadata": {},
   "source": [
    "Time Complexity O(max(n,d)), where d is the number of elements in map and Space Complexity O(d) "
   ]
  },
  {
   "cell_type": "markdown",
   "metadata": {},
   "source": [
    "Approach 2 -> Sorting and 2 pointers"
   ]
  },
  {
   "cell_type": "code",
   "execution_count": 2,
   "metadata": {},
   "outputs": [
    {
     "name": "stdout",
     "output_type": "stream",
     "text": [
      "50 52 53 54 55 "
     ]
    }
   ],
   "source": [
    "def getMissingElements(arr,low,high):\n",
    "    arr.sort()\n",
    "    i=low\n",
    "    j=0\n",
    "    while i<=high and j<len(arr):\n",
    "        if i==arr[j]:\n",
    "            i+=1\n",
    "            j+=1\n",
    "        elif i<arr[j]:\n",
    "            print(i,end=\" \")\n",
    "            i+=1\n",
    "        else:\n",
    "            j+=1\n",
    "\n",
    "    if i<high:\n",
    "        while i<=high:\n",
    "            print(i,end=\" \")\n",
    "            i+=1\n",
    "\n",
    "\n",
    "if __name__ == '__main__':\n",
    "    # arr=[10, 12, 11, 15]\n",
    "    # low=10\n",
    "    # high=15\n",
    "    arr=[1, 14, 11, 51, 15]\n",
    "    low=50\n",
    "    high=55\n",
    "    getMissingElements(arr,low,high)\n"
   ]
  },
  {
   "cell_type": "markdown",
   "metadata": {},
   "source": [
    "Time Complexity O(nlogn)"
   ]
  },
  {
   "cell_type": "markdown",
   "metadata": {},
   "source": [
    "# Generate Worst case permutation of merge sort"
   ]
  },
  {
   "cell_type": "markdown",
   "metadata": {},
   "source": [
    "# Minimum sum of two numbers formed from digits of an array"
   ]
  },
  {
   "cell_type": "markdown",
   "metadata": {},
   "source": [
    "Given an array of digits (values are from 0 to 9), find the minimum possible sum of two numbers formed from digits of the array. All digits of given array must be used to form the two numbers."
   ]
  },
  {
   "cell_type": "markdown",
   "metadata": {},
   "source": [
    "Input: [6, 8, 4, 5, 2, 3]\n",
    "Output: 604\n",
    "The minimum sum is formed by numbers \n",
    "358 and 246"
   ]
  },
  {
   "cell_type": "markdown",
   "metadata": {},
   "source": [
    "Approach - Sort the array and from the sorted array form the two numbers by taking out the smallest one by one"
   ]
  },
  {
   "cell_type": "code",
   "execution_count": 3,
   "metadata": {},
   "outputs": [
    {
     "name": "stdout",
     "output_type": "stream",
     "text": [
      "604\n"
     ]
    }
   ],
   "source": [
    "def getMinDifference(arr):\n",
    "    arr.sort()\n",
    "    num1=0\n",
    "    num2=0\n",
    "    i=0\n",
    "    n=len(arr)\n",
    "    while i<n:\n",
    "        num1=num1*10+arr[i]\n",
    "        i+=1\n",
    "        if i<n:\n",
    "            num2=num2*10+arr[i]\n",
    "            i+=1\n",
    "    return num1+num2\n",
    "\n",
    "if __name__ == '__main__':\n",
    "    arr=[6, 8, 4, 5, 2, 3]\n",
    "    result=getMinDifference(arr)\n",
    "    print(result)\n"
   ]
  },
  {
   "cell_type": "markdown",
   "metadata": {},
   "source": [
    "Time Compexity O(nlogn) Space Complexity O(1)"
   ]
  },
  {
   "cell_type": "markdown",
   "metadata": {},
   "source": [
    "Approach 2 Using min Heaps"
   ]
  },
  {
   "cell_type": "code",
   "execution_count": 4,
   "metadata": {},
   "outputs": [
    {
     "name": "stdout",
     "output_type": "stream",
     "text": [
      "604\n"
     ]
    }
   ],
   "source": [
    "from heapq import heapify,heappop\n",
    "\n",
    "def getMinDifference(arr):\n",
    "    heapify(arr)\n",
    "    num1=0\n",
    "    num2=0\n",
    "\n",
    "    while arr:\n",
    "        val=heappop(arr)\n",
    "        num1=num1*10+val\n",
    "        if arr:\n",
    "            val=heappop(arr)\n",
    "            num2=num2*10+val\n",
    "\n",
    "    return num1+num2\n",
    "\n",
    "if __name__ == '__main__':\n",
    "    arr=[6, 8, 4, 5, 2, 3]\n",
    "    result=getMinDifference(arr)\n",
    "    print(result)\n"
   ]
  },
  {
   "cell_type": "markdown",
   "metadata": {},
   "source": [
    "Time Complexity O(nlogn)"
   ]
  },
  {
   "cell_type": "markdown",
   "metadata": {},
   "source": [
    "Another Approach> Sort the array using frequency counter approach and then form the two numbers"
   ]
  },
  {
   "cell_type": "code",
   "execution_count": 5,
   "metadata": {},
   "outputs": [
    {
     "name": "stdout",
     "output_type": "stream",
     "text": [
      "604\n"
     ]
    }
   ],
   "source": [
    "def getMinSum(arr):\n",
    "    freq=[0]*10\n",
    "    for i in arr:\n",
    "        freq[i]+=1\n",
    "    # print(freq)\n",
    "    targetIndex=0\n",
    "    for i in range(len(freq)):\n",
    "        for j in range(freq[i]):\n",
    "            arr[targetIndex]=i\n",
    "            targetIndex+=1\n",
    "    num1=0\n",
    "    num2=0\n",
    "    for i in range(len(arr)):\n",
    "        if i%2==0:\n",
    "            num1=num1*10+arr[i]\n",
    "        else:\n",
    "            num2=num2*10+arr[i]\n",
    "    return num1+num2\n",
    "\n",
    "if __name__ == '__main__':\n",
    "    arr=[6,8,4,5,2,3]\n",
    "    result=getMinSum(arr)\n",
    "    print(result)\n"
   ]
  },
  {
   "cell_type": "markdown",
   "metadata": {},
   "source": [
    "Time Complexity O(n) and Space Complexity O(10)"
   ]
  },
  {
   "cell_type": "markdown",
   "metadata": {},
   "source": [
    "# Find minimum difference between any two elements"
   ]
  },
  {
   "cell_type": "markdown",
   "metadata": {},
   "source": [
    "Approach 1 -> Run 2 loops and check for each elements"
   ]
  },
  {
   "cell_type": "markdown",
   "metadata": {},
   "source": [
    "Time Complexity O(n^2)"
   ]
  },
  {
   "cell_type": "markdown",
   "metadata": {},
   "source": [
    "Approach 2-> Sort the array and keep track of minimum difference while checking for adjacent elements"
   ]
  },
  {
   "cell_type": "code",
   "execution_count": 6,
   "metadata": {},
   "outputs": [
    {
     "name": "stdout",
     "output_type": "stream",
     "text": [
      "5\n"
     ]
    }
   ],
   "source": [
    "def getMinDifference(arr):\n",
    "    arr.sort()\n",
    "    result=float('infinity')\n",
    "    for i in range(1,len(arr)):\n",
    "        if (arr[i]-arr[i-1])<result:\n",
    "            result=(arr[i]-arr[i-1])\n",
    "    return result\n",
    "\n",
    "\n",
    "if __name__ == '__main__':\n",
    "    # arr=[1, 5, 3, 19, 18, 25]\n",
    "    arr=[1, 19, -4, 31, 38, 25, 100]\n",
    "    print(getMinDifference(arr))\n"
   ]
  },
  {
   "cell_type": "markdown",
   "metadata": {},
   "source": [
    "Time Complexity O(nlogn)"
   ]
  },
  {
   "cell_type": "markdown",
   "metadata": {},
   "source": [
    "# Convert an array to reduced form | Set 1 (Simple and Hashing)"
   ]
  },
  {
   "cell_type": "markdown",
   "metadata": {},
   "source": [
    "Simple Approach -> Find the min element and replace it with 0 and so on for the other elements as well"
   ]
  },
  {
   "cell_type": "markdown",
   "metadata": {},
   "source": [
    "Time Complexity O(n^2)"
   ]
  },
  {
   "cell_type": "markdown",
   "metadata": {},
   "source": [
    "Efficient Approach -> Use a map to store the positions of each element. Sort the array and replace the elements with theier relating positions"
   ]
  },
  {
   "cell_type": "code",
   "execution_count": 7,
   "metadata": {},
   "outputs": [
    {
     "name": "stdout",
     "output_type": "stream",
     "text": [
      "[5, 10, 40, 30, 20]\n",
      "[0, 1, 4, 3, 2]\n"
     ]
    }
   ],
   "source": [
    "def reduceForm(arr):\n",
    "    map={arr[i]:i for i in range(len(arr))}\n",
    "    arr.sort()\n",
    "    for i in range(len(arr)):\n",
    "        arr[i]=map[arr[i]]\n",
    "\n",
    "if __name__ == '__main__':\n",
    "    # arr=[10,40,20]\n",
    "    arr=[5, 10, 40, 30, 20]\n",
    "    print(arr)\n",
    "    reduceForm(arr)\n",
    "    print(arr)\n"
   ]
  },
  {
   "cell_type": "markdown",
   "metadata": {},
   "source": [
    "Time Complexity O(nlogn)"
   ]
  },
  {
   "cell_type": "markdown",
   "metadata": {},
   "source": [
    "# Sorting Vector of Pairs (Sorting Vector of Pairs)"
   ]
  },
  {
   "cell_type": "markdown",
   "metadata": {},
   "source": [
    "Using Custom Comparators"
   ]
  },
  {
   "cell_type": "markdown",
   "metadata": {},
   "source": [
    "# Sorting Vector of Pairs (Sort in descending order by first and second)"
   ]
  },
  {
   "cell_type": "markdown",
   "metadata": {},
   "source": [
    "Custom Comparator"
   ]
  },
  {
   "cell_type": "markdown",
   "metadata": {},
   "source": [
    "# Sorting 2D Vector | (By row and column)"
   ]
  },
  {
   "cell_type": "markdown",
   "metadata": {},
   "source": [
    "Using lambda function"
   ]
  },
  {
   "cell_type": "markdown",
   "metadata": {},
   "source": [
    "# Sorting 2D Vector |  (In descending order by row and column)"
   ]
  },
  {
   "cell_type": "code",
   "execution_count": 8,
   "metadata": {},
   "outputs": [
    {
     "name": "stdout",
     "output_type": "stream",
     "text": [
      "[[3, 5, 1], [4, 8, 6], [7, 2, 9]]\n",
      "[[7, 2, 9], [3, 5, 1], [4, 8, 6]]\n"
     ]
    }
   ],
   "source": [
    "def sortVector(arr):\n",
    "    arr=sorted(arr,key=lambda x: x[1])\n",
    "    return arr\n",
    "\n",
    "if __name__ == '__main__':\n",
    "    arr=[[3,5,1],[4,8,6],[7,2,9]]\n",
    "    print(arr)\n",
    "    arr=sortVector(arr)\n",
    "    print(arr)\n"
   ]
  },
  {
   "cell_type": "markdown",
   "metadata": {},
   "source": [
    "# Sorting 2D Vector | (By number of columns)"
   ]
  },
  {
   "cell_type": "code",
   "execution_count": 9,
   "metadata": {},
   "outputs": [
    {
     "name": "stdout",
     "output_type": "stream",
     "text": [
      "[[1, 2], [3, 4, 5], [6]]\n",
      "[[6], [1, 2], [3, 4, 5]]\n"
     ]
    }
   ],
   "source": [
    "def sortByNumberOfCol(arr):\n",
    "    arr=sorted(arr,key=lambda x: len(x),reverse=False)\n",
    "    return arr\n",
    "\n",
    "if __name__ == '__main__':\n",
    "    arr=[[1,2],[3,4,5],[6]]\n",
    "    print(arr)\n",
    "    arr=sortByNumberOfCol(arr)\n",
    "    print(arr)\n"
   ]
  },
  {
   "cell_type": "markdown",
   "metadata": {},
   "source": [
    "# Find Surpasser Count of each element in array"
   ]
  },
  {
   "cell_type": "markdown",
   "metadata": {},
   "source": [
    "A surpasser of an element of an array is a greater element to its right, therefore x[j] is a surpasser of x[i] if i < j and x[i] < x[j]. The surpasser count of an element is the number of surpassers. Given an array of distinct integers, for each element of the array find its surpasser count i.e. count the number of elements to the right that are greater than that element."
   ]
  },
  {
   "cell_type": "markdown",
   "metadata": {},
   "source": [
    "Naive approach-> Check for each element, Time Complexity O(n^2) Space Complexity O(n)"
   ]
  },
  {
   "cell_type": "code",
   "execution_count": 11,
   "metadata": {},
   "outputs": [
    {
     "name": "stdout",
     "output_type": "stream",
     "text": [
      "[4, 1, 1, 1, 2, 0, 0]\n"
     ]
    }
   ],
   "source": [
    "def findSurpassers(arr):\n",
    "    n=len(arr)\n",
    "    surpassers=[0]*n\n",
    "    for i in range(n):\n",
    "        for j in range(i+1,n):\n",
    "            if arr[i]<arr[j]:\n",
    "                surpassers[i]+=1\n",
    "    return surpassers\n",
    "\n",
    "if __name__ == '__main__':\n",
    "    arr=[2, 7, 5, 3, 0, 8, 1]\n",
    "    surpassers=findSurpassers(arr)\n",
    "    print(surpassers)\n"
   ]
  },
  {
   "cell_type": "markdown",
   "metadata": {},
   "source": [
    "Approach 2-> Using Merge Sort, For any element of the array, we can easily find out number of elements to the right that are greater than that element if we know number of elements to its right that are less than that element. The idea is to count the number of inversions for each element of the array using merge sort. So, surpasser count of an element at position i will be equal to “n – i – inversion-count” at that position where n is the size of the array.\n",
    "\n"
   ]
  },
  {
   "cell_type": "code",
   "execution_count": 12,
   "metadata": {},
   "outputs": [
    {
     "name": "stdout",
     "output_type": "stream",
     "text": [
      "[4, 1, 1, 1, 2, 0, 0]\n"
     ]
    }
   ],
   "source": [
    "def findInversions(arr,map):\n",
    "    if len(arr)<=1:\n",
    "        return 0\n",
    "    mid=len(arr)//2\n",
    "    left=arr[:mid]\n",
    "    right=arr[mid:]\n",
    "    count=0\n",
    "    findInversions(left,map)\n",
    "    findInversions(right,map)\n",
    "\n",
    "    i=j=k=0\n",
    "    n1=len(left)\n",
    "    n2=len(right)\n",
    "    count=0\n",
    "    while i<n1 and j<n2:\n",
    "        if left[i]<right[j]:\n",
    "            map[left[i]]+=count\n",
    "            arr[k]=left[i]\n",
    "            i+=1\n",
    "            k+=1\n",
    "        else:\n",
    "            count+=1\n",
    "            arr[k]=right[j]\n",
    "            j+=1\n",
    "            k+=1\n",
    "    while i<n1:\n",
    "        map[left[i]]+=count\n",
    "        arr[k]=left[i]\n",
    "        i+=1\n",
    "        k+=1\n",
    "    while j<n2:\n",
    "        arr[k]=right[j]\n",
    "        j+=1\n",
    "        k+=1\n",
    "\n",
    "def findSurpassers(arr):\n",
    "    map={arr[i]:0 for i in range(len(arr))}\n",
    "    dup=arr[:]\n",
    "    findInversions(dup,map)\n",
    "    # print(map)\n",
    "    n=len(arr)\n",
    "    result=[0]*n\n",
    "    for i in range(n):\n",
    "        result[i]=(n-1)-i-map[arr[i]]\n",
    "    return result\n",
    "\n",
    "if __name__ == '__main__':\n",
    "    arr=[2,7,5,3,0,8,1]\n",
    "    print(findSurpassers(arr))\n"
   ]
  },
  {
   "cell_type": "markdown",
   "metadata": {},
   "source": [
    "# Rearrange positive and negative numbers with constant extra space"
   ]
  },
  {
   "cell_type": "markdown",
   "metadata": {},
   "source": [
    "Approach 1-> Modified Quick Sort"
   ]
  },
  {
   "cell_type": "code",
   "execution_count": 2,
   "metadata": {},
   "outputs": [
    {
     "name": "stdout",
     "output_type": "stream",
     "text": [
      "[-13, -5, -7, -3, -6, 12, 5, 11, 6]\n"
     ]
    }
   ],
   "source": [
    "def rearrange(arr):\n",
    "    low=0\n",
    "    n=len(arr)\n",
    "    high=len(arr)-1\n",
    "    i=-1\n",
    "    j=low\n",
    "    for j in range(n):\n",
    "        if arr[j]<0:\n",
    "            i+=1\n",
    "            arr[i],arr[j]=arr[j],arr[i]\n",
    "\n",
    "    print(arr)\n",
    "\n",
    "if __name__ == '__main__':\n",
    "    arr=[12,11,-13,-5,6,-7,5,-3,-6]\n",
    "    rearrange(arr)\n"
   ]
  },
  {
   "cell_type": "markdown",
   "metadata": {},
   "source": [
    "Time Complexity O(n)"
   ]
  },
  {
   "cell_type": "markdown",
   "metadata": {},
   "source": [
    "Approach 2-> Modified Insertion Sort"
   ]
  },
  {
   "cell_type": "code",
   "execution_count": 3,
   "metadata": {},
   "outputs": [
    {
     "name": "stdout",
     "output_type": "stream",
     "text": [
      "[-13, -5, -7, -3, -6, 12, 11, 6, 5]\n"
     ]
    }
   ],
   "source": [
    "def rearrange(arr):\n",
    "    n=len(arr)\n",
    "    for i in range(n):\n",
    "        if arr[i]<0:\n",
    "            key=arr[i]\n",
    "            j=i-1\n",
    "            while j>=0 and arr[j]>0:\n",
    "                arr[j+1]=arr[j]\n",
    "                j-=1\n",
    "            arr[j+1]=key\n",
    "\n",
    "if __name__ == '__main__':\n",
    "    arr=[12,11,-13,-5,6,-7,5,-3,-6]\n",
    "    rearrange(arr)\n",
    "    print(arr)\n"
   ]
  },
  {
   "cell_type": "markdown",
   "metadata": {},
   "source": [
    "Maintains Order"
   ]
  },
  {
   "cell_type": "markdown",
   "metadata": {},
   "source": [
    "# Sort an array according to count of set bits"
   ]
  },
  {
   "cell_type": "markdown",
   "metadata": {},
   "source": [
    "Approach 1-> Custom Comparator"
   ]
  },
  {
   "cell_type": "code",
   "execution_count": 4,
   "metadata": {},
   "outputs": [
    {
     "name": "stdout",
     "output_type": "stream",
     "text": [
      "[15, 7, 5, 3, 9, 6, 2, 4, 32]\n"
     ]
    }
   ],
   "source": [
    "from functools import cmp_to_key\n",
    "\n",
    "global map,position\n",
    "\n",
    "def compare(first,second):\n",
    "    if map[first].count(\"1\")>map[second].count(\"1\"):\n",
    "        return -1\n",
    "    elif map[first].count(\"1\")<map[second].count(\"1\"):\n",
    "        return 1\n",
    "    else:\n",
    "        if position[first]<position[second]:\n",
    "            return -1\n",
    "        else:\n",
    "            return 1\n",
    "\n",
    "def sortArray(arr):\n",
    "    global map,position\n",
    "    map={i:bin(i).replace(\"0b\",\"\")  for i in arr}\n",
    "    position={arr[i]:i for i in range(len(arr))}\n",
    "    arr=sorted(arr,key=cmp_to_key(compare))\n",
    "    return arr\n",
    "\n",
    "if __name__ == '__main__':\n",
    "    arr=[5, 2, 3, 9, 4, 6, 7, 15, 32]\n",
    "    arr=sortArray(arr)\n",
    "    print(arr)\n"
   ]
  },
  {
   "cell_type": "markdown",
   "metadata": {},
   "source": [
    "# Counting the number of set bits"
   ]
  },
  {
   "cell_type": "code",
   "execution_count": 6,
   "metadata": {},
   "outputs": [
    {
     "name": "stdout",
     "output_type": "stream",
     "text": [
      "4\n"
     ]
    }
   ],
   "source": [
    "num=15\n",
    "count=0\n",
    "while num:\n",
    "    if num&1:\n",
    "        count+=1\n",
    "    num=num>>1\n",
    "print(count)"
   ]
  },
  {
   "cell_type": "markdown",
   "metadata": {},
   "source": [
    "Approach 2 can be to maintain an auxiliary array of set bits and sort the arrays aux and array together using some stable sort algorithm [insertion sort]"
   ]
  },
  {
   "cell_type": "markdown",
   "metadata": {},
   "source": [
    "# Count distinct occurrences as a subsequence"
   ]
  },
  {
   "cell_type": "markdown",
   "metadata": {},
   "source": [
    "Given a two strings S and T, find the count of distinct occurrences of T in S as a subsequence."
   ]
  },
  {
   "cell_type": "markdown",
   "metadata": {},
   "source": [
    "Approach->\n",
    "\n",
    "a- If the last character of S and T do not match, then remove the last character of S and call the recursive function again. Because the last character of S cannot be a part of the subsequence or remove it and check for other characters.\n",
    "\n",
    "\n",
    "b-If the last character of S match then there can be two possibilities, first there can be a subsequence where the last character of S is a part of it and second where it is not a part of the subsequence. So the required value will be the sum of both. Call the recursive function once with last character of both the strings removed and again with only last character of S removed."
   ]
  },
  {
   "cell_type": "code",
   "execution_count": 1,
   "metadata": {},
   "outputs": [
    {
     "name": "stdout",
     "output_type": "stream",
     "text": [
      "3\n"
     ]
    }
   ],
   "source": [
    "def getDistictSubstring(s,t):\n",
    "    m=len(t)\n",
    "    n=len(s)\n",
    "    lookup=[[0 for j in range(n+1)] for i in range(m+1)]\n",
    "    for i in range(m+1):\n",
    "        lookup[0][i]=1\n",
    "        # empty string is a subsequence of any string\n",
    "\n",
    "    for i in range(1,m+1):\n",
    "        for j in range(1,n+1):\n",
    "            if t[i-1]==s[j-1]:\n",
    "                lookup[i][j]=lookup[i-1][j-1]+lookup[i][j-1]\n",
    "                # all the substrings without the last character in s and t + all the substring without the last character in s\n",
    "            else:\n",
    "                lookup[i][j]=lookup[i][j-1]\n",
    "    return lookup[m][n]\n",
    "\n",
    "if __name__ == '__main__':\n",
    "    s=\"banana\"\n",
    "    t=\"ban\"\n",
    "    count=getDistictSubstring(s,t)\n",
    "    print(count)\n"
   ]
  },
  {
   "cell_type": "markdown",
   "metadata": {},
   "source": [
    "Time complexity -O(m* n) and Space Complexity O(m* n), m=len(s), n=len(t) "
   ]
  },
  {
   "cell_type": "markdown",
   "metadata": {},
   "source": [
    "Note: Since lookup[i][j] accesses elements of the current row and previous row only, we can optimize auxiliary space just by using two rows only reducing space from m*n to 2*n."
   ]
  },
  {
   "cell_type": "markdown",
   "metadata": {},
   "source": [
    "# Minimum number of swaps required to sort an array"
   ]
  },
  {
   "cell_type": "markdown",
   "metadata": {},
   "source": [
    "Approach 1-> Sort the array using the selection sort algorithm as we can sort the array using this approach in min number of swaps"
   ]
  },
  {
   "cell_type": "markdown",
   "metadata": {},
   "source": [
    "Approach 2-> Graph Based approach. Idea -> We will form cycles and swaps will be the (size of cycle-1)"
   ]
  },
  {
   "cell_type": "code",
   "execution_count": 2,
   "metadata": {},
   "outputs": [
    {
     "name": "stdout",
     "output_type": "stream",
     "text": [
      "4\n"
     ]
    }
   ],
   "source": [
    "def findMinSwaps(arr):\n",
    "    n=len(arr)\n",
    "    arrPos=[*enumerate(arr)]\n",
    "    arrPos.sort(key=lambda x:x[1])\n",
    "    ans=0\n",
    "    visited={i:False for i in range(len(arr))}\n",
    "    for i in range(n):\n",
    "        if visited[i] or arrPos[i][0]==i:\n",
    "            continue\n",
    "\n",
    "        cycleSize=0\n",
    "        j=i\n",
    "        while not visited[j]:\n",
    "            visited[j]=True\n",
    "            j=arrPos[j][0]\n",
    "            cycleSize+=1\n",
    "\n",
    "        if cycleSize>0:\n",
    "            ans+=(cycleSize-1)\n",
    "\n",
    "    return ans\n",
    "\n",
    "if __name__ == '__main__':\n",
    "    arr=[2,5,4,1,3]\n",
    "    print(findMinSwaps(arr))\n"
   ]
  },
  {
   "cell_type": "markdown",
   "metadata": {},
   "source": [
    "Time Complexity O(nlogn) and Space Complexity O(n)"
   ]
  },
  {
   "cell_type": "markdown",
   "metadata": {},
   "source": [
    "# Number of swaps to sort when only adjacent swapping allowed"
   ]
  },
  {
   "cell_type": "markdown",
   "metadata": {},
   "source": [
    "Bubble sort swaps the adjacent elements"
   ]
  },
  {
   "cell_type": "code",
   "execution_count": 4,
   "metadata": {},
   "outputs": [
    {
     "name": "stdout",
     "output_type": "stream",
     "text": [
      "5\n"
     ]
    }
   ],
   "source": [
    "def getNumberOfSwaps(arr):\n",
    "    swaps=0\n",
    "    n=len(arr)\n",
    "    for i in range(n):\n",
    "        for j in range(n-i-1):\n",
    "            if arr[j]>arr[j+1]:\n",
    "                arr[j],arr[j+1]=arr[j+1],arr[j]\n",
    "                swaps+=1\n",
    "    return swaps\n",
    "\n",
    "if __name__ == '__main__':\n",
    "    arr=[1, 20, 6, 4, 5]\n",
    "    # arr=[3, 2, 1]\n",
    "    print(getNumberOfSwaps(arr))\n"
   ]
  },
  {
   "cell_type": "markdown",
   "metadata": {},
   "source": [
    "Approach 2-> We can see that the swaps we make are actually the inversions in te array, so we just need to count the number of inversions to get the answer"
   ]
  },
  {
   "cell_type": "code",
   "execution_count": 5,
   "metadata": {},
   "outputs": [
    {
     "name": "stdout",
     "output_type": "stream",
     "text": [
      "5\n"
     ]
    }
   ],
   "source": [
    "def getMinNumberOfSwaps(arr):\n",
    "    if len(arr)<=1:\n",
    "        return 0\n",
    "    mid=len(arr)//2\n",
    "    left=arr[:mid]\n",
    "    right=arr[mid:]\n",
    "    count=0\n",
    "    count+=getMinNumberOfSwaps(left)\n",
    "    count+=getMinNumberOfSwaps(right)\n",
    "\n",
    "    i=j=k=0\n",
    "\n",
    "    n1=len(left)\n",
    "    n2=len(right)\n",
    "\n",
    "    while i<n1 and j<n2:\n",
    "        if left[i]<right[j]:\n",
    "            arr[k]=left[i]\n",
    "            i+=1\n",
    "            k+=1\n",
    "        else:\n",
    "            count+=(mid-i)\n",
    "            arr[k]=right[j]\n",
    "            j+=1\n",
    "            k+=1\n",
    "\n",
    "    while i<n1:\n",
    "        arr[k]=left[i]\n",
    "        i+=1\n",
    "        k+=1\n",
    "\n",
    "    while j<n2:\n",
    "        arr[k]=right[j]\n",
    "        j+=1\n",
    "        k+=1\n",
    "\n",
    "    return count\n",
    "\n",
    "if __name__ == '__main__':\n",
    "    arr=[1, 20, 6, 4, 5]\n",
    "    print(getMinNumberOfSwaps(arr))\n",
    "    # print(arr)\n"
   ]
  },
  {
   "cell_type": "markdown",
   "metadata": {},
   "source": [
    "Time Complexity O(nlogn)"
   ]
  },
  {
   "cell_type": "markdown",
   "metadata": {},
   "source": [
    "# Minimum swaps to make two arrays identical"
   ]
  },
  {
   "cell_type": "markdown",
   "metadata": {},
   "source": [
    "Given two arrays that have the same values but in a different order, we need to make a second array the same as a first array using the minimum number of swaps. "
   ]
  },
  {
   "cell_type": "markdown",
   "metadata": {},
   "source": [
    "Approach-> The sorting order can be determined by the first array and then we can use the graph based approach to find the minimum number of swaps based on the cycle method"
   ]
  },
  {
   "cell_type": "code",
   "execution_count": 6,
   "metadata": {},
   "outputs": [
    {
     "name": "stdout",
     "output_type": "stream",
     "text": [
      "2\n"
     ]
    }
   ],
   "source": [
    "def getMinSwaps(arr1,arr2):\n",
    "    pos={arr1[i]:i for i in range(len(arr1))}\n",
    "    arrPos=[(pos[i],i) for i in arr2]\n",
    "    # print(arrPos)\n",
    "    ans=0\n",
    "    visited={i:False for i in range(len(arrPos))}\n",
    "    for i in range(len(arrPos)):\n",
    "        if visited[i] or arrPos[i][0]==i:\n",
    "            continue\n",
    "\n",
    "        j=i\n",
    "        cycleSize=0\n",
    "        while not visited[j]:\n",
    "            visited[j]=True\n",
    "            j=arrPos[j][0]\n",
    "            cycleSize+=1\n",
    "\n",
    "        if cycleSize>0:\n",
    "            ans+=(cycleSize-1)\n",
    "\n",
    "    return ans\n",
    "\n",
    "if __name__ == '__main__':\n",
    "    arr1=[3, 6, 4, 8]\n",
    "    arr2=[4, 6, 8, 3]\n",
    "    print(getMinSwaps(arr1,arr2))\n"
   ]
  },
  {
   "cell_type": "markdown",
   "metadata": {},
   "source": [
    "# Find elements larger than half of the elements in an array"
   ]
  },
  {
   "cell_type": "markdown",
   "metadata": {},
   "source": [
    "Given an array of n elements, the task is to find the elements that are greater than half of elements in an array. In case of odd elements, we need to print elements larger than floor(n/2) elements where n is total number of elements in array."
   ]
  },
  {
   "cell_type": "markdown",
   "metadata": {},
   "source": [
    "Approach -> Sort the array, k=n/2 and from k to n print the elements"
   ]
  },
  {
   "cell_type": "code",
   "execution_count": 7,
   "metadata": {},
   "outputs": [
    {
     "name": "stdout",
     "output_type": "stream",
     "text": [
      "4 6 "
     ]
    }
   ],
   "source": [
    "def getElementsLargerThanHalf(arr):\n",
    "    n=len(arr)\n",
    "    k=n//2\n",
    "    arr.sort()\n",
    "    for i in range(k,n):\n",
    "        print(arr[i],end=\" \")\n",
    "\n",
    "if __name__ == '__main__':\n",
    "    # arr=[10, 4, 2, 8, 9]\n",
    "    arr=[1, 6, 3, 4]\n",
    "    getElementsLargerThanHalf(arr)\n"
   ]
  },
  {
   "cell_type": "markdown",
   "metadata": {},
   "source": [
    "# Count minimum number of subsets (or subsequences) with consecutive numbers"
   ]
  },
  {
   "cell_type": "markdown",
   "metadata": {},
   "source": [
    "Given an array of distinct positive numbers, the task is to calculate the number of subsets (or subsequences) from the array such that each subset contains consecutive numbers."
   ]
  },
  {
   "cell_type": "markdown",
   "metadata": {},
   "source": [
    "Input :  arr[] = {100, 56, 5, 6, 102, 58, \n",
    "                            101, 57, 7, 103, 59}\n",
    "Output : 3\n",
    "{5, 6, 7}, { 56, 57, 58, 59}, {100, 101, 102, 103}\n",
    "are 3 subset in which numbers are consecutive.\n"
   ]
  },
  {
   "cell_type": "markdown",
   "metadata": {},
   "source": [
    "Approach - Sort the array and find the subsequences"
   ]
  },
  {
   "cell_type": "code",
   "execution_count": 8,
   "metadata": {},
   "outputs": [
    {
     "name": "stdout",
     "output_type": "stream",
     "text": [
      "4\n"
     ]
    }
   ],
   "source": [
    "def getMinSubsets(arr):\n",
    "    arr.sort()\n",
    "    i=0\n",
    "    n=len(arr)\n",
    "    count=0\n",
    "    # for i in range(n-1):\n",
    "    #     if (arr[i] + 1 != arr[i + 1]):\n",
    "    #         count = count + 1\n",
    "    #\n",
    "    # return count\n",
    "    while True:\n",
    "        subsequence=False\n",
    "        if i<n-1 and (arr[i+1]-arr[i])==1:\n",
    "            subsequence=True\n",
    "            # print(i)\n",
    "            while i<n-1 and arr[i+1]-arr[i]==1:\n",
    "                i+=1\n",
    "            count+=1\n",
    "        else:\n",
    "            count+=1\n",
    "        i+=1\n",
    "        if i>=n:\n",
    "            break\n",
    "    return count\n",
    "\n",
    "if __name__ == '__main__':\n",
    "    arr=[100, 56, 5, 6, 102, 63, 58,101, 57, 7, 103, 59]\n",
    "    # arr=[10, 100, 105]\n",
    "    print(getMinSubsets(arr))\n"
   ]
  },
  {
   "cell_type": "markdown",
   "metadata": {},
   "source": [
    "Time Complexity O(nlogn)"
   ]
  },
  {
   "cell_type": "markdown",
   "metadata": {},
   "source": [
    "# Sum of all elements between k1’th and k2’th smallest elements"
   ]
  },
  {
   "cell_type": "markdown",
   "metadata": {},
   "source": [
    "Approach 1-> Sorting"
   ]
  },
  {
   "cell_type": "code",
   "execution_count": 1,
   "metadata": {},
   "outputs": [
    {
     "name": "stdout",
     "output_type": "stream",
     "text": [
      "26\n"
     ]
    }
   ],
   "source": [
    "def getSum(arr,k1,k2):\n",
    "    arr.sort()\n",
    "    sum=0\n",
    "    for i in range(k1,k2-1):\n",
    "        sum+=arr[i]\n",
    "\n",
    "    return sum\n",
    "\n",
    "if __name__ == '__main__':\n",
    "    arr=[20, 8, 22, 4, 12, 10, 14]\n",
    "    k1=3\n",
    "    k2=6\n",
    "    print(getSum(arr,k1,k2))\n"
   ]
  },
  {
   "cell_type": "markdown",
   "metadata": {},
   "source": [
    "Approach 2-> Using min heap, create a min heap, first extract k1 elements from heap and next extract k2-k1-1 elements from heap and calculate sum"
   ]
  },
  {
   "cell_type": "code",
   "execution_count": 9,
   "metadata": {},
   "outputs": [
    {
     "name": "stdout",
     "output_type": "stream",
     "text": [
      "26\n"
     ]
    }
   ],
   "source": [
    "from heapq import heapify,heappop\n",
    "\n",
    "def getSum(arr,k1,k2):\n",
    "    heapify(arr)\n",
    "    # time O(n)\n",
    "    for i in range(k1):\n",
    "        heappop(arr)\n",
    "        # time - O(k1logn)\n",
    "    result=0\n",
    "    for i in range(k2-k1-1):\n",
    "        result+=heappop(arr)\n",
    "        # time-O((k2-k1)logn)\n",
    "    return result\n",
    "\n",
    "if __name__ == '__main__':\n",
    "    arr=[20, 8, 22, 4, 12, 10, 14]\n",
    "    k1=3\n",
    "    k2=6\n",
    "    print(getSum(arr,k1,k2))\n"
   ]
  },
  {
   "cell_type": "markdown",
   "metadata": {},
   "source": [
    "Time Complexity - O(n+(k2-k1)logn)"
   ]
  },
  {
   "cell_type": "markdown",
   "metadata": {},
   "source": [
    "# Number of sextuplets (or six values) that satisfy an equation"
   ]
  },
  {
   "cell_type": "markdown",
   "metadata": {},
   "source": [
    "To do"
   ]
  },
  {
   "cell_type": "markdown",
   "metadata": {},
   "source": [
    "# Sort an array according to absolute difference with given value"
   ]
  },
  {
   "cell_type": "markdown",
   "metadata": {},
   "source": [
    "Given an array of n distinct elements and a number x, arrange array elements according to the absolute difference with x, i. e., an element having minimum difference comes first, and so on. \n",
    "Note: If two or more elements are at equal distance arrange them in the same sequence as in the given array."
   ]
  },
  {
   "cell_type": "markdown",
   "metadata": {},
   "source": [
    "Approach 1-> Using custom Comparator"
   ]
  },
  {
   "cell_type": "code",
   "execution_count": 2,
   "metadata": {},
   "outputs": [
    {
     "name": "stdout",
     "output_type": "stream",
     "text": [
      "[5, 9, 10, 3, 2]\n"
     ]
    }
   ],
   "source": [
    "from functools import cmp_to_key\n",
    "\n",
    "def compare(first,second):\n",
    "    if abs(first-x)<abs(second-x):\n",
    "        return -1\n",
    "    elif abs(first-x)>abs(second-x):\n",
    "        return 1\n",
    "    else:\n",
    "        return 0\n",
    "\n",
    "\n",
    "def sortArray(arr,x):\n",
    "    arr.sort(key=cmp_to_key(compare))\n",
    "\n",
    "if __name__ == '__main__':\n",
    "    arr=[10, 5, 3, 9, 2]\n",
    "    global x\n",
    "    x=7\n",
    "    sortArray(arr,x)\n",
    "    print(arr)\n"
   ]
  },
  {
   "cell_type": "markdown",
   "metadata": {},
   "source": [
    "Time Complexity O(nlogn) space complexity O(1)"
   ]
  },
  {
   "cell_type": "markdown",
   "metadata": {},
   "source": [
    "Approach 2-> Create a temporary array of pairs having (value-x,value), sort the array using the first value of the pair and copy the second values to the array"
   ]
  },
  {
   "cell_type": "code",
   "execution_count": 3,
   "metadata": {},
   "outputs": [
    {
     "name": "stdout",
     "output_type": "stream",
     "text": [
      "[6, 3, 2, 8]\n"
     ]
    }
   ],
   "source": [
    "\n",
    "def sortArray(arr,x):\n",
    "\n",
    "    newArr=[(abs(i-x),i) for i in arr]\n",
    "    newArr.sort(key=lambda x:x[0])\n",
    "\n",
    "    for i in range(len(arr)):\n",
    "        arr[i]=newArr[i][1]\n",
    "\n",
    "\n",
    "if __name__ == '__main__':\n",
    "    # arr=[10, 5, 3, 9, 2]\n",
    "    # arr=[1, 2, 3, 4, 5]\n",
    "    arr=[2, 6, 8, 3]\n",
    "    # global x\n",
    "    x=5\n",
    "    sortArray(arr,x)\n",
    "    print(arr)\n"
   ]
  },
  {
   "cell_type": "markdown",
   "metadata": {},
   "source": [
    "Time Complexity O(nlogn) and Space Complexity O(n)"
   ]
  },
  {
   "cell_type": "markdown",
   "metadata": {},
   "source": [
    "# Minimize the sum of product of two arrays with permutations allowed"
   ]
  },
  {
   "cell_type": "markdown",
   "metadata": {},
   "source": [
    "Given two arrays, A and B, of equal size n, the task is to find the minimum value of A[0] * B[0] + A[1] * B[1] +…+ A[n-1] * B[n-1]. Shuffling of elements of arrays A and B is allowed"
   ]
  },
  {
   "cell_type": "markdown",
   "metadata": {},
   "source": [
    "Approach-> Sort one array in ascending and one in descending order and find the sum"
   ]
  },
  {
   "cell_type": "markdown",
   "metadata": {},
   "source": [
    "Time complexity O(nlogn)"
   ]
  },
  {
   "cell_type": "markdown",
   "metadata": {},
   "source": [
    "# Position of an element after stable sort"
   ]
  },
  {
   "cell_type": "markdown",
   "metadata": {},
   "source": [
    "# Chocolate Distribution Problem"
   ]
  },
  {
   "cell_type": "markdown",
   "metadata": {},
   "source": [
    "Given an array of n integers where each value represents the number of chocolates in a packet. Each packet can have a variable number of chocolates. There are m students, the task is to distribute chocolate packets such that: \n",
    "\n",
    "Each student gets one packet.\n",
    "\n",
    "The difference between the number of chocolates in the packet with maximum chocolates and packet with minimum chocolates given to the students is minimum."
   ]
  },
  {
   "cell_type": "markdown",
   "metadata": {},
   "source": [
    "Approach 1-> Find all the subsets and for each subset check for the minimum difference"
   ]
  },
  {
   "cell_type": "markdown",
   "metadata": {},
   "source": [
    "Time Complexity O(n^2)"
   ]
  },
  {
   "cell_type": "markdown",
   "metadata": {},
   "source": [
    "Approach 2-> Sorting and Sliding Window"
   ]
  },
  {
   "cell_type": "code",
   "execution_count": 4,
   "metadata": {},
   "outputs": [
    {
     "name": "stdout",
     "output_type": "stream",
     "text": [
      "10\n"
     ]
    }
   ],
   "source": [
    "def distributeChocolate(arr,m):\n",
    "    diff=float('infinity')\n",
    "    n=len(arr)\n",
    "    arr.sort()\n",
    "    for i in range(n-m+1):\n",
    "        diff=min(diff,arr[i+m-1]-arr[i])\n",
    "    return diff\n",
    "\n",
    "if __name__ == '__main__':\n",
    "    # arr=[7, 3, 2, 4, 9, 12, 56]\n",
    "    # m=3\n",
    "    # arr=[3, 4, 1, 9, 56, 7, 9, 12]\n",
    "    # m=5\n",
    "    arr=[2, 4, 7, 9, 2, 23, 25, 41,30, 40, 28, 42, 30, 44, 48, 43, 50]\n",
    "    m=7\n",
    "    count=distributeChocolate(arr,m)\n",
    "    print(count)\n"
   ]
  },
  {
   "cell_type": "markdown",
   "metadata": {},
   "source": [
    "Time Complexity O(nlogn)"
   ]
  },
  {
   "cell_type": "markdown",
   "metadata": {},
   "source": [
    "# Sort even-placed elements in increasing and odd-placed in decreasing order"
   ]
  },
  {
   "cell_type": "markdown",
   "metadata": {},
   "source": [
    "Approach 1-> Create 2 aux arrays, perform the computation and then merge them "
   ]
  },
  {
   "cell_type": "markdown",
   "metadata": {},
   "source": [
    "Time Complexity O(nlogn) and Space Complexity O(n)"
   ]
  },
  {
   "cell_type": "markdown",
   "metadata": {},
   "source": [
    "Approach 2-> Segregate the even indices and odd indices and then sort ascending and descending "
   ]
  },
  {
   "cell_type": "code",
   "execution_count": 5,
   "metadata": {},
   "outputs": [
    {
     "name": "stdout",
     "output_type": "stream",
     "text": [
      "[1, 2, 3, 6, 8, 7, 9, 4, 5, 0]\n"
     ]
    }
   ],
   "source": [
    "def sortAscending(arr,low,high):\n",
    "    for i in range(low,high):\n",
    "        for j in range(low,high-i-1):\n",
    "            if arr[j]>arr[j+1]:\n",
    "                arr[j],arr[j+1]=arr[j+1],arr[j]\n",
    "\n",
    "def sortDescending(arr,low,high):\n",
    "    for i in range(low,high):\n",
    "        for j in range(low,high-i-1):\n",
    "            if arr[j]<arr[j+1]:\n",
    "                arr[j],arr[j+1]=arr[j+1],arr[j]\n",
    "\n",
    "\n",
    "def sortBitonic(arr):\n",
    "    j=1\n",
    "    i=2\n",
    "    n=len(arr)\n",
    "    while i<n:\n",
    "        arr[i],arr[j]=arr[j],arr[i]\n",
    "        i+=2\n",
    "        j+=1\n",
    "    sortAscending(arr,0,j)\n",
    "    sortDescending(arr,j,n)\n",
    "\n",
    "if __name__ == '__main__':\n",
    "    # arr=[0,1,2,3,4,5,6,7]\n",
    "    arr=[1, 5, 8, 9, 6, 7, 3, 4, 2, 0]\n",
    "    sortBitonic(arr)\n",
    "    print(arr)\n"
   ]
  },
  {
   "cell_type": "markdown",
   "metadata": {},
   "source": [
    "Time Complexity O(nlogn) and Space Complexity O(1)"
   ]
  },
  {
   "cell_type": "markdown",
   "metadata": {},
   "source": [
    "# Permute two arrays such that sum of every pair is greater or equal to K"
   ]
  },
  {
   "cell_type": "markdown",
   "metadata": {},
   "source": [
    "Given two arrays of equal size n and an integer k. The task is to permute both arrays such that sum of their corresponding element is greater than or equal to k i.e a[i] + b[i] >= k. The task is print “Yes” if any such permutation exists, otherwise print “No”."
   ]
  },
  {
   "cell_type": "markdown",
   "metadata": {},
   "source": [
    "Approach -> Sort one array in ascending order and other in descending order. Traverse through, if all satisfy then Yes otherwise No"
   ]
  },
  {
   "cell_type": "markdown",
   "metadata": {},
   "source": [
    "Time Complexity O(nlogn)"
   ]
  },
  {
   "cell_type": "markdown",
   "metadata": {},
   "source": [
    "# Choose k array elements such that difference of maximum and minimum is minimized"
   ]
  },
  {
   "cell_type": "markdown",
   "metadata": {},
   "source": [
    "Approach -> Sorting and Sliding Window, same as chocolate distribution"
   ]
  },
  {
   "cell_type": "code",
   "execution_count": 6,
   "metadata": {},
   "outputs": [
    {
     "name": "stdout",
     "output_type": "stream",
     "text": [
      "3\n"
     ]
    }
   ],
   "source": [
    "def distributeChocolate(arr,m):\n",
    "    diff=float('infinity')\n",
    "    n=len(arr)\n",
    "    arr.sort()\n",
    "    for i in range(n-m+1):\n",
    "        diff=min(diff,arr[i+m-1]-arr[i])\n",
    "    return diff\n",
    "\n",
    "if __name__ == '__main__':\n",
    "    # arr=[7, 3, 2, 4, 9, 12, 56]\n",
    "    # m=3\n",
    "    # arr=[3, 4, 1, 9, 56, 7, 9, 12]\n",
    "    # m=5\n",
    "    # arr=[10, 100, 300, 200, 1000, 20, 30]\n",
    "    # m=3\n",
    "    arr=[1, 2, 3, 4, 10, 20, 30, 40,100, 200]\n",
    "    m=4\n",
    "    count=distributeChocolate(arr,m)\n",
    "    print(count)\n"
   ]
  },
  {
   "cell_type": "markdown",
   "metadata": {},
   "source": [
    "Time Complexity O(nlogn)"
   ]
  },
  {
   "cell_type": "markdown",
   "metadata": {},
   "source": [
    "# Sort an array when two halves are sorted"
   ]
  },
  {
   "cell_type": "markdown",
   "metadata": {},
   "source": [
    "Given an integer array of which both first half and second half are sorted. Task is to merge two sorted halves of array into single sorted array."
   ]
  },
  {
   "cell_type": "markdown",
   "metadata": {},
   "source": [
    "Approach 1-> Simple Sorting"
   ]
  },
  {
   "cell_type": "markdown",
   "metadata": {},
   "source": [
    "Approach 2-> Use 2 auxiliary arrays and use the merge method."
   ]
  },
  {
   "cell_type": "code",
   "execution_count": 1,
   "metadata": {},
   "outputs": [
    {
     "name": "stdout",
     "output_type": "stream",
     "text": [
      "[-1, 2, 3, 7, 8, 10]\n"
     ]
    }
   ],
   "source": [
    "def sortArray(arr):\n",
    "    n=len(arr)\n",
    "    firstHalf=(n-1)//2\n",
    "    secondHalf=n-1-firstHalf\n",
    "    fHalf=[None]*(firstHalf+1)\n",
    "    sHalf=[None]*(secondHalf)\n",
    "    for i in range(firstHalf+1):\n",
    "        fHalf[i]=arr[i]\n",
    "    tIndex=0\n",
    "    for i in range(firstHalf+1,n):\n",
    "        sHalf[tIndex]=arr[i]\n",
    "        tIndex+=1\n",
    "    # print(fHalf)\n",
    "    # print(sHalf)\n",
    "    i=j=k=0\n",
    "    n1=len(fHalf)\n",
    "    n2=len(sHalf)\n",
    "    while i<n1 and j<n2:\n",
    "        if fHalf[i]<sHalf[j]:\n",
    "            arr[k]=fHalf[i]\n",
    "            k+=1\n",
    "            i+=1\n",
    "        else:\n",
    "            arr[k]=sHalf[j]\n",
    "            k+=1\n",
    "            j+=1\n",
    "\n",
    "    while i<n1:\n",
    "        arr[k]=fHalf[i]\n",
    "        k+=1\n",
    "        i+=1\n",
    "\n",
    "    while j<n2:\n",
    "        arr[k]=sHalf[j]\n",
    "        k+=1\n",
    "        j+=1\n",
    "\n",
    "if __name__ == '__main__':\n",
    "    arr=[2, 3, 8, -1, 7, 10]\n",
    "    sortArray(arr)\n",
    "    print(arr)\n"
   ]
  },
  {
   "cell_type": "markdown",
   "metadata": {},
   "source": [
    "Time Complexity O(n), Space Complexity O(n)"
   ]
  },
  {
   "cell_type": "markdown",
   "metadata": {},
   "source": [
    "Approach 3-> Using 2 pointers for merge process and avoiding the auxiliary arays"
   ]
  },
  {
   "cell_type": "code",
   "execution_count": 2,
   "metadata": {},
   "outputs": [
    {
     "name": "stdout",
     "output_type": "stream",
     "text": [
      "[-1, 2, 3, 7, 8, 10]\n"
     ]
    }
   ],
   "source": [
    "from math import ceil\n",
    "\n",
    "def sortArray(arr):\n",
    "    n=len(arr)\n",
    "    i=0\n",
    "    j=ceil(n/2)\n",
    "    while j<n:\n",
    "        if i==j:\n",
    "            j+=1\n",
    "\n",
    "        if j<n and arr[i]>arr[j]:\n",
    "            arr[i],arr[j]=arr[j],arr[i]\n",
    "\n",
    "        i+=1\n",
    "\n",
    "\n",
    "if __name__ == '__main__':\n",
    "    arr=[2, 3, 8, -1, 7, 10]\n",
    "    sortArray(arr)\n",
    "    print(arr)\n"
   ]
  },
  {
   "cell_type": "markdown",
   "metadata": {},
   "source": [
    "Time Complexity O(n) and Space Complexity O(1)"
   ]
  },
  {
   "cell_type": "markdown",
   "metadata": {},
   "source": [
    "# Find pair with greatest product in array"
   ]
  },
  {
   "cell_type": "markdown",
   "metadata": {},
   "source": [
    "Given an array of n elements, the task is to find the greatest number such that it is product of two elements of given array. If no such element exists, print -1. Elements are within the range of 1 to 10^5."
   ]
  },
  {
   "cell_type": "markdown",
   "metadata": {},
   "source": [
    "Approach 1-> Sort the array and for each number from end of the array and check if the pair exists or not"
   ]
  },
  {
   "cell_type": "code",
   "execution_count": 3,
   "metadata": {},
   "outputs": [
    {
     "name": "stdout",
     "output_type": "stream",
     "text": [
      "35\n"
     ]
    }
   ],
   "source": [
    "def findPair(arr):\n",
    "    arr.sort()\n",
    "    n=len(arr)\n",
    "    result=float('-infinity')\n",
    "    for i in range(n-1,-1,-1):\n",
    "        key=arr[i]\n",
    "        low=0\n",
    "        high=n-1\n",
    "        while low<high:\n",
    "            product=arr[low]*arr[high]\n",
    "            if product==key:\n",
    "                return key\n",
    "            if product>key:\n",
    "                high-=1\n",
    "            else:\n",
    "                low+=1\n",
    "    return -1\n",
    "\n",
    "if __name__ == '__main__':\n",
    "    # arr=[10, 3, 5, 30, 35]\n",
    "    # arr=[2, 5, 7, 8]\n",
    "    # arr=[10, 2, 4, 30, 35]\n",
    "    # arr=[10, 2, 2, 4, 30, 35]\n",
    "    arr=[17, 2, 1, 35, 30]\n",
    "    print(findPair(arr))\n"
   ]
  },
  {
   "cell_type": "markdown",
   "metadata": {},
   "source": [
    "Time Complexity O(n^2)"
   ]
  },
  {
   "cell_type": "markdown",
   "metadata": {},
   "source": [
    "Another Approach -> Sort the array; create a hashmap and enter all the values in it, no start picking up each element from the end and check if it is divisible by any number, if yes then check for its other part in the hash map if no move to another number"
   ]
  },
  {
   "cell_type": "code",
   "execution_count": 4,
   "metadata": {},
   "outputs": [
    {
     "name": "stdout",
     "output_type": "stream",
     "text": [
      "4\n"
     ]
    }
   ],
   "source": [
    "from math import sqrt\n",
    "\n",
    "def findPair(arr):\n",
    "    arr.sort()\n",
    "    hashMap={}\n",
    "    for i in arr:\n",
    "        if i in hashMap:\n",
    "            hashMap[i]+=1\n",
    "        else:\n",
    "            hashMap[i]=1\n",
    "    n=len(arr)\n",
    "    for i in range(n-1,-1,-1):\n",
    "        j=0\n",
    "        while j<i and arr[j]<=sqrt(arr[i]):\n",
    "            if arr[i]%arr[j]==0:\n",
    "                result=arr[i]//arr[j]\n",
    "                if result!=arr[j] and (result in hashMap and hashMap[result]>0):\n",
    "                    return arr[i]\n",
    "                if result==arr[j] and (result in hashMap and hashMap[result]>1):\n",
    "                    return arr[i]\n",
    "            j+=1\n",
    "    return -1\n",
    "\n",
    "if __name__ == '__main__':\n",
    "    # arr=[10, 3, 5, 30, 35]\n",
    "    # arr=[2, 5, 7, 8]\n",
    "    # arr=[10, 2, 4, 30, 35]\n",
    "    arr=[10, 2, 2, 4, 30, 35]\n",
    "    # arr=[17, 2, 1, 35, 30]\n",
    "    print(findPair(arr))\n"
   ]
  },
  {
   "cell_type": "markdown",
   "metadata": {},
   "source": [
    "Time Complexity O(nlogn) and Space Complexity O(n)"
   ]
  },
  {
   "cell_type": "markdown",
   "metadata": {},
   "source": [
    "# Minimum swap required to convert binary tree to binary search tree"
   ]
  },
  {
   "cell_type": "markdown",
   "metadata": {},
   "source": [
    "Given the array representation of Complete Binary Tree i.e, if index i is the parent, index 2*i + 1 is the left child and index 2*i + 2 is the right child. The task is to find the minimum number of swap required to convert it into Binary Search Tree."
   ]
  },
  {
   "cell_type": "markdown",
   "metadata": {},
   "source": [
    "Approach-> The inorder traversal of BST has elements in sorted order. So approach is to find the inorder traversal of the binary tree and then question reduces to the min number of swaps to sort the array"
   ]
  },
  {
   "cell_type": "code",
   "execution_count": 5,
   "metadata": {},
   "outputs": [
    {
     "name": "stdout",
     "output_type": "stream",
     "text": [
      "3\n"
     ]
    }
   ],
   "source": [
    "def inorder(arr,newArr,index,n):\n",
    "    if index>=n:\n",
    "        return\n",
    "    inorder(arr,newArr,2*index+1,n)\n",
    "    newArr.append(arr[index])\n",
    "    inorder(arr,newArr,2*index+2,n)\n",
    "\n",
    "def getMinSwapsToConvertBST(arr):\n",
    "    newArr=[]\n",
    "    inorder(arr,newArr,0,len(arr))\n",
    "    posArr=[*enumerate(newArr)]\n",
    "    # print(posArr)\n",
    "    posArr.sort(key=lambda x:x[1])\n",
    "    # print(posArr)\n",
    "    swaps=0\n",
    "    visited={i:False for i in range(len(arr))}\n",
    "    for i in range(len(posArr)):\n",
    "        if visited[i] or posArr[i][0]==i:\n",
    "            continue\n",
    "        cycleSize=0\n",
    "        j=i\n",
    "        while not visited[j]:\n",
    "            visited[j]=True\n",
    "            j=posArr[j][0]\n",
    "            cycleSize+=1\n",
    "        if cycleSize>0:\n",
    "            swaps+=(cycleSize-1)\n",
    "    return swaps\n",
    "\n",
    "\n",
    "if __name__ == '__main__':\n",
    "    arr=[5, 6, 7, 8, 9, 10, 11]\n",
    "    print(getMinSwapsToConvertBST(arr))\n"
   ]
  },
  {
   "cell_type": "markdown",
   "metadata": {},
   "source": [
    "Time Complexity O(nlogn) and Space Complexity O(n)"
   ]
  },
  {
   "cell_type": "markdown",
   "metadata": {},
   "source": [
    "# K-th smallest element after removing some integers from natural numbers"
   ]
  },
  {
   "cell_type": "markdown",
   "metadata": {},
   "source": [
    "Given an array arr[] of size ‘n’ and a positive integer k. Consider series of natural numbers and remove arr[0], arr[1], arr[2], …, arr[p] from it. Now the task is to find k-th smallest number in the remaining set of natural numbers. If no such number exists print “-1”."
   ]
  },
  {
   "cell_type": "markdown",
   "metadata": {},
   "source": [
    "Make an auxiliary array b[] for presence/absence of natural numbers and initialize all with 0. Make all the integer equal to 1 which are present in array arr[] i.e b[arr[i]] = 1. Now, run a loop and decrement k whenever unmarked cell is encountered. When the value of k is 0, we get the answer."
   ]
  },
  {
   "cell_type": "code",
   "execution_count": 6,
   "metadata": {},
   "outputs": [
    {
     "name": "stdout",
     "output_type": "stream",
     "text": [
      "2\n"
     ]
    }
   ],
   "source": [
    "MAX = 1000000\n",
    "# Return the K-th smallest element. \n",
    "def ksmallest(arr, n, k): \n",
    "      \n",
    "    # Making an array, and mark all number as unmarked. \n",
    "    b = [0]*MAX; \n",
    "  \n",
    "    # Marking the number present in the given array. \n",
    "    for i in range(n): \n",
    "        b[arr[i]] = 1; \n",
    "  \n",
    "    for j in range(1, MAX): \n",
    "        # If j is unmarked, reduce k by 1. \n",
    "        if (b[j] != 1): \n",
    "            k-= 1; \n",
    "  \n",
    "        # If k is 0 return j. \n",
    "        if (k is not 1): \n",
    "            return j; \n",
    "              \n",
    "\n",
    "k = 1; \n",
    "arr = [ 1 ]; \n",
    "n = len(arr); \n",
    "print(ksmallest(arr, n, k))"
   ]
  },
  {
   "cell_type": "markdown",
   "metadata": {},
   "source": [
    "Efficient Approach->"
   ]
  },
  {
   "cell_type": "code",
   "execution_count": 8,
   "metadata": {},
   "outputs": [
    {
     "name": "stdout",
     "output_type": "stream",
     "text": [
      "6\n"
     ]
    }
   ],
   "source": [
    "def getSmallestNumber(arr,k):\n",
    "    arr.sort()\n",
    "    for i in arr:\n",
    "        if i<=k:\n",
    "            k+=1\n",
    "    return k\n",
    "\n",
    "if __name__ == '__main__':\n",
    "    arr=[1,3]\n",
    "    k=4\n",
    "    #arr=[1]\n",
    "    #k=1\n",
    "    print(getSmallestNumber(arr,k))\n"
   ]
  },
  {
   "cell_type": "markdown",
   "metadata": {},
   "source": [
    "# Check whether Arithmetic Progression can be formed from the given array"
   ]
  },
  {
   "cell_type": "markdown",
   "metadata": {},
   "source": [
    "Approach 1-> Sort the array and check if the difference is same between all the elements"
   ]
  },
  {
   "cell_type": "code",
   "execution_count": 1,
   "metadata": {},
   "outputs": [
    {
     "name": "stdout",
     "output_type": "stream",
     "text": [
      "False\n"
     ]
    }
   ],
   "source": [
    "def canFormAP(arr):\n",
    "    arr.sort()\n",
    "    d=arr[1]-arr[0]\n",
    "    for i in range(2,len(arr)):\n",
    "        if (arr[i]-arr[i-1])!=d:\n",
    "            return False\n",
    "\n",
    "    return True\n",
    "\n",
    "if __name__ == '__main__':\n",
    "    # arr=[0, 12, 4, 8]\n",
    "    arr=[12, 40, 11, 20]\n",
    "    print(canFormAP(arr))\n"
   ]
  },
  {
   "cell_type": "markdown",
   "metadata": {},
   "source": [
    "Time Complexity O(nlogn)"
   ]
  },
  {
   "cell_type": "markdown",
   "metadata": {},
   "source": [
    "Approach 2-> Create a hashmap and insert all the values in it. Now find the difference of the min and second min element. Now start with second min element and check if the second_min ele_d is there in the hashmap or not, if no return false; otherwise move to next element second_min+d and so on"
   ]
  },
  {
   "cell_type": "code",
   "execution_count": 2,
   "metadata": {},
   "outputs": [
    {
     "name": "stdout",
     "output_type": "stream",
     "text": [
      "True\n",
      "False\n"
     ]
    }
   ],
   "source": [
    "def canFormAP(arr):\n",
    "    hash={}\n",
    "    for i in arr:\n",
    "        if i in hash:\n",
    "            hash[i]+=1\n",
    "        else:\n",
    "            hash[i]=1\n",
    "    minimum=float('infinity')\n",
    "    second_min=float('infinity')\n",
    "    maximum=float('-infinity')\n",
    "    for i in range(len(arr)):\n",
    "        if arr[i]>maximum:\n",
    "            maximum=arr[i]\n",
    "        if arr[i]<minimum:\n",
    "            second_min=minimum\n",
    "            minimum=arr[i]\n",
    "        elif arr[i]<second_min:\n",
    "            second_min=arr[i]\n",
    "    d=second_min-minimum\n",
    "    curr=second_min\n",
    "\n",
    "    while curr<maximum:\n",
    "        if curr+d not in hash:\n",
    "            return False\n",
    "        curr=curr+d\n",
    "\n",
    "    return True\n",
    "\n",
    "if __name__ == '__main__':\n",
    "    arr=[0, 12, 4, 8]\n",
    "    print(canFormAP(arr))\n",
    "    arr=[12, 40, 11, 20]\n",
    "    print(canFormAP(arr))\n"
   ]
  },
  {
   "cell_type": "code",
   "execution_count": null,
   "metadata": {},
   "outputs": [],
   "source": []
  }
 ],
 "metadata": {
  "kernelspec": {
   "display_name": "Python 3",
   "language": "python",
   "name": "python3"
  },
  "language_info": {
   "codemirror_mode": {
    "name": "ipython",
    "version": 3
   },
   "file_extension": ".py",
   "mimetype": "text/x-python",
   "name": "python",
   "nbconvert_exporter": "python",
   "pygments_lexer": "ipython3",
   "version": "3.7.6"
  }
 },
 "nbformat": 4,
 "nbformat_minor": 4
}
